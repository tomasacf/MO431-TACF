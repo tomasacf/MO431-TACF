{
 "cells": [
  {
   "cell_type": "markdown",
   "id": "835fbc92-8017-4784-8ac7-8c557ad5cb92",
   "metadata": {},
   "source": [
    "# Tarefa 2 - Implementação de SVD e SoftImpute"
   ]
  },
  {
   "cell_type": "markdown",
   "id": "a2926cd3-87b9-46e1-b3bb-51419e96706d",
   "metadata": {},
   "source": [
    "Aluno: Tomás Aguiar Carneiro Ferreira\n",
    "\n",
    "RA: 177748"
   ]
  },
  {
   "cell_type": "code",
   "execution_count": 2,
   "id": "64e6b9fd-1b91-492b-bd6c-136d23b53a3d",
   "metadata": {},
   "outputs": [],
   "source": [
    "import random\n",
    "from functools import lru_cache\n",
    "import os\n",
    "import math\n",
    "import mpmath as mp\n",
    "from scipy.spatial import distance\n",
    "from sklearn.impute import SimpleImputer\n",
    "\n",
    "#Função que será utilizada para embaralhar os dados, caso necessário\n",
    "from sklearn.utils import shuffle \n",
    "\n",
    "#Função que utilizaremos para cálculo de média\n",
    "from sklearn.preprocessing import StandardScaler\n",
    "\n",
    "import time\n",
    "import numpy as np\n",
    "import pandas as pd\n",
    "import jax.numpy as jnp\n",
    "from matplotlib import pyplot as plt\n",
    "#import tensorflow as tf\n",
    "#from tensorflow import keras\n",
    "\n",
    "import sklearn.preprocessing\n",
    "from sklearn.preprocessing import LabelEncoder\n",
    "\n"
   ]
  },
  {
   "cell_type": "markdown",
   "id": "5a30bf49-32b7-48e4-a9d8-1d36311cd57b",
   "metadata": {},
   "source": [
    "# 1. Preparo dos Dados"
   ]
  },
  {
   "cell_type": "markdown",
   "id": "9e86d643-e116-450f-8858-926a9d6b41eb",
   "metadata": {},
   "source": [
    "O dataset a ser utilizado para esta tarefa consiste de amostras de 100000 ratings de 1682 filmes por 943 usuários. Como podemos ver através da análise abaixo, estes ratings são números de 1 a 5 que medem - supostamente - o quanto um determinado usuário gosta de um determinado filme."
   ]
  },
  {
   "cell_type": "code",
   "execution_count": 3,
   "id": "09f411e0-5166-4cac-8357-c24a43baa4fe",
   "metadata": {},
   "outputs": [
    {
     "name": "stdout",
     "output_type": "stream",
     "text": [
      "   user_id  movie_id  rating  timestamp\n",
      "0      196       242       3  881250949\n",
      "1      186       302       3  891717742\n",
      "2       22       377       1  878887116\n",
      "3      244        51       2  880606923\n",
      "4      166       346       1  886397596\n",
      "(100000, 4)\n"
     ]
    }
   ],
   "source": [
    "#Leitura dos dados, colunas sem nome\n",
    "df1 = pd.read_table('ml-100k/u.data', header = None)\n",
    "\n",
    "#Através do 'readme' dos dados, sabemos o significado de cada coluna de u.data, então mudamos o nome para facilitar nossa compreensão\n",
    "df1.columns = ['user_id', 'movie_id', 'rating', 'timestamp']\n",
    "\n",
    "print(df1.head())\n",
    "print(df1.shape)"
   ]
  },
  {
   "cell_type": "code",
   "execution_count": 4,
   "id": "6ecd39b8-5a07-45e4-b933-733ddb27cbda",
   "metadata": {
    "scrolled": true
   },
   "outputs": [
    {
     "data": {
      "text/plain": [
       "4    34174\n",
       "3    27145\n",
       "5    21201\n",
       "2    11370\n",
       "1     6110\n",
       "Name: rating, dtype: int64"
      ]
     },
     "execution_count": 4,
     "metadata": {},
     "output_type": "execute_result"
    }
   ],
   "source": [
    "df1['rating'].value_counts()"
   ]
  },
  {
   "cell_type": "code",
   "execution_count": 5,
   "id": "bc58dc43-cc51-4914-bb3f-40d8f44324e1",
   "metadata": {},
   "outputs": [
    {
     "data": {
      "text/plain": [
       "100000"
      ]
     },
     "execution_count": 5,
     "metadata": {},
     "output_type": "execute_result"
    }
   ],
   "source": [
    "sum(df1['rating'].value_counts())"
   ]
  },
  {
   "cell_type": "code",
   "execution_count": 6,
   "id": "8bd7ac76-5243-4481-bc46-04b8f7329a8a",
   "metadata": {},
   "outputs": [
    {
     "name": "stdout",
     "output_type": "stream",
     "text": [
      "943 1682\n"
     ]
    }
   ],
   "source": [
    "print(df1['user_id'].nunique(),df1['movie_id'].nunique())"
   ]
  },
  {
   "cell_type": "markdown",
   "id": "9c1e3cdc-a02e-446a-bcde-c779d70816b9",
   "metadata": {},
   "source": [
    "Nosso objetivo inicial será, então, preparar uma matriz Usuário-Filme (943 x 1682), em que interpretamos cada linha como uma amostragem de um determinado usuário aleatório e cada coluna como features do seu gosto por filme, especificada por cada filme do dataset. "
   ]
  },
  {
   "cell_type": "markdown",
   "id": "f8a882ec-e4ea-469d-8535-63e9db08b610",
   "metadata": {},
   "source": [
    "## 1.1. Montando a Matriz Usuário-Filme"
   ]
  },
  {
   "cell_type": "markdown",
   "id": "ab169b05-a68d-4f49-ac41-50cbff5e4777",
   "metadata": {},
   "source": [
    "A matriz de dados (100000, 4) corresponde a todos os dados não-nulos que temos a nossa disposição. No entanto, não é esta a matriz de dados que queremos tratar no projeto: queremos a matriz com <b>todas</b> as combinações possíveis de Usuário-Filme, ainda que o usuário não tenha dado nota ao filme. Inicialmente, o valor default do rating será '0', para gerarmos um plot visual dos dados.\n",
    "\n",
    "Mais na frente, trocaremos o valor default para 'NaN', por que uma das formas que iremos preencher os dados vazios será através da média dos ratings de cada filme, e o valor 'NaN' é automaticamente desconsiderado do cálculo da média."
   ]
  },
  {
   "cell_type": "code",
   "execution_count": 7,
   "id": "3366757f-cf76-47c3-aeb5-0d30aeac3d27",
   "metadata": {},
   "outputs": [
    {
     "name": "stdout",
     "output_type": "stream",
     "text": [
      "(943, 1682)\n"
     ]
    }
   ],
   "source": [
    "#Matriz vazia, com dimensões desejadas\n",
    "null_array = [[0 for col in range(df1['movie_id'].nunique())] for row in range(df1['user_id'].nunique())]\n",
    "print(np.shape(null_array))"
   ]
  },
  {
   "cell_type": "code",
   "execution_count": 8,
   "id": "d019428c-3268-4a94-82a6-0089c3208a5f",
   "metadata": {},
   "outputs": [
    {
     "name": "stdout",
     "output_type": "stream",
     "text": [
      "       user_id  movie_id  rating\n",
      "0           84         1       2\n",
      "1          806         1       4\n",
      "2          768         1       5\n",
      "3           92         1       4\n",
      "4          419         1       4\n",
      "...        ...       ...     ...\n",
      "99995      863      1678       1\n",
      "99996      863      1679       3\n",
      "99997      863      1680       2\n",
      "99998      896      1681       3\n",
      "99999      916      1682       3\n",
      "\n",
      "[100000 rows x 3 columns]\n"
     ]
    }
   ],
   "source": [
    "#Para reduzir a complexidade das iterações 'while', vamos deixar a matriz de dados ordenada em termos do movie_id\n",
    "df2 = df1.sort_values('movie_id')\n",
    "df2 = df2.reset_index()\n",
    "\n",
    "#Excluímos dados desnecessários\n",
    "df1 = df1.drop(['timestamp'], axis = 'columns')\n",
    "df2 = df2.drop(['index','timestamp'], axis = 'columns')\n",
    "print(df2)"
   ]
  },
  {
   "cell_type": "code",
   "execution_count": 9,
   "id": "dc5e986f-dbe9-4552-9f11-9028179e0164",
   "metadata": {},
   "outputs": [
    {
     "data": {
      "text/plain": [
       "100000"
      ]
     },
     "execution_count": 9,
     "metadata": {},
     "output_type": "execute_result"
    }
   ],
   "source": [
    "df2['movie_id'].value_counts()[1]\n",
    "df2.shape[0]"
   ]
  },
  {
   "cell_type": "code",
   "execution_count": 10,
   "id": "442d3daa-8f6f-4c4d-8b00-7169140c6e2b",
   "metadata": {},
   "outputs": [
    {
     "name": "stdout",
     "output_type": "stream",
     "text": [
      "3.6961774000000105\n"
     ]
    }
   ],
   "source": [
    "#Transforma o dataframe numa matriz de dados\n",
    "start = time.perf_counter()\n",
    "data_array = null_array\n",
    "i = 0\n",
    "buffer = 0\n",
    "while i < df1.shape[0]:\n",
    "    data_array[df1['user_id'].iloc[i]-1][df1['movie_id'].iloc[i]-1] = df1['rating'].iloc[i]\n",
    "    i+=1\n",
    "end = time.perf_counter()\n",
    "print(end-start)"
   ]
  },
  {
   "cell_type": "code",
   "execution_count": 11,
   "id": "3abb6aac-7f24-4e71-acc4-b273939276c9",
   "metadata": {},
   "outputs": [
    {
     "name": "stdout",
     "output_type": "stream",
     "text": [
      "100000\n"
     ]
    }
   ],
   "source": [
    "i = 0\n",
    "s = 0\n",
    "while i < len(data_array):\n",
    "    j = 0\n",
    "    while j < len(data_array[0]):\n",
    "        if data_array[i][j] != 0:\n",
    "            s+=1\n",
    "        j+=1\n",
    "    i+=1\n",
    "\n",
    "print(s)"
   ]
  },
  {
   "cell_type": "code",
   "execution_count": 12,
   "id": "97ac9c20-089b-4ca7-9438-ff84ffa70982",
   "metadata": {},
   "outputs": [
    {
     "data": {
      "text/plain": [
       "(0.5, 943.5)"
      ]
     },
     "execution_count": 12,
     "metadata": {},
     "output_type": "execute_result"
    },
    {
     "data": {
      "image/png": "[encoded data removed]",
      "text/plain": [
       "<Figure size 432x288 with 2 Axes>"
      ]
     },
     "metadata": {
      "needs_background": "light"
     },
     "output_type": "display_data"
    }
   ],
   "source": [
    "x = range(1682);\n",
    "y = range(943);\n",
    "Z = data_array;\n",
    "fig, ax = plt.subplots()\n",
    "contour = ax.pcolormesh(x, y, Z)\n",
    "\n",
    "plt.xticks(np.arange(1, 1682, step=200));\n",
    "plt.yticks(np.arange(1, 943, step=100));\n",
    "plt.colorbar(contour)\n",
    "plt.ylabel(\"User ID\")\n",
    "plt.xlabel(\"Movie ID\")\n",
    "plt.xlim(0.5, 1682.5)\n",
    "plt.ylim(0.5, 943.5)"
   ]
  },
  {
   "cell_type": "markdown",
   "id": "cc1c7e71-3d49-4560-9930-5a06ac99fd01",
   "metadata": {},
   "source": [
    "Notamos uma grande regularidade na distribuição dos ratings de acordo com o Movie ID, isto é, os filmes de menor índice tem muito mais ratings do que os de grande índice. Vamos testar a convergência do algoritmo de imputação utilizando esta matriz de dados não-embaralhada (data_array) e a embaralhada (data_rand)."
   ]
  },
  {
   "cell_type": "code",
   "execution_count": 13,
   "id": "c4b9319b-bcc2-4204-9ea8-295236b4ab17",
   "metadata": {},
   "outputs": [],
   "source": [
    "data_rand = [shuffle(col) for col in data_array]"
   ]
  },
  {
   "cell_type": "code",
   "execution_count": 15,
   "id": "0cfde68c-108e-44f7-abb4-ccd8e9582f68",
   "metadata": {},
   "outputs": [
    {
     "data": {
      "text/plain": [
       "(0.5, 943.5)"
      ]
     },
     "execution_count": 15,
     "metadata": {},
     "output_type": "execute_result"
    },
    {
     "data": {
      "image/png": "[encoded data removed]",
      "text/plain": [
       "<Figure size 432x288 with 2 Axes>"
      ]
     },
     "metadata": {
      "needs_background": "light"
     },
     "output_type": "display_data"
    }
   ],
   "source": [
    "x = range(1682);\n",
    "y = range(943);\n",
    "Z = data_rand;\n",
    "fig, ax = plt.subplots()\n",
    "contour = ax.pcolormesh(x, y, Z)\n",
    "\n",
    "plt.xticks(np.arange(1, 1682, step=200));\n",
    "plt.yticks(np.arange(1, 943, step=100));\n",
    "plt.colorbar(contour)\n",
    "plt.ylabel(\"User ID\")\n",
    "\n",
    "#Não mais o Movie ID! Perdemos esta informação quando embaralhamos os índices dos filmes\n",
    "plt.xlabel(\"Column  Index\")\n",
    "plt.xlim(0.5, 1682.5)\n",
    "plt.ylim(0.5, 943.5)"
   ]
  },
  {
   "cell_type": "markdown",
   "id": "c17991fa-2ff5-45e9-b4d7-189aa9aa0633",
   "metadata": {},
   "source": [
    "## 1.2. Separação de Dados de Treino e de Teste"
   ]
  },
  {
   "cell_type": "markdown",
   "id": "80df5acd-653e-4d09-ad72-a54defba79d0",
   "metadata": {},
   "source": [
    "Como indicado anteriormente, vamos separar dados de treino e de teste através de sorteios aleatórios de tuplas de rating usuário-filme da matriz Usuário-Filme randomizada acima. Seguindo a orientação da Tarefa, vamos separar 80% dos dados para treino e 20% para teste. Como temos 100000 dados totais, isto corresponderá a 80000 dados de treino e 20000 de teste.\n",
    "\n",
    "Um detalhe importante sobre a separação destes dados é que enquanto os dados de treino terão que estar em forma matricial para imputarmos os valores faltantes e aplicarmos o SVD, os dados de teste poderão ser descritos inteiramente em termos das tuplas de índices da matriz de dados original. Isto é, não precisamos representar os dados de teste em forma matricial."
   ]
  },
  {
   "cell_type": "code",
   "execution_count": 16,
   "id": "d326f89f-3f38-437e-b53d-6dc44478868d",
   "metadata": {},
   "outputs": [
    {
     "name": "stdout",
     "output_type": "stream",
     "text": [
      "100000 100000\n",
      "[[942, 942], [942, 1010], [942, 1027], [942, 1043], [942, 1046], [942, 1066], [942, 1073], [942, 1187], [942, 1227], [942, 1329]]\n"
     ]
    }
   ],
   "source": [
    "#Definição das tuplas de índices das entradas não-nulas da matriz de dados não embaralhada\n",
    "non_null_tuple_list = list()\n",
    "\n",
    "#Definição das tuplas de índices das entradas não-nulas da matriz de dados embaralhada\n",
    "non_null_tuple_list_rand = list()\n",
    "\n",
    "i=0;\n",
    "\n",
    "while i < len(data_rand):\n",
    "    j=0;\n",
    "    while j < len(data_rand[0]):\n",
    "        buffer = [0,0]\n",
    "        if data_array[i][j]!= 0.0:\n",
    "            buffer[0]=i;\n",
    "            buffer[1]=j;\n",
    "            non_null_tuple_list.append(buffer)\n",
    "        if data_rand[i][j]!= 0.0:\n",
    "            buffer[0]=i;\n",
    "            buffer[1]=j;\n",
    "            non_null_tuple_list_rand.append(buffer)\n",
    "        j+=1\n",
    "    i+=1\n",
    "print(len(non_null_tuple_list),len(non_null_tuple_list_rand))\n",
    "print(non_null_tuple_list[-10:])"
   ]
  },
  {
   "cell_type": "code",
   "execution_count": 17,
   "id": "a934d33b-dd06-4ca2-b770-183c02b99fc2",
   "metadata": {},
   "outputs": [
    {
     "name": "stdout",
     "output_type": "stream",
     "text": [
      "0.027796500000022206\n",
      "20000 80000\n",
      "20000 80000\n"
     ]
    }
   ],
   "source": [
    "#Embaralhamento da lista de tuplas não nulas\n",
    "tuple_data = shuffle(non_null_tuple_list)\n",
    "tuple_data_rand = shuffle(non_null_tuple_list_rand)\n",
    "\n",
    "#Seleção de tuplas de teste para matriz não-embaralhada\n",
    "test_tuples = tuple_data[:20000];\n",
    "train_tuples = tuple_data[-80000:];\n",
    "\n",
    "#Seleção de tuplas de teste para matriz embaralhada\n",
    "test_tuples_rand = tuple_data_rand[:20000];\n",
    "train_tuples_rand = tuple_data_rand[-80000:];\n",
    "\n",
    "\n",
    "#Exclusão das tuplas de teste da matriz de dados, gerando a matriz de treino\n",
    "data_train = data_array\n",
    "data_train_rand = data_array\n",
    "\n",
    "#Como já sabemos exatamente quais as tuplas que queremos excluir do dataset original, basta zerarmos todas as entradas da matriz 'train_df' que\n",
    "#correspondem às tuplas de treino\n",
    "start = time.perf_counter()\n",
    "for k in range(len(test_tuples)):\n",
    "    data_train[test_tuples[k][0]][test_tuples[k][1]]=0.0\n",
    "    data_train_rand[test_tuples_rand[k][0]][test_tuples_rand[k][1]]=0.0\n",
    "end = time.perf_counter()\n",
    "print(end-start)\n",
    "\n",
    "print(len(test_tuples),len(train_tuples))\n",
    "print(len(test_tuples_rand),len(train_tuples_rand))"
   ]
  },
  {
   "cell_type": "code",
   "execution_count": 18,
   "id": "e0432ef9-c5e9-45db-b664-4ded56b325a8",
   "metadata": {
    "scrolled": true
   },
   "outputs": [
    {
     "data": {
      "text/plain": [
       "(0.5, 943.5)"
      ]
     },
     "execution_count": 18,
     "metadata": {},
     "output_type": "execute_result"
    },
    {
     "data": {
      "image/png": "[encoded data removed]",
      "text/plain": [
       "<Figure size 432x288 with 2 Axes>"
      ]
     },
     "metadata": {
      "needs_background": "light"
     },
     "output_type": "display_data"
    }
   ],
   "source": [
    "x = range(1682);\n",
    "y = range(943);\n",
    "Z = data_train;\n",
    "fig, ax = plt.subplots()\n",
    "contour = ax.pcolormesh(x, y, Z)\n",
    "\n",
    "plt.xticks(np.arange(1, 1682, step=200));\n",
    "plt.yticks(np.arange(1, 943, step=100));\n",
    "plt.colorbar(contour)\n",
    "plt.ylabel(\"User ID\")\n",
    "\n",
    "#Não mais o Movie ID! Perdemos esta informação quando embaralhamos os índices dos filmes\n",
    "plt.xlabel(\"Column  Index\")\n",
    "plt.xlim(0.5, 1682.5)\n",
    "plt.ylim(0.5, 943.5)"
   ]
  },
  {
   "cell_type": "markdown",
   "id": "430a3c7d-266d-41b5-a84c-7d53bfa282ac",
   "metadata": {},
   "source": [
    "# 2. Implementação do SVD"
   ]
  },
  {
   "cell_type": "markdown",
   "id": "d082c932-816d-408b-981f-569f5ae9e2c2",
   "metadata": {},
   "source": [
    "Antes de prosseguirmos ao algoritmo que utilizaremos para 'adivinhar' os ratings das tuplas de teste, vamos implementar a função que servirá de base para o algoritmo: uma função que retorna a Decomposição de Valores Singulares (Single Value Decomposition ou SVD) de uma matriz. De acordo com a álgebra linear, toda matriz possui um SVD único, isto é, toda matriz pode ser decomposta na forma a seguir:\n",
    "\n",
    "\\begin{equation}\n",
    "X = U \\Sigma V^{T}\n",
    "\\end{equation}\n",
    "\n",
    "Onde $U$ é uma matriz ortogonal de dimensões $m\\times m$, $\\Sigma$ é uma matriz quase diagonal de dimensões $m \\times n$ matrix e $V$ é uma matriz ortogonal de dimensões $n\\times n$. A interpretação geométrica desta decomposição é de que o efeito da aplicação da matriz $X$ sobre qualquer vetor do espaço $\\mathbb{R}^n$ é idêntico a aplicar uma rotação (matriz $V^T$) seguida de uma 'distensão' ou 'compressão' (matriz $\\Sigma$), que por sua vez é seguida por uma última rotação (matriz $U^T$).\n",
    "\n",
    "Se $m>n$, então a matriz de covariância de interesse - aquela com as maiores dimensões - é determinada através da expressão $C=X^T X\\in \\mathbb{R^{n\\times n}}$. Este procedimento é necessário para que consigamos determinar os autovetores relacionados aos autovalores nulos também (autovetors do núcleo de $C$, ou $\\text{ker}(C)$). Dado que a matriz $C$ é simétrica positiva semi-definida, pode ser decomposta utilizando as funções de autovalores e autovetores na seguinte forma:\n",
    "\n",
    "\\begin{equation*}\n",
    "    C= PDP^T\n",
    "\\end{equation*}\n",
    "\n",
    "Onde $D$ é uma matriz diagonal $n\\times n$ e $P$ uma matriz ortogonal $n\\times n$. Vamos verificar suas relações com as matrizes da decomposição de $X$. \n",
    "\n",
    "\\begin{equation}\n",
    "    C=X^TX=(V\\Sigma^T U^T)(U\\Sigma V^T)=V(\\Sigma^T\\Sigma) V^T\n",
    "\\end{equation}\n",
    "\n",
    "Notamos que, da nossa definição de $\\Sigma$, a matriz $\\Sigma^T\\Sigma$ será uma matriz diagonal de dimensões $n\\times n$. Identificamos, então, esta matriz como sendo a matriz $D$ da decomposição anterior. Além disso, $V$ será igual à matriz $P$. Em outras palavras, $V$ é nada mais do que a matriz cujas colunas são os autovetores da matriz de covariância $C$. Tendo encontrado $V$, podemos obter a matriz $U$. Começando pela matriz $X$:\n",
    "\n",
    "\\begin{align*}\n",
    "    X=U\\Sigma V^T \\Rightarrow XV&=U\\Sigma V^TV=U\\Sigma\n",
    "\\end{align*}\n",
    "\n",
    "Explicitando a multiplicação matricial em termos de entradas de matriz, temos:\n",
    "\n",
    "\\begin{align*}\n",
    "    &(U\\Sigma )_{ij}=\\sum_{p=1}^{m}u_{ip}\\sigma_{pj}\\delta_{pj}=\\sigma_j u_{ij}\\\\\n",
    "    &(XV)_{ij}=\\sum_{s=1}^{m}x_{is}v_{sj}=\\boldsymbol{x}_i\\boldsymbol{v}_j^T\n",
    "\\end{align*}\n",
    "\n",
    "\\begin{equation*}\n",
    "    \\Rightarrow u_{ij}=\\frac{1}{\\sigma_j}\\boldsymbol{x}_i\\boldsymbol{v}_j^T\n",
    "\\end{equation*}\n",
    "\n",
    "Onde entendemos que $\\boldsymbol{x}_i$ é a $i$-ésima linha da matriz $X$ e $\\boldsymbol{v}_j$ a $j$-ésima linha da matriz $V$. O motivo pelo qual representamos em termos de linhas ao invés de colunas é para estabelecermos um paralelo mais claro com a implementação do SVD. Feito isso para todos os índices, temos a decomposição SVD. Para o caso em que $m>n$, o procedimento é análogo, trocando-se a definição da matriz de covariância para $XX^T$, o que faz com que troquemos os passos considerando  $U,u$ no lugar de $V,v$. Além disso, no último passo:\n",
    "\n",
    "\\begin{align*}\n",
    "    X=U\\Sigma V^T \\Rightarrow U^TX&=\\Sigma V^T\\Rightarrow X^TU=V\\Sigma\n",
    "\\end{align*}\n",
    "Por último, o motivo que separamos o caso $m=n$ é que quando a matriz é quadrada as matrizes singulares da esquerda e direita serão iguais $U=V$."
   ]
  },
  {
   "cell_type": "markdown",
   "id": "850a2b88-a1ac-49c7-8970-dd5a0fb3f67c",
   "metadata": {},
   "source": [
    "O nosso dataset (matriz $X$) é uma matriz $943\\times 1682$, então o posto será $m=943$. Assim, precisamos adicionar $n-m$ vetores ortonormais os quais são ortogonais a todos os autovetores $m$ e os quais tem autovalor nulo (são vetores do $\\text{ker}(C)$).\n",
    "\n",
    "\\begin{equation*}\n",
    "C\\boldsymbol{v}_j = \\lambda_j \\boldsymbol{v}_j,\\;\\;\\; j \\in \\left\\{1,2,...,m \\right\\}\n",
    "\\end{equation*}\n",
    "\\begin{equation*}\n",
    "C\\boldsymbol{v}_j = \\mathbb{0},\\;\\;\\; j \\in \\left\\{m+1, m+2,...,n \\right\\}\n",
    "\\end{equation*}\n",
    "\\begin{equation*}\n",
    "\\boldsymbol{v}_k \\boldsymbol{v}_l^T=\\delta_{kl}, \\;\\;\\; k,l \\in \\left\\{1,2,...,n \\right\\}\n",
    "\\end{equation*}\n",
    "\n",
    "\n",
    "Reiteramos que, na nossa convenção, os vetores $\\boldsymbol{v}_i$ são <b>vetores-linha</b>. Com este esclarecimento, podemos seguir para a implementação."
   ]
  },
  {
   "cell_type": "code",
   "execution_count": 19,
   "id": "8366df15-a21a-48be-b177-8090eaab30e9",
   "metadata": {},
   "outputs": [
    {
     "name": "stdout",
     "output_type": "stream",
     "text": [
      "(array([1.76393202, 2.        , 6.23606798]), array([[ 4.65341127e-01, -3.88578059e-16,  6.47936163e-01],\n",
      "       [ 4.65341127e-01, -7.07106781e-01,  6.47936163e-01],\n",
      "       [-7.52937760e-01,  7.07106781e-01,  4.00446571e-01]]))\n",
      "[[ 6.47936163e-01 -3.88578059e-16  4.65341127e-01]\n",
      " [ 6.47936163e-01 -7.07106781e-01  4.65341127e-01]\n",
      " [ 4.00446571e-01  7.07106781e-01 -7.52937760e-01]]\n"
     ]
    }
   ],
   "source": [
    "A=[[3,2,2],[1,4,2],[1,1,3]]\n",
    "B = [[3,2,2],[1,4,2]]\n",
    "\n",
    "#Função que computa os autovalores e autovetores de uma matriz hermitiana em ordem ascendente de autovalor\n",
    "def asc_eigenh(X):\n",
    "    eigenValues, eigenVectors = np.linalg.eigh(X)\n",
    "    idx = np.argsort(eigenValues)\n",
    "    eigenValues = eigenValues[idx]\n",
    "    eigenVectors = eigenVectors[:,idx]\n",
    "    return (eigenValues, eigenVectors)\n",
    "\n",
    "#Função que computa os autovalores e autovetores de uma matriz hermitiana em ordem descendente de autovalor\n",
    "def desc_eigenh(X):\n",
    "    eigenValues, eigenVectors = np.linalg.eigh(X)\n",
    "    idx = np.argsort(eigenValues)[::-1][:len(eigenValues)]\n",
    "    eigenValues = eigenValues[idx]\n",
    "    eigenVectors = eigenVectors[:,idx]\n",
    "    return (eigenValues, eigenVectors)\n",
    "\n",
    "print(asc_eigen(A))\n",
    "print(desc_eigen(A)[1])"
   ]
  },
  {
   "cell_type": "code",
   "execution_count": 20,
   "id": "e7cd81e5-58a3-49cc-af97-b293cd29bfe8",
   "metadata": {},
   "outputs": [],
   "source": [
    "#Implementação do SVD\n",
    "def SVD(data):\n",
    "\n",
    "    #Transforma pd.DataFrame em matriz do numpy\n",
    "    data_buff = np.array(data)\n",
    "\n",
    "    #Vetor do SVD\n",
    "    SVD_array = [0,0,0]\n",
    "\n",
    "    #Se a matriz de dados for quadrada. Basicamente os mesmos passos das outras, pulando-se o cálculo de uma das matrizes U ou V\n",
    "    if len(data_buff)==len(data_buff[0]):\n",
    "\n",
    "        #Guarda o posto da matriz de dados\n",
    "        rk = len(data_buff)\n",
    "        \n",
    "        #Calcula a matriz de covariância\n",
    "        cov_data = np.matmul(data_buff.transpose(),data_buff)\n",
    "    \n",
    "        #Calcular os autovalores e autovetores da matriz de covoariância\n",
    "        SVD_buff = desc_eigenh(cov_data)\n",
    "\n",
    "        #Seguindo a análise anterior, a matriz sigma e a matriz singular da direita, V corresponderão às primeiras 'rk' (posto) entradas do resultado da\n",
    "        #decomposição em autovalores.\n",
    "\n",
    "        #Matriz Sigma,lembrando que os valores singulares são a raiz quadrada dos autovalores da matriz de covariância\n",
    "        SVD_array[1] = np.sqrt(abs(SVD_buff[0][:rk]))\n",
    "\n",
    "        #Matriz V. Para selecionar as 'rk' primeiras colunas, precisamos primeiramente transpor \n",
    "        SVD_array[2] =SVD_buff[1]\n",
    "        \n",
    "        #Matriz U\n",
    "        SVD_array[0] = SVD_buff[1]\n",
    "\n",
    "\n",
    "    #Se a matriz de dados tiver mais colunas do que linhas\n",
    "    if len(data_buff)<len(data_buff[0]):\n",
    "\n",
    "        #Guarda o posto da matriz de dados\n",
    "        rk = len(data_buff)\n",
    "        \n",
    "        #Calcula a matriz de covariância\n",
    "        cov_data = np.matmul(data_buff.transpose(),data_buff)\n",
    "    \n",
    "        #Calcular os autovalores e autovetores da matriz de covoariância\n",
    "        SVD_buff = desc_eigenh(cov_data)\n",
    "\n",
    "        #Seguindo a análise anterior, a matriz sigma e a matriz singular da direita, V corresponderão às primeiras 'rk' (posto) entradas do resultado da\n",
    "        #decomposição em autovalores.\n",
    "\n",
    "        #Matriz Sigma,lembrando que os valores singulares são a raiz quadrada dos autovalores da matriz de covariância\n",
    "        SVD_array[1] = np.sqrt(abs(SVD_buff[0][:rk]))\n",
    "\n",
    "        #Matriz V. Para selecionar as 'rk' primeiras colunas, precisamos primeiramente transpor \n",
    "        SVD_array[2] = SVD_buff[1]\n",
    "\n",
    "        #Cálculo da matriz U\n",
    "\n",
    "        #U_buff seria a matriz U multiplicada pela direita por Sigma\n",
    "        U_buff = np.matmul(data_buff, SVD_array[2])\n",
    "\n",
    "        #Re-escalo cada linha de U pelos respectivos valores singulares\n",
    "        i=0\n",
    "        while i < len(U_buff):\n",
    "            U_buff[i]=U_buff[i]/(SVD_array[1][i])\n",
    "            i+=1\n",
    "\n",
    "        #Matriz U\n",
    "        SVD_array[0] = U_buff\n",
    "    \n",
    "    #Se a matriz de dados tiver mais linhas do que colunas   \n",
    "    if len(data_buff)>len(data_buff[0]):\n",
    "    \n",
    "        #Guarda o posto da matriz de dados\n",
    "        rk = len(data_buff[0])\n",
    "\n",
    "        #Guardo a matriz de dados transposta porque mais à frente vou utilizar para obter a matriz singular da direita V\n",
    "        data_trsp = data_buff.transpose()\n",
    "        \n",
    "        #Calcula a matriz de covariância, com a matriz transposta multiplicando pela direita\n",
    "        cov_data = np.matmul(data_buff,data_trsp)\n",
    "    \n",
    "        #Calcular os autovalores e autovetores da matriz de covoariância\n",
    "        SVD_buff = desc_eigenh(cov_data)\n",
    "\n",
    "        #Seguindo a análise anterior, a matriz sigma e a matriz singular da esquerdaa, U corresponderão às primeiras 'rk' (posto) entradas do resultado\n",
    "        #da decomposição em autovalores.\n",
    "\n",
    "        #Matriz U. Para selecionar as 'rk' primeiras colunas, precisamos primeiramente transpor \n",
    "        SVD_array[2] = SVD_buff[1]\n",
    "    \n",
    "        #Matriz Sigma,lembrando que os valores singulares são a raiz quadrada dos autovalores da matriz de covariância\n",
    "        SVD_array[1] = np.sqrt(SVD_buff[0][:rk])\n",
    "   \n",
    "        #Cálculo da matriz U\n",
    "\n",
    "        #V_buff seria a matriz V multiplicada pela direita por Sigma\n",
    "        V_buff = np.matmul(data_trsp, SVD_array[2])\n",
    "\n",
    "        #Re-escalo cada linha de U pelos respectivos valores singulares\n",
    "        i=0\n",
    "        while i < len(V_buff):\n",
    "            V_buff[i]=V_buff[i]/(SVD_array[1][i])\n",
    "            i+=1\n",
    "\n",
    "        #Matriz V\n",
    "        SVD_array[2] = V_buff\n",
    "\n",
    "    return SVD_array"
   ]
  },
  {
   "cell_type": "code",
   "execution_count": 21,
   "id": "3b68a2e9-abfe-4d84-bf3b-b2c0e602f25e",
   "metadata": {},
   "outputs": [
    {
     "name": "stdout",
     "output_type": "stream",
     "text": [
      "1.461849500000028\n",
      "1.5175959000000034\n"
     ]
    }
   ],
   "source": [
    "start = time.perf_counter()\n",
    "train_SVD = SVD(data_train)\n",
    "end= time.perf_counter()\n",
    "print(end-start)\n",
    "\n",
    "start = time.perf_counter()\n",
    "train_SVD_rand = SVD(data_train_rand)\n",
    "end= time.perf_counter()\n",
    "print(end-start)"
   ]
  },
  {
   "cell_type": "markdown",
   "id": "07b7b22b-d7e0-40fb-a0b1-c47f6984bde4",
   "metadata": {},
   "source": [
    "# 3. Imputação de Valores Nulos: <i>Soft Impute</i>"
   ]
  },
  {
   "cell_type": "markdown",
   "id": "7ba74a72-3ada-4dd4-b2c0-68db3335f0ec",
   "metadata": {},
   "source": [
    "O método de imputação que vamos utilizar para preencher os valores vazios da matriz de dados será aquele contido no início do artigo do Hastie: o <i> soft impute</i>. A forma que o algoritmo funciona é da seguinte maneira.\n",
    "\n",
    "Considere uma matriz de dados <i>esparsa</i> $X$, ou seja, que possui praticamente todas as suas entradas faltantes (na nossa matriz de treino, apenas $5\\%$ das entradas são conhecidas, o que nos põe neste regime). Para inicializar o método, substituímos todos os valores desconhecidos pelo valor médio de $X$, coluna a coluna, o qual denominamos $\\bar{x}$. Isto nos dá a matriz imputada $\\tilde{X}$. Note que nós também testamos o algoritmo para a imputação nula, que corresponderia a $\\bar{x}=0$ para todas as colunas.\n",
    "\n",
    "1. Primeiramente, calculamos o SVD da matriz imputada $\\tilde{X}$. Como apontado anteriormente na nossa implementação do SVD, a matriz utilizada para extrair as componentes principais da matriz de dados é a matriz $V$.\n",
    "\n",
    "\\begin{equation*}\n",
    "\\tilde{X}=U\\Sigma V^T\n",
    "\\end{equation*}\n",
    " \n",
    "\n",
    "2. Definimos a função objetiva $\\phi(x_{ij})$, em que $x_{ij}$ são os elementos conhecidos da matriz $X$.\n",
    "   \\begin{equation*}\n",
    "   \\phi(x_{ij})=\\sum_{(i,j) \\in \\mathcal{O}} \\left(x_{ij}-\\sum_{m=1}^{M}  \\tilde{X}_{im} V_{mj}\\right)^2\n",
    "   \\end{equation*}\n",
    "   Em que $\\mathcal{O}$ é o conjunto de tuplas conhecidas e o somatório de $1$ até $M$ é sobre as componentes principais da matriz imputada $\\tilde{X}$, sendo $V$ a matriz que multiplica o lado direito da matriz de autovalores $\\Sigma$. Se estamos no primeiro estágio, computamos e guardamos este valor. Caso seja algum estágio intermediário, computamos a diferença entre a nova função objetiva e a função objetiva do estágio anterior. Se a variação desta função estiver abaixo de uma certa tolerância (espera-se que esta função tenda a um mínimo), a rotina é interrompida e a matriz imputada terá convergido.\n",
    "\n",
    "   \n",
    "3. Substituo todos os elementos imputados no estágio anterior (se é o primeiro estágio após a inicialização, substituo todos os valores médios imputados inicialmente $\\bar{x}$)  pelos elementos correspondentes aos da matriz de componentes principais.\n",
    "   \\begin{equation*}\n",
    "   \\bar{x}_{ij}\\rightarrow \\sum_{(i,j) \\notin \\mathcal{O}} \\left(\\sum_{m=1}^{M} \\tilde{X}_{im} V_{mj}\\right)\n",
    "   \\end{equation*}\n",
    "   Onde ressaltamos que $\\mathcal{O}$ é o conjunto de tuplas conhecidas: o somatório acima é sobre todas as tuplas desconhecidas. Uma outra forma de entender este passo é a partir das duas seguintes equações:\n",
    "\\begin{align*}\n",
    "   &\\tilde{X}_{ij} = X_{ij},\\;\\;\\;\\; (i,j) \\in \\mathcal{O}\\\\\n",
    "&\\tilde{X}_{ij}=\\left(\\sum_{m=1}^{M} \\tilde{X}_{im} V_{mj}\\right),\\;\\;\\;\\; (i,j)\\notin \\mathcal{O}\n",
    "   \\end{align*}\n",
    "\n",
    "4. Repetir os passos anteriores até a função objetiva estar abaixo da tolerância.\n",
    "\n",
    "\n",
    "O motivo preciso de por que este algoritmo funciona não é algo que domino. Do pouco que pude acumular baseado no artigo do Hastie e do vídeo no YouTube onde ele explica o Soft Impute (URL=https://www.youtube.com/watch?v=MYKb5KcI55s), a aplicação deste algoritmo - pelo menos em casos mais complexos comparados a esta Tarefa - se dá em termos de três características do nosso dataset.\n",
    "\n",
    "Primeiro, que existem correlações entre o gosto de filme dos usuários: no problema original que inspirou o algoritmo (competição da Netflix), o número de usuários era tão grande ( $\\sim 400000$) que esperava-se amostragens repetidas de usuários típicos com gostos parecidos de filme. No nosso dataset, temos apenas $943$ usuários, mas como vimos da depicção visual do dataset, nos parece razoável assumir que há mesmo correlações em gosto de filme.\n",
    "\n",
    "Segundo, que os valores faltantes são aleatórios. Ou seja, como se tivessem sidos 'removidos às cegas'.\n",
    "\n",
    "A terceira característica é que estamos tratando de matrizes esparsas. Apesar disto não ter impacto na implementação contida nesta Tarefa, no problema da Netflix a matriz possuía dimensões $\\sim 20000 \\times 400000$, o que significa que havia um grande desafio para o armazenamento de dados na aplicação do SVD nos estágios intermediários. Dado o fato das matrizes serem esparsas (quase todas as entradas são desconhecidas) pode-se explorar métodos de representação que reduzem drasticamente a alocação de memória em cada passo do algoritmo. Porém, desconheço os detalhes e não saberia implementá-los aqui.\n",
    "\n",
    "Finalmente, um detalhe muito importante que foi omitido até agora é que o número de componentes principais a ser utilizado $M$ não deve ser escolhido arbitrariamente. Isto é, existem valores de $M$ que aceleram a convergência e a precisão do algoritmo proposto. No entanto, até onde pude ver, não existe uma forma analítica de encontrar este valor: testamos diferentes valores de $M$ através de tentativa e erro. \n",
    "\n",
    "A otimização deste parâmetro será dada através de 2 gráficos, cujos eixos horizontais serão todos diferentes valores de $M$: plotaremos gráficos em que o eixo vertical é precisão e tempo de execução até convergência.\n",
    "\n",
    "Visto que esta parte da rotina requer muitas iterações do SVD, decidimos utilizar a implementação do numpy em função de sua eficiência esperada. Após escolhermos algum valor de $M$ baseado na análise desta seção, iremos utilizar a nossa implementação de SVD para rodar o algoritmo."
   ]
  },
  {
   "cell_type": "markdown",
   "id": "e358f949-ed5f-4dfa-b01a-c1dc32bf99ae",
   "metadata": {},
   "source": [
    "## 3.1. Algoritmo"
   ]
  },
  {
   "cell_type": "markdown",
   "id": "952cbbfb-deb7-400f-bdae-98a7b1d67134",
   "metadata": {},
   "source": [
    "Para simular matrizes de dados com valores faltantes, redefinimos os valors nulos da seção anterior de volta a np.nan."
   ]
  },
  {
   "cell_type": "code",
   "execution_count": 22,
   "id": "50bd1eda-e280-4d5d-af0e-6cc3a5d4d988",
   "metadata": {
    "scrolled": true
   },
   "outputs": [
    {
     "name": "stdout",
     "output_type": "stream",
     "text": [
      "1.5762664999999743\n"
     ]
    }
   ],
   "source": [
    "#Substitui valores nulos por np.nan\n",
    "data_nan = data_train\n",
    "data_nan_rand = data_train_rand\n",
    "\n",
    "i=0;\n",
    "start = time.perf_counter()\n",
    "while i < len(data_train):\n",
    "    j=0;\n",
    "    while j < len(data_train[0]):\n",
    "        if data_train[i][j]== 0.0:\n",
    "            data_nan[i][j]=np.nan\n",
    "        if data_train_rand[i][j]== 0.0:\n",
    "            data_nan_rand[i][j]=np.nan\n",
    "        j+=1\n",
    "    i+=1\n",
    "end = time.perf_counter()\n",
    "print(end-start)"
   ]
  },
  {
   "cell_type": "markdown",
   "id": "fa40894c-e4b2-4f32-bc28-a9e916cda65d",
   "metadata": {},
   "source": [
    "### Visualização da Imputação Média e do PCA"
   ]
  },
  {
   "cell_type": "markdown",
   "id": "b84100cd-15c9-405d-aa3b-3e24fce8a0c1",
   "metadata": {},
   "source": [
    "Antes de definir e aplicar o SoftImpute, decidimos visualizar o primeiro passo pós imputação média (ou nula). Isto é, visualizaremos o PCA da matriz imputada, utilizando a função SVD que implementamos."
   ]
  },
  {
   "cell_type": "code",
   "execution_count": 23,
   "id": "08e31cac-877e-4788-b9bc-5838c75b463d",
   "metadata": {},
   "outputs": [],
   "source": [
    "#Para calcular a média de cada coluna, vamos converter para um pd.DataFrame\n",
    "df_nan = pd.DataFrame(data_nan)\n",
    "df_nan_rand = pd.DataFrame(data_nan_rand)\n",
    "\n",
    "#Cálculo das médias\n",
    "column_means = df_nan.mean()\n",
    "column_means_rand = df_nan_rand.mean()\n",
    "\n",
    "#Se a coluna é completamente nan, preencher com a média global\n",
    "global_mean = df_nan.stack().mean()\n",
    "global_mean_rand = df_nan_rand.stack().mean() \n",
    "\n",
    "#Imputação média condicional\n",
    "df_med_imp = df_nan.apply(lambda col: col.fillna(column_means[col.name] if not np.isnan(column_means[col.name]) else global_mean))\n",
    "df_med_imp_rand = df_nan_rand.apply(lambda col: col.fillna(column_means_rand[col.name] if not np.isnan(column_means_rand[col.name]) else global_mean_rand))\n",
    "\n",
    "#Converto de volta pra array\n",
    "data_med_imp = np.array(df_med_imp)\n",
    "data_med_imp_rand = np.array(df_med_imp_rand)"
   ]
  },
  {
   "cell_type": "markdown",
   "id": "5c90e753-aec3-4de4-ab01-2ae942eb378c",
   "metadata": {},
   "source": [
    "### Matriz não-embaralhada"
   ]
  },
  {
   "cell_type": "code",
   "execution_count": 26,
   "id": "ff151b57-f6a4-49bb-8cc1-629c94b6fc2f",
   "metadata": {},
   "outputs": [
    {
     "data": {
      "text/plain": [
       "(0.5, 943.5)"
      ]
     },
     "execution_count": 26,
     "metadata": {},
     "output_type": "execute_result"
    },
    {
     "data": {
      "image/png": "[encoded data removed]",
      "text/plain": [
       "<Figure size 432x288 with 2 Axes>"
      ]
     },
     "metadata": {
      "needs_background": "light"
     },
     "output_type": "display_data"
    }
   ],
   "source": [
    "x = range(len(data_med_imp[0]));\n",
    "y = range(943);\n",
    "Z = data_med_imp;\n",
    "fig, ax = plt.subplots()\n",
    "contour = ax.pcolormesh(x, y, Z)\n",
    "\n",
    "plt.xticks(np.arange(1, len(data_med_imp[0]), step=200));\n",
    "plt.yticks(np.arange(1, 943, step=100));\n",
    "plt.colorbar(contour)\n",
    "plt.ylabel(\"User ID\")\n",
    "\n",
    "#Não mais o Movie ID! Perdemos esta informação quando embaralhamos os índices dos filmes\n",
    "plt.xlabel(\"Column  Index\")\n",
    "plt.xlim(0.5, len(data_med_imp[0])-0.5)\n",
    "plt.ylim(0.5, 943.5)"
   ]
  },
  {
   "cell_type": "markdown",
   "id": "99353b61-e973-4176-8df8-1bffc02304d3",
   "metadata": {},
   "source": [
    "### Matriz embaralhada"
   ]
  },
  {
   "cell_type": "code",
   "execution_count": 36,
   "id": "1fa916da-09bb-42db-b257-e84d6ee911a1",
   "metadata": {},
   "outputs": [
    {
     "name": "stdout",
     "output_type": "stream",
     "text": [
      "1.4261314999999968\n"
     ]
    },
    {
     "data": {
      "text/plain": [
       "(0.5, 943.5)"
      ]
     },
     "execution_count": 36,
     "metadata": {},
     "output_type": "execute_result"
    },
    {
     "data": {
      "image/png": "[encoded data removed]",
      "text/plain": [
       "<Figure size 432x288 with 2 Axes>"
      ]
     },
     "metadata": {
      "needs_background": "light"
     },
     "output_type": "display_data"
    }
   ],
   "source": [
    "#PCA da matriz imputada inicial\n",
    "s = 500\n",
    "start = time.perf_counter()\n",
    "data_mean_trsp = data_med_imp.transpose()\n",
    "data_mean_PCA_s= np.matmul(data_mean_trsp[:s].transpose(), SVD(data_med_imp)[2][:s])\n",
    "data_mean_PCA_s_clip = np.clip(data_mean_PCA_s, 1, 5)\n",
    "end = time.perf_counter()\n",
    "print(end-start)\n",
    "\n",
    "x = range(len(data_med_imp[0]));\n",
    "y = range(943);\n",
    "Z = data_mean_PCA_s_clip;\n",
    "fig, ax = plt.subplots()\n",
    "contour = ax.pcolormesh(x, y, Z)\n",
    "\n",
    "plt.xticks(np.arange(1, len(data_med_imp[0]), step=round(200)));\n",
    "plt.yticks(np.arange(1, 943, step=100));\n",
    "plt.colorbar(contour)\n",
    "plt.ylabel(\"User ID\")\n",
    "\n",
    "#Não mais o Movie ID! Perdemos esta informação quando embaralhamos os índices dos filmes\n",
    "plt.xlabel(\"PCA\")\n",
    "plt.xlim(0.5, len(data_med_imp[0])-0.5)\n",
    "plt.ylim(0.5, 943.5)"
   ]
  },
  {
   "cell_type": "code",
   "execution_count": 37,
   "id": "dc85c75b-aa42-4225-bbd7-19b8265530a6",
   "metadata": {},
   "outputs": [
    {
     "name": "stdout",
     "output_type": "stream",
     "text": [
      "1.4088928000001033\n"
     ]
    },
    {
     "data": {
      "text/plain": [
       "(0.5, 943.5)"
      ]
     },
     "execution_count": 37,
     "metadata": {},
     "output_type": "execute_result"
    },
    {
     "data": {
      "image/png": "[encoded data removed]",
      "text/plain": [
       "<Figure size 432x288 with 2 Axes>"
      ]
     },
     "metadata": {
      "needs_background": "light"
     },
     "output_type": "display_data"
    }
   ],
   "source": [
    "#PCA da matriz imputada inicial\n",
    "s = 500\n",
    "start = time.perf_counter()\n",
    "data_mean_trsp = data_med_imp_rand.transpose()\n",
    "data_mean_PCA_s= np.matmul(data_mean_trsp[:s].transpose(), SVD(data_med_imp_rand)[2][:s])\n",
    "data_mean_PCA_s_clip = np.clip(data_mean_PCA_s, 1, 5)\n",
    "end = time.perf_counter()\n",
    "print(end-start)\n",
    "\n",
    "x = range(len(data_med_imp_rand[0]));\n",
    "y = range(943);\n",
    "Z = data_mean_PCA_s_clip;\n",
    "fig, ax = plt.subplots()\n",
    "contour = ax.pcolormesh(x, y, Z)\n",
    "\n",
    "plt.xticks(np.arange(1, len(data_med_imp_rand[0]), step=round(200)));\n",
    "plt.yticks(np.arange(1, 943, step=100));\n",
    "plt.colorbar(contour)\n",
    "plt.ylabel(\"User ID\")\n",
    "\n",
    "#Não mais o Movie ID! Perdemos esta informação quando embaralhamos os índices dos filmes\n",
    "plt.xlabel(\"PCA\")\n",
    "plt.xlim(0.5, len(data_med_imp_rand[0])-0.5)\n",
    "plt.ylim(0.5, 943.5)"
   ]
  },
  {
   "cell_type": "code",
   "execution_count": 33,
   "id": "55d51fb3-e3ff-4986-8299-15bd516a6851",
   "metadata": {},
   "outputs": [
    {
     "data": {
      "text/plain": [
       "(0.5, 943.5)"
      ]
     },
     "execution_count": 33,
     "metadata": {},
     "output_type": "execute_result"
    },
    {
     "data": {
      "image/png": "[encoded data removed]",
      "text/plain": [
       "<Figure size 432x288 with 2 Axes>"
      ]
     },
     "metadata": {
      "needs_background": "light"
     },
     "output_type": "display_data"
    }
   ],
   "source": [
    "x = range(len(data_med_imp_rand[0]));\n",
    "y = range(943);\n",
    "Z = data_med_imp;\n",
    "fig, ax = plt.subplots()\n",
    "contour = ax.pcolormesh(x, y, Z)\n",
    "\n",
    "plt.xticks(np.arange(1, len(data_med_imp_rand[0]), step=200));\n",
    "plt.yticks(np.arange(1, 943, step=100));\n",
    "plt.colorbar(contour)\n",
    "plt.ylabel(\"User ID\")\n",
    "\n",
    "#Não mais o Movie ID! Perdemos esta informação quando embaralhamos os índices dos filmes\n",
    "plt.xlabel(\"Column  Index\")\n",
    "plt.xlim(0.5, len(data_med_imp_rand[0])-0.5)\n",
    "plt.ylim(0.5, 943.5)"
   ]
  },
  {
   "cell_type": "markdown",
   "id": "1b6fd3ba-aff1-43b2-868f-b43cf0df6874",
   "metadata": {},
   "source": [
    "Feito este teste preliminar, iremos implementar de fato o SoftImpute, utilizando o SVD do Numpy."
   ]
  },
  {
   "cell_type": "markdown",
   "id": "5dec5258-fa47-4382-bbc8-17f071fc4005",
   "metadata": {},
   "source": [
    "### Função Objetiva e teste rápido"
   ]
  },
  {
   "cell_type": "markdown",
   "id": "53d1ae67-cbba-4057-b80b-0b3e268ad607",
   "metadata": {},
   "source": [
    "A função objetiva será basicamente um cálculo da distância Euclidiana entre as tuplas conhecidas e as imputadas."
   ]
  },
  {
   "cell_type": "code",
   "execution_count": 42,
   "id": "40d448f7-c3e5-4271-bf03-1f5b1dd43ef4",
   "metadata": {},
   "outputs": [],
   "source": [
    "#Função objetiva. A entrada 'key' é a lista de tuplas conhecidas\n",
    "def SoftIMP_obj(data, imp, key):\n",
    "    #Como a função objetiva é apenas uma comparação entre os 80000 valores conhecidos e os valores imputados, não precisamos iterar sobre todos os\n",
    "    #elementos da matriz, apenas sobre as tuplas contidas na 'key'\n",
    "    data_list = list()\n",
    "    imp_list = list()\n",
    "    data_buff = np.array(data)\n",
    "    imp_buff = np.array(imp)\n",
    "    i=0;\n",
    "    while i < len(key):\n",
    "        if key[i][1] < len(data_buff[0]):\n",
    "            data_list.append(data_buff[key[i][0]][key[i][1]]);\n",
    "            imp_list.append(imp_buff[key[i][0]][key[i][1]]);\n",
    "        i+=1\n",
    "\n",
    "    #Calculo a distância Euclidiana entre a lista de ratings conhecidos e a lista de ratings imputados\n",
    "    dist = distance.euclidean(data_list,imp_list)\n",
    "\n",
    "    return dist"
   ]
  },
  {
   "cell_type": "code",
   "execution_count": 43,
   "id": "5dd5610d-69bf-49b7-bcdd-b3bf8addeb7c",
   "metadata": {},
   "outputs": [
    {
     "name": "stdout",
     "output_type": "stream",
     "text": [
      "5.0\n",
      "0.0005772000000661137\n"
     ]
    }
   ],
   "source": [
    "#Matriz de dados\n",
    "A = [[1,np.nan],[np.nan,2]]\n",
    "\n",
    "#Matriz imputada\n",
    "B = [[4,1],[1,6]]\n",
    "\n",
    "#'key' -> Posições da matriz de dados onde existem valores conhecidos\n",
    "K = [[0,0],[1,1]]\n",
    "\n",
    "start = time.perf_counter()\n",
    "print(SoftIMP_obj(A, B, K))\n",
    "end = time.perf_counter()\n",
    "print(end-start)"
   ]
  },
  {
   "cell_type": "markdown",
   "id": "04b06f57-59be-4f1a-80db-f5c5a5f3125f",
   "metadata": {},
   "source": [
    "### Função de Imputação"
   ]
  },
  {
   "cell_type": "markdown",
   "id": "57b9b60e-3bb3-4d8c-9a8a-825266ad9d35",
   "metadata": {},
   "source": [
    "Durante a implementação do passo inicial como sendo a imputação média, tive problemas para manter as colunas vazias da matriz. Como acabei resolvendo este problema muito tarde (a solução está no passo onde visualizamos o PCA), ao invés de incluir este passo de inicialização, decidi simplesmente utilizar a implementação abaixo e passar a matriz já imputada com os valores médios direto na matriz, que resulta no mesmo procedimento descrito no cabeçalho da seção."
   ]
  },
  {
   "cell_type": "code",
   "execution_count": 107,
   "id": "7e6aeb11-7536-4d4c-8b63-03f9189e04e2",
   "metadata": {},
   "outputs": [],
   "source": [
    "#Função de imputação. 'm' é o número de componentes principais e 'dec' é o número de casas decimais de tolerância que queremos impor. Por exemplo,\n",
    "#tol = 5 será equivalente a uma tolerância de 10^-5 sob a condição de convergência\n",
    "def SoftIMP_np(data, key, m, dec):\n",
    "\n",
    "    #Transforma dados em array do numpy\n",
    "    data_buff = np.array(data)\n",
    "\n",
    "    #Converte valores np.nan vazios em 0.0\n",
    "    i = 0\n",
    "    while i < len(data):\n",
    "            j=0;\n",
    "            while j < len(data_buff[0]):\n",
    "                if np.isnan(data_buff[i][j]):\n",
    "                    data_buff[i][j] = 0.0\n",
    "                j+=1\n",
    "            i+=1\n",
    "\n",
    "    data_imp_old = data_buff\n",
    "    \n",
    "    #Definição da tolerância de convergência\n",
    "    tol =0.1 ** dec\n",
    "    \n",
    "    #Parte iterativa do algoritmo, calculando o valor inicial da objetiva\n",
    "    obj_old = 0.0\n",
    "    obj_new = 1.0\n",
    "    while abs(obj_new - obj_old) > tol:\n",
    "\n",
    "        #Atualiza o valor da objetiva antiga pela nova do passo anterior\n",
    "        obj_old = obj_new\n",
    "        \n",
    "        #Calcula a matriz de covariância da matriz imputada\n",
    "        cov_data = np.matmul(data_imp_old.transpose(),data_imp_old)\n",
    "    \n",
    "        #Calcula o SVD da matriz de covariância\n",
    "        cov_data_svd = np.linalg.svd(cov_data)\n",
    "        \n",
    "        #Na definição do numpy, a entrada [2] do svd nos dá a hermitiana conjugada (no nosso caso, a matriz V transposta). Para a projeção de\n",
    "        #componentes principais, precisamos da matriz V não-transposta\n",
    "        V_matrix= cov_data_svd[2].transpose()\n",
    "    \n",
    "        #Para o cálculo dos novos valores imputados, multiplicamos as M primeiras colunas linha da matriz imputada às M primeiras linhas da matriz V \n",
    "        #do SVD\n",
    "        data_trsp = data_imp_old.transpose()\n",
    "        data_trsp_m = data_trsp[:m]\n",
    "        data_orig_m = data_trsp_m.transpose()\n",
    "        V_matrix_m = V_matrix[:m]\n",
    "        data_imp_new = np.matmul(data_orig_m, V_matrix_m)\n",
    "\n",
    "        #Teste de convergência para a nova matriz imputada\n",
    "        obj_new = SoftIMP_obj(data_imp_old, data_imp_new, key)\n",
    "        \n",
    "        #Como nos estágios intermediários, a matriz de ratings passa a ter valores imputados fora do intervalo 1 e 5, precisamos retornar as entradas\n",
    "        #ao intervalo 1 e 5\n",
    "        data_imp_new_clip = np.clip(data_imp_new, 1, 5)\n",
    "        data_imp_new = data_imp_new_clip        \n",
    "        \n",
    "        #Substituo os valores conhecidos de volta à matriz imputada\n",
    "        i = 0\n",
    "        while i < len(key):\n",
    "           data_imp_new[key[i][0]][key[i][1]] = data_buff[key[i][0]][key[i][1]]\n",
    "           i+=1\n",
    "\n",
    "        #Atualizo a matriz antiga para a nova\n",
    "        data_imp_old = data_imp_new\n",
    "\n",
    "    #Após convergir, converte entradas para o inteiro mais próximo\n",
    "    k = 0\n",
    "    while k < len(data_imp_new):\n",
    "        l = 0\n",
    "        while l < len(data_imp_new[0]):\n",
    "            data_imp_new[k][l] = round(data_imp_new[k][l])*1.0\n",
    "            l+=1\n",
    "        k+=1           \n",
    "    \n",
    "    data_imp_new_clip = np.clip(data_imp_new, 1, 5)\n",
    "    return data_imp_new_clip"
   ]
  },
  {
   "cell_type": "markdown",
   "id": "a35dfecc-5194-4932-b151-e63e1354537d",
   "metadata": {},
   "source": [
    "Além do algoritmo do SoftImpute, definimos a função que será utilizada para realizar o teste de acurácia."
   ]
  },
  {
   "cell_type": "code",
   "execution_count": 50,
   "id": "f717b6c8-f84b-4d5b-a0e1-6b6cfc7a059a",
   "metadata": {},
   "outputs": [],
   "source": [
    "#Teste de acurácia a ser utilizado \n",
    "def acc_test(data, imp_data, test_key):\n",
    "    acc_list = list()\n",
    "    i = 0;\n",
    "    while i < len(test_key):\n",
    "        boolean = int(imp_data[test_key[i][0]][test_key[i][1]]==data[test_key[i][0]][test_key[i][1]])\n",
    "        acc_list.append(boolean)\n",
    "        i+=1\n",
    "    acc =100*sum(acc_list)/len(acc_list)\n",
    "    return acc"
   ]
  },
  {
   "cell_type": "markdown",
   "id": "9007f0f1-5a5b-41a2-889e-3fadd37c7977",
   "metadata": {},
   "source": [
    "Também simulamos matrizes de dados com valores faltantes np.nan."
   ]
  },
  {
   "cell_type": "code",
   "execution_count": 51,
   "id": "998e2d64-3fe9-4c52-b0d5-818b2c7570c7",
   "metadata": {},
   "outputs": [
    {
     "name": "stdout",
     "output_type": "stream",
     "text": [
      "0.8469314000000168\n"
     ]
    }
   ],
   "source": [
    "#Substitui valores nulos por np.nan\n",
    "full_data_nan = data_array\n",
    "data_nan = data_train\n",
    "i=0;\n",
    "start = time.perf_counter()\n",
    "while i < len(data_array):\n",
    "    j=0;\n",
    "    while j < len(data_array[0]):\n",
    "        if data_train[i][j]== 0.0:\n",
    "            data_nan[i][j]=np.nan\n",
    "        j+=1\n",
    "    i+=1\n",
    "end = time.perf_counter()\n",
    "print(end-start)"
   ]
  },
  {
   "cell_type": "markdown",
   "id": "f8816f0d-5866-4574-89f3-d23d3fc659f7",
   "metadata": {},
   "source": [
    "### Comparação entre Matriz de dados com colunas embaralhadas e não-embaralhadas"
   ]
  },
  {
   "cell_type": "code",
   "execution_count": 57,
   "id": "4ddf03a6-0481-4813-b096-098e4bf77a63",
   "metadata": {},
   "outputs": [
    {
     "name": "stdout",
     "output_type": "stream",
     "text": [
      "186.66828940000005\n"
     ]
    }
   ],
   "source": [
    "M = 10\n",
    "start = time.perf_counter()\n",
    "data_soft_imp = SoftIMP_np(data_med_imp, train_tuples, M, 1);\n",
    "end = time.perf_counter()\n",
    "print(end-start)"
   ]
  },
  {
   "cell_type": "code",
   "execution_count": 58,
   "id": "166da078-3142-4c18-a235-415e88b76b69",
   "metadata": {},
   "outputs": [
    {
     "name": "stdout",
     "output_type": "stream",
     "text": [
      "20.741908700000067\n"
     ]
    }
   ],
   "source": [
    "M = 10\n",
    "start = time.perf_counter()\n",
    "data_soft_imp_rand = SoftIMP_np(data_med_imp_rand, train_tuples_rand, M, 1);\n",
    "end = time.perf_counter()\n",
    "print(end-start)"
   ]
  },
  {
   "cell_type": "code",
   "execution_count": 59,
   "id": "de2eec4e-3206-4497-a0a6-69ece3bcce65",
   "metadata": {},
   "outputs": [
    {
     "name": "stdout",
     "output_type": "stream",
     "text": [
      "0.0\n",
      "5.925\n"
     ]
    }
   ],
   "source": [
    "print(acc_test(data_array, data_soft_imp, test_tuples))\n",
    "\n",
    "print(acc_test(data_rand, data_soft_imp_rand, test_tuples_rand))"
   ]
  },
  {
   "cell_type": "markdown",
   "id": "6592d25a-a653-4eb9-a13f-967caa61faf7",
   "metadata": {},
   "source": [
    "Para $M=10$, notamos uma clara melhoria na acurácia e tempo de execução para os dados de treino embaralhados. Por este motivo, abandonaremos os dados de treino não-embaralhados e centraremos a nossa análise nos dados embaralhados. Antes de montar um gráfico de acurácia por $M$, testamos vários valores abaixo."
   ]
  },
  {
   "cell_type": "markdown",
   "id": "80e71616-9e9c-4b27-a9be-26fe8d9b761d",
   "metadata": {},
   "source": [
    "### Testes com inicialização média"
   ]
  },
  {
   "cell_type": "code",
   "execution_count": 108,
   "id": "36cc58c9-71eb-437e-a5eb-e682a878fe8f",
   "metadata": {},
   "outputs": [
    {
     "name": "stdout",
     "output_type": "stream",
     "text": [
      "5.925\n",
      "13.90215309999985\n"
     ]
    }
   ],
   "source": [
    "M = 1\n",
    "start = time.perf_counter()\n",
    "data_med_imp_rand = SoftIMP_np(data_med_imp_rand, train_tuples_rand, M, 1);\n",
    "print(acc_test(data_rand, data_soft_imp_rand, test_tuples_rand))\n",
    "end = time.perf_counter()\n",
    "print(end-start)"
   ]
  },
  {
   "cell_type": "code",
   "execution_count": 61,
   "id": "6a356773-6648-4d77-8173-3f90e4cb24f8",
   "metadata": {},
   "outputs": [
    {
     "name": "stdout",
     "output_type": "stream",
     "text": [
      "5.925\n",
      "87.98849470000005\n"
     ]
    }
   ],
   "source": [
    "M = 10\n",
    "start = time.perf_counter()\n",
    "data_med_imp_rand = SoftIMP_np(data_med_imp_rand, train_tuples_rand, M, 1);\n",
    "print(acc_test(data_rand, data_soft_imp_rand, test_tuples_rand))\n",
    "end = time.perf_counter()\n",
    "print(end-start)"
   ]
  },
  {
   "cell_type": "code",
   "execution_count": 62,
   "id": "408b1fab-a8d7-4bb9-b008-583275471f37",
   "metadata": {},
   "outputs": [
    {
     "name": "stdout",
     "output_type": "stream",
     "text": [
      "5.925\n",
      "17.63029759999995\n"
     ]
    }
   ],
   "source": [
    "M = 20\n",
    "start = time.perf_counter()\n",
    "data_med_imp_rand = SoftIMP_np(data_med_imp_rand, train_tuples_rand, M, 1);\n",
    "print(acc_test(data_rand, data_soft_imp_rand, test_tuples_rand))\n",
    "end = time.perf_counter()\n",
    "print(end-start)"
   ]
  },
  {
   "cell_type": "code",
   "execution_count": 63,
   "id": "fa7e2854-380b-4ee0-919b-3344b0405d09",
   "metadata": {},
   "outputs": [
    {
     "name": "stdout",
     "output_type": "stream",
     "text": [
      "5.925\n",
      "88.41293610000002\n"
     ]
    }
   ],
   "source": [
    "M = 100\n",
    "start = time.perf_counter()\n",
    "data_med_imp_rand = SoftIMP_np(data_med_imp_rand, train_tuples_rand, M, 1);\n",
    "print(acc_test(data_rand, data_soft_imp_rand, test_tuples_rand))\n",
    "end = time.perf_counter()\n",
    "print(end-start)"
   ]
  },
  {
   "cell_type": "markdown",
   "id": "f9788394-b614-48d8-a8bb-f90edd43c452",
   "metadata": {},
   "source": [
    "À medida que $M$ aumenta bastante, o tempo de execução não só piora, mas a acurácia também. Por este motivo, centraremos nossa análise em valores de $M$ entre $1$ e $100$."
   ]
  },
  {
   "cell_type": "code",
   "execution_count": 68,
   "id": "798e2935-c821-46c5-b671-917343eabec1",
   "metadata": {},
   "outputs": [
    {
     "name": "stdout",
     "output_type": "stream",
     "text": [
      "5.925\n",
      "17.719647900000382\n"
     ]
    }
   ],
   "source": [
    "M = 1\n",
    "start = time.perf_counter()\n",
    "data_med_imp_rand = SoftIMP_np(data_med_imp_rand, train_tuples_rand, M, 2);\n",
    "print(acc_test(data_rand, data_soft_imp_rand, test_tuples_rand))\n",
    "end = time.perf_counter()\n",
    "print(end-start)"
   ]
  },
  {
   "cell_type": "code",
   "execution_count": 69,
   "id": "240fa1f1-6f8f-4e00-9c19-93f6234e525c",
   "metadata": {},
   "outputs": [
    {
     "name": "stdout",
     "output_type": "stream",
     "text": [
      "5.925\n",
      "39.55901559999984\n"
     ]
    }
   ],
   "source": [
    "M = 1\n",
    "start = time.perf_counter()\n",
    "data_soft_imp_rand = SoftIMP_np(data_train_rand, train_tuples_rand, M, 3);\n",
    "print(acc_test(data_rand, data_soft_imp_rand, test_tuples_rand))\n",
    "end = time.perf_counter()\n",
    "print(end-start)"
   ]
  },
  {
   "cell_type": "markdown",
   "id": "06428921-e60c-46c0-9bc6-13a202914369",
   "metadata": {},
   "source": [
    "### Teste com inicialização nula"
   ]
  },
  {
   "cell_type": "code",
   "execution_count": 66,
   "id": "2f7ed9b8-d575-496a-b31a-e16cd6699b36",
   "metadata": {},
   "outputs": [
    {
     "name": "stdout",
     "output_type": "stream",
     "text": [
      "5.925\n",
      "18.857339499999853\n"
     ]
    }
   ],
   "source": [
    "M = 1\n",
    "start = time.perf_counter()\n",
    "data_soft_imp_rand = SoftIMP_np(data_nan_rand, train_tuples_rand, M, 1);\n",
    "print(acc_test(data_rand, data_soft_imp_rand, test_tuples_rand))\n",
    "end = time.perf_counter()\n",
    "print(end-start)"
   ]
  },
  {
   "cell_type": "code",
   "execution_count": 72,
   "id": "1dccf070-e41a-4f5f-a39d-6dd19d49df28",
   "metadata": {},
   "outputs": [
    {
     "name": "stdout",
     "output_type": "stream",
     "text": [
      "5.93\n",
      "54.539179700000204\n"
     ]
    }
   ],
   "source": [
    "M = 10\n",
    "start = time.perf_counter()\n",
    "data_soft_imp_rand = SoftIMP_np(data_nan_rand, train_tuples_rand, M, 1);\n",
    "print(acc_test(data_rand, data_soft_imp_rand, test_tuples_rand))\n",
    "end = time.perf_counter()\n",
    "print(end-start)"
   ]
  },
  {
   "cell_type": "markdown",
   "id": "47b724ed-d1ef-4028-ae8f-aba7fa275d05",
   "metadata": {},
   "source": [
    "A diferença é pequena, mas parece que houve um ganho na acurácia utilizando a imputação nula."
   ]
  },
  {
   "cell_type": "markdown",
   "id": "bef659fb-efb8-498a-915a-9a1347859550",
   "metadata": {},
   "source": [
    "## 3.2. Acurácia e Tempo de Execução em função de $M$"
   ]
  },
  {
   "cell_type": "markdown",
   "id": "3ee806c2-6afe-4215-bf1f-6543040e927a",
   "metadata": {},
   "source": [
    "### Imputação inicial nula"
   ]
  },
  {
   "cell_type": "code",
   "execution_count": 110,
   "id": "fb2b536b-428b-4d09-b1e9-f2aa5d1e25e6",
   "metadata": {},
   "outputs": [
    {
     "name": "stdout",
     "output_type": "stream",
     "text": [
      "687.0382408000005\n"
     ]
    }
   ],
   "source": [
    "y_list_acc = list()\n",
    "y_list_time = list()\n",
    "x_list_M = list()\n",
    "i = 1\n",
    "\n",
    "start = time.perf_counter()\n",
    "i = 1\n",
    "while i < 11:\n",
    "    if i == 0:\n",
    "        M = 1    \n",
    "    else:\n",
    "        M = i * 10\n",
    "    x_list_M.append(M)\n",
    "    ping = time.perf_counter()\n",
    "    data_soft_imp_rand = SoftIMP_np(data_train_rand, train_tuples_rand, M, 1);\n",
    "    pong = time.perf_counter()\n",
    "    y_list_acc.append(acc_test(data_rand, data_soft_imp_rand, test_tuples_rand))\n",
    "    y_list_time.append(pong-ping)\n",
    "    i+=1\n",
    "end = time.perf_counter()\n",
    "print(end-start)"
   ]
  },
  {
   "cell_type": "code",
   "execution_count": 111,
   "id": "35195b94-8b50-426f-a9b5-d884bd321597",
   "metadata": {},
   "outputs": [
    {
     "data": {
      "image/png": "[encoded data removed]",
      "text/plain": [
       "<Figure size 432x288 with 1 Axes>"
      ]
     },
     "metadata": {
      "needs_background": "light"
     },
     "output_type": "display_data"
    }
   ],
   "source": [
    "#Plot da acurácia por número de componentes principais\n",
    "x_plot = x_list_M\n",
    "plt.scatter(x_plot,y_list_acc)\n",
    "plt.ylabel(\"Acurácia (%)\")\n",
    "plt.xlabel(\"Parâmetro M\")\n",
    "plt.xticks(np.arange(0, 110, step=10));\n",
    "plt.xlim(0, 105)\n",
    "plt.ylim(0, 20)\n",
    "plt.show()"
   ]
  },
  {
   "cell_type": "code",
   "execution_count": 115,
   "id": "c6e0aa43-4785-4f88-9b37-e52dfeca72dc",
   "metadata": {},
   "outputs": [
    {
     "data": {
      "image/png": "[encoded data removed]",
      "text/plain": [
       "<Figure size 432x288 with 1 Axes>"
      ]
     },
     "metadata": {
      "needs_background": "light"
     },
     "output_type": "display_data"
    }
   ],
   "source": [
    "#Plot de tempo de execução por número de componentes principais\n",
    "x_plot = x_list_M\n",
    "plt.scatter(x_plot,y_list_time)\n",
    "plt.ylabel(\"Tempo de Execução\")\n",
    "plt.xlabel(\"Parâmetro M\")\n",
    "plt.xticks(np.arange(0, 100, step=10));\n",
    "plt.xlim(0, 105)\n",
    "plt.ylim(0, 100)\n",
    "plt.show()"
   ]
  },
  {
   "cell_type": "markdown",
   "id": "62ac7163-a5d7-46be-ae34-77498d414ad9",
   "metadata": {},
   "source": [
    "## 3.3. Acurácia e Tempo de Execução em função da tolerância"
   ]
  },
  {
   "cell_type": "markdown",
   "id": "183a77cb-0e40-4874-80c4-e27daf9b68d2",
   "metadata": {},
   "source": [
    "### Imputação inicial nula"
   ]
  },
  {
   "cell_type": "code",
   "execution_count": 116,
   "id": "60b431a2-72fd-40b1-89f0-143788562146",
   "metadata": {},
   "outputs": [
    {
     "name": "stdout",
     "output_type": "stream",
     "text": [
      "5.925\n",
      "29.737457799999902\n"
     ]
    }
   ],
   "source": [
    "M = 1\n",
    "start = time.perf_counter()\n",
    "data_soft_imp_rand = SoftIMP_np(data_train_rand, train_tuples_rand, M, 2);\n",
    "print(acc_test(data_rand, data_soft_imp_rand, test_tuples_rand))\n",
    "end = time.perf_counter()\n",
    "print(end-start)"
   ]
  },
  {
   "cell_type": "code",
   "execution_count": 117,
   "id": "d78fec24-c05a-42f0-94a7-c9b9c0798fe3",
   "metadata": {},
   "outputs": [
    {
     "name": "stdout",
     "output_type": "stream",
     "text": [
      "5.925\n",
      "41.25348289999965\n"
     ]
    }
   ],
   "source": [
    "M = 1\n",
    "start = time.perf_counter()\n",
    "data_soft_imp_rand = SoftIMP_np(data_train_rand, train_tuples_rand, M, 3);\n",
    "print(acc_test(data_rand, data_soft_imp_rand, test_tuples_rand))\n",
    "end = time.perf_counter()\n",
    "print(end-start)"
   ]
  },
  {
   "cell_type": "code",
   "execution_count": 118,
   "id": "948c57df-78c0-4cd0-bd51-739a3d6badc6",
   "metadata": {},
   "outputs": [
    {
     "name": "stdout",
     "output_type": "stream",
     "text": [
      "5.925\n",
      "130.35683880000033\n"
     ]
    }
   ],
   "source": [
    "M = 1\n",
    "start = time.perf_counter()\n",
    "data_soft_imp_rand = SoftIMP_np(data_train_rand, train_tuples_rand, M, 4);\n",
    "print(acc_test(data_rand, data_soft_imp_rand, test_tuples_rand))\n",
    "end = time.perf_counter()\n",
    "print(end-start)"
   ]
  },
  {
   "cell_type": "code",
   "execution_count": 119,
   "id": "5ee52e05-ad29-4ae6-b29c-0d2f02b97802",
   "metadata": {},
   "outputs": [
    {
     "name": "stdout",
     "output_type": "stream",
     "text": [
      "222.7784702000008\n"
     ]
    }
   ],
   "source": [
    "y_list_tol = list()\n",
    "y_list_time_tol = list()\n",
    "x_list_tol = list()\n",
    "\n",
    "start = time.perf_counter()\n",
    "i = 1\n",
    "while i < 5:\n",
    "    x_list_tol.append(i)\n",
    "    ping = time.perf_counter()\n",
    "    data_soft_imp_rand = SoftIMP_np(data_train_rand, train_tuples_rand, 1, i);\n",
    "    pong = time.perf_counter()\n",
    "    y_list_tol.append(acc_test(data_rand, data_soft_imp_rand, test_tuples_rand))\n",
    "    y_list_time_tol.append(pong-ping)\n",
    "    i+=1\n",
    "end = time.perf_counter()\n",
    "print(end-start)"
   ]
  },
  {
   "cell_type": "code",
   "execution_count": 126,
   "id": "c3c2ca13-b41d-4b5d-8536-3441a4229ae7",
   "metadata": {},
   "outputs": [
    {
     "data": {
      "image/png": "[encoded data removed]",
      "text/plain": [
       "<Figure size 432x288 with 1 Axes>"
      ]
     },
     "metadata": {
      "needs_background": "light"
     },
     "output_type": "display_data"
    }
   ],
   "source": [
    "#Plot de tempo de execução por número de componentes principais\n",
    "x_plot = x_list_tol\n",
    "plt.scatter(x_plot,y_list_tol)\n",
    "plt.ylabel(\"Acurácia (%)\")\n",
    "plt.xlabel(\"Tolerância\")\n",
    "plt.xticks(np.arange(0, 100, step=10));\n",
    "plt.xlim(0, 5)\n",
    "plt.ylim(0, 20)\n",
    "plt.show()"
   ]
  },
  {
   "cell_type": "code",
   "execution_count": 122,
   "id": "4fe9ac23-c1a9-4faf-a2ea-a7bef734332d",
   "metadata": {},
   "outputs": [
    {
     "data": {
      "image/png": "[encoded data removed]",
      "text/plain": [
       "<Figure size 432x288 with 1 Axes>"
      ]
     },
     "metadata": {
      "needs_background": "light"
     },
     "output_type": "display_data"
    }
   ],
   "source": [
    "#Plot de tempo de execução por número de componentes principais\n",
    "x_plot = x_list_tol\n",
    "plt.scatter(x_plot,y_list_time_tol)\n",
    "plt.ylabel(\"Tempo de Execução\")\n",
    "plt.xlabel(\"Tolerância\")\n",
    "plt.xticks(np.arange(0, 100, step=10));\n",
    "plt.xlim(0, 5)\n",
    "plt.ylim(0, 200)\n",
    "plt.show()"
   ]
  },
  {
   "cell_type": "markdown",
   "id": "cf31c833-0ddf-4c7b-b238-c52c772bb890",
   "metadata": {},
   "source": [
    "## 3.4. Teste com SVD implementado e Comparação"
   ]
  },
  {
   "cell_type": "markdown",
   "id": "342adfdf-1031-4a19-a9b1-1be5dc304e6b",
   "metadata": {},
   "source": [
    "Se redefinimos a função de imputação com o SVD implementado, aparece um aviso a respeito do SVD, como se algum autovalor da matriz de covariância não fosse um número não-negativo. Corrigimos isso na implementação do SVD, adicionando um 'abs()' no argumento da raíz quadrada. Isso pode ser feito visto que nós sabemos de antemão que os autovalores da matriz de covariância devem necessariamente serem não-negativos."
   ]
  },
  {
   "cell_type": "code",
   "execution_count": 105,
   "id": "13595953-5b71-495b-9e65-0294035ceb2e",
   "metadata": {},
   "outputs": [],
   "source": [
    "#Função de imputação. 'm' é o número de componentes principais e 'dec' é o número de casas decimais de tolerância que queremos impor. Por exemplo,\n",
    "#tol = 5 será equivalente a uma tolerância de 10^-5 sob a condição de convergência\n",
    "def SoftIMP_SVD2(data, key, m, dec):\n",
    "\n",
    "    #Transforma dados em array do numpy\n",
    "    data_buff = np.array(data)\n",
    "\n",
    "    #Converte valores np.nan vazios em 0.0\n",
    "    i = 0\n",
    "    while i < len(data):\n",
    "            j=0;\n",
    "            while j < len(data_buff[0]):\n",
    "                if np.isnan(data_buff[i][j]):\n",
    "                    data_buff[i][j] = 0.0\n",
    "                j+=1\n",
    "            i+=1\n",
    "\n",
    "    data_imp_old = data_buff\n",
    "    \n",
    "    #Definição da tolerância de convergência\n",
    "    tol = 0.1 ** dec\n",
    "    \n",
    "    #Parte iterativa do algoritmo, calculando o valor inicial da objetiva\n",
    "    obj_old = 0.0\n",
    "    obj_new = 1.0\n",
    "    while abs(obj_new - obj_old) > tol:\n",
    "\n",
    "        #Atualiza o valor da objetiva antiga pela nova do passo anterior\n",
    "        obj_old = obj_new\n",
    "        \n",
    "        #Calcula a matriz de covariância da matriz imputada\n",
    "        cov_data = np.matmul(data_imp_old.transpose(),data_imp_old)\n",
    "    \n",
    "        #Calcula o SVD da matriz de covariância\n",
    "        cov_data_svd = SVD(cov_data)\n",
    "    \n",
    "        #Para o cálculo dos novos valores imputados, multiplicamos as M primeiras colunas linha da matriz imputada às M primeiras linhas da matriz V \n",
    "        #do SVD\n",
    "        data_trsp = data_imp_old.transpose()\n",
    "        data_trsp_m = data_trsp[:m]\n",
    "        data_orig_m = data_trsp_m.transpose()\n",
    "        cov_data_svd_m = cov_data_svd[2][:m]\n",
    "        data_imp_new = np.matmul(data_orig_m, cov_data_svd_m)\n",
    "\n",
    "        #Como nos estágios intermediários, a matriz de ratings passa a ter valores imputados fora do intervalo 1 e 5, precisamos retornar as entradas\n",
    "        #ao intervalo 1 e 5\n",
    "        data_imp_new_clip = np.clip(data_imp_new, 1, 5)\n",
    "        data_imp_new = data_imp_new_clip\n",
    "        \n",
    "        #Teste de convergência para a nova matriz imputada\n",
    "        obj_new = SoftIMP_obj(data_imp_old, data_imp_new, key)\n",
    "        \n",
    "        #Substituo os valores conhecidos de volta à matriz imputada\n",
    "        i = 0\n",
    "        while i < len(key):\n",
    "           data_imp_new[key[i][0]][key[i][1]] = data_buff[key[i][0]][key[i][1]]\n",
    "           i+=1\n",
    "\n",
    "        #Atualizo a matriz antiga para a nova\n",
    "        data_imp_old = data_imp_new\n",
    "\n",
    "    #Após convergir, converte entradas para o inteiro mais próximo\n",
    "    k = 0\n",
    "    while k < len(data_imp_new):\n",
    "        l = 0\n",
    "        while l < len(data_imp_new[0]):\n",
    "            data_imp_new[k][l] = round(data_imp_new[k][l])*1.0\n",
    "            l+=1\n",
    "        k+=1\n",
    "    data_imp_new_clip = np.clip(data_imp_new, 1, 5)\n",
    "    return data_imp_new_clip"
   ]
  },
  {
   "cell_type": "code",
   "execution_count": 106,
   "id": "af4bdeb1-aaec-40be-aa0e-cbd31db5f43b",
   "metadata": {},
   "outputs": [
    {
     "name": "stdout",
     "output_type": "stream",
     "text": [
      "5.925\n",
      "11.96046970000134\n"
     ]
    }
   ],
   "source": [
    "M = 10\n",
    "start = time.perf_counter()\n",
    "data_soft_imp_rand = SoftIMP_SVD2(data_train_rand, train_tuples_rand, M, 1);\n",
    "print(acc_test(data_rand, data_soft_imp_rand, test_tuples_rand))\n",
    "end = time.perf_counter()\n",
    "print(end-start)"
   ]
  },
  {
   "cell_type": "markdown",
   "id": "a7d87632-73fa-4d6c-8564-a328cb4de687",
   "metadata": {},
   "source": [
    "Como podemos ver, o resultado da acurácia é idêntico ao caso do SVD do sklearn. O tempo de execução tem a mesma ordem também, pelo menos para $M=10$."
   ]
  },
  {
   "cell_type": "markdown",
   "id": "f3489e5f-ca5c-46fe-be66-c91dd31f3917",
   "metadata": {},
   "source": [
    "# 4. Conclusões"
   ]
  },
  {
   "cell_type": "markdown",
   "id": "d4a1311b-6f5f-48ca-bc3e-764b4449b13b",
   "metadata": {},
   "source": [
    "Conseguimos implementar uma função SVD que encontra a decomposição correta da matriz num tempo de execução comparável à implementação pronta do sklearn. Além disso, tentamos uma implementação do algoritmo SoftImpute, mas não conseguimos boa acurácia: acertamos em torno de $6\\%$ das imputações. Além disso, o algoritmo ficou bem insensível a mudanças no parâmetro $M$ e na tolerância de convergência (podemos também não ter explorado bem o suficiente o espaço de possibilidades). Em contrapartida, o tempo de execução é bastante sensível a ambos, em especial à tolerância exigida.\n",
    "\n",
    "Procurando outras implementações de SoftImpute na internet, notamos também que o nosso teste de acurácia ficaria melhor expresso em termos do RMSE (<i>Root Mean-Squared Error</i>)."
   ]
  }
 ],
 "metadata": {
  "kernelspec": {
   "display_name": "Python 3 (ipykernel)",
   "language": "python",
   "name": "python3"
  },
  "language_info": {
   "codemirror_mode": {
    "name": "ipython",
    "version": 3
   },
   "file_extension": ".py",
   "mimetype": "text/x-python",
   "name": "python",
   "nbconvert_exporter": "python",
   "pygments_lexer": "ipython3",
   "version": "3.9.12"
  }
 },
 "nbformat": 4,
 "nbformat_minor": 5
}
