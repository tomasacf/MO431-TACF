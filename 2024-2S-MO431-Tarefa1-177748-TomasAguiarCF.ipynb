{
 "cells": [
  {
   "cell_type": "markdown",
   "id": "701381ae-835c-49ea-8321-76fad3c18358",
   "metadata": {},
   "source": [
    "# Tarefa 1 - Implementação de KNN e PCA"
   ]
  },
  {
   "cell_type": "markdown",
   "id": "02fef627-2b44-4a61-aef2-27f891e58205",
   "metadata": {},
   "source": [
    "Aluno: Tomás Aguiar Carneiro Ferreira\n",
    "\n",
    "RA: 177748"
   ]
  },
  {
   "cell_type": "code",
   "execution_count": 209,
   "id": "11839607-72c9-4d41-bb5f-aa3540aaee39",
   "metadata": {},
   "outputs": [],
   "source": [
    "import pandas as pd\n",
    "import numpy as np\n",
    "import jax.numpy as jnp\n",
    "import time\n",
    "from matplotlib import pyplot as plt\n",
    "\n",
    "#Função que será utilizada para embaralhar os dados em termos da classificação\n",
    "from sklearn.utils import shuffle \n",
    "\n",
    "#Função que utilizaremos para normalizar as features\n",
    "from sklearn.preprocessing import StandardScaler\n",
    "\n",
    "# Carregando o dataset Iris diretamente do scikit-learn\n",
    "from sklearn.datasets import load_wine\n",
    "wine = load_wine()\n",
    "\n",
    "# Convertendo para um DataFrame do Pandas para facilitar a manipulação\n",
    "data = pd.DataFrame(data= np.c_[wine['data'], wine['target']],\n",
    "                    columns= wine['feature_names'] + ['target'])\n",
    "\n",
    "# Convertendo para um array JAX se necessário para cálculos futuros\n",
    "data_jax = jnp.array(data.values)"
   ]
  },
  {
   "cell_type": "markdown",
   "id": "85ab5d20-c139-446b-bb47-5f63bfab84e9",
   "metadata": {},
   "source": [
    "## 1. Preparo dos Dados"
   ]
  },
  {
   "cell_type": "markdown",
   "id": "30a0f2eb-83d1-4230-a1d8-076744776647",
   "metadata": {},
   "source": [
    "Antes de implementar qualquer algoritmo, vamos primeiramente estudar o dataset a ser utilizado."
   ]
  },
  {
   "cell_type": "code",
   "execution_count": 2,
   "id": "02e17990-17b2-4e70-a9fe-be6fdd43731d",
   "metadata": {},
   "outputs": [
    {
     "name": "stdout",
     "output_type": "stream",
     "text": [
      "(178, 14)\n",
      "   alcohol  malic_acid   ash  alcalinity_of_ash  magnesium  total_phenols  \\\n",
      "0    14.23        1.71  2.43               15.6      127.0           2.80   \n",
      "1    13.20        1.78  2.14               11.2      100.0           2.65   \n",
      "2    13.16        2.36  2.67               18.6      101.0           2.80   \n",
      "3    14.37        1.95  2.50               16.8      113.0           3.85   \n",
      "4    13.24        2.59  2.87               21.0      118.0           2.80   \n",
      "\n",
      "   flavanoids  nonflavanoid_phenols  proanthocyanins  color_intensity   hue  \\\n",
      "0        3.06                  0.28             2.29             5.64  1.04   \n",
      "1        2.76                  0.26             1.28             4.38  1.05   \n",
      "2        3.24                  0.30             2.81             5.68  1.03   \n",
      "3        3.49                  0.24             2.18             7.80  0.86   \n",
      "4        2.69                  0.39             1.82             4.32  1.04   \n",
      "\n",
      "   od280/od315_of_diluted_wines  proline  target  \n",
      "0                          3.92   1065.0     0.0  \n",
      "1                          3.40   1050.0     0.0  \n",
      "2                          3.17   1185.0     0.0  \n",
      "3                          3.45   1480.0     0.0  \n",
      "4                          2.93    735.0     0.0  \n"
     ]
    }
   ],
   "source": [
    "#imprimir o shape de data\n",
    "print(data.shape)\n",
    "\n",
    "# Exibindo as primeiras linhas do DataFrame\n",
    "print(data.head())"
   ]
  },
  {
   "cell_type": "markdown",
   "id": "8c85ee40-d89a-4126-926d-484a1a9ca4dd",
   "metadata": {},
   "source": [
    "Como podemos ver, os dados englobam vários tipos de vinhos diferentes - linhas do dataset -, os quais possuem diferentes atributos (ou 'features') - colunas do dataset. Além disso, o último atributo, o 'target' consiste numa classificação do vinho, cuja atribuição - pelo menos no momento - é desconhecida para nós."
   ]
  },
  {
   "cell_type": "code",
   "execution_count": 3,
   "id": "08c5eb53-c5ec-428f-8d1c-2c1147324b4e",
   "metadata": {},
   "outputs": [
    {
     "data": {
      "text/plain": [
       "1.0    71\n",
       "0.0    59\n",
       "2.0    48\n",
       "Name: target, dtype: int64"
      ]
     },
     "execution_count": 3,
     "metadata": {},
     "output_type": "execute_result"
    }
   ],
   "source": [
    "data.target.value_counts()"
   ]
  },
  {
   "cell_type": "markdown",
   "id": "23bdc355-9ea9-446e-8a44-f873b4fd06dd",
   "metadata": {},
   "source": [
    "Como podemos ver, existem 3 classificações de vinho no nosso dataset. Para a implementação do KNN, entendemos que esta será a classificação a qual queremos 'adivinhar' com o uso do algoritmo."
   ]
  },
  {
   "cell_type": "markdown",
   "id": "0f62f8c2-9659-404c-84f6-62ea81894bc8",
   "metadata": {},
   "source": [
    "## 1.1. Normalização das Features"
   ]
  },
  {
   "cell_type": "markdown",
   "id": "529b8bad-5c68-4a3a-ab5e-8582ee2636cf",
   "metadata": {},
   "source": [
    "Para a aplicação do KNN e do PCA, é importante que normalizemos os atributos de nossa base de dados. A ideia é que diferentes atributos possuem valores numéricos muito distintos. Por exemplo, no nosso dataset, a feature 'proline' possui valores que chegam até 1000 enquanto que a feature 'hue' varia em torno de 1.0. Porém, note que não faz sentido normalizarmos a coluna de classificação."
   ]
  },
  {
   "cell_type": "code",
   "execution_count": 19,
   "id": "408a8b90-e629-4abc-a87e-44391fcf7c32",
   "metadata": {
    "scrolled": true
   },
   "outputs": [
    {
     "name": "stdout",
     "output_type": "stream",
     "text": [
      "      alcohol  malic_acid       ash  alcalinity_of_ash  magnesium  \\\n",
      "0    1.518613   -0.562250  0.232053          -1.169593   1.913905   \n",
      "1    0.246290   -0.499413 -0.827996          -2.490847   0.018145   \n",
      "2    0.196879    0.021231  1.109334          -0.268738   0.088358   \n",
      "3    1.691550   -0.346811  0.487926          -0.809251   0.930918   \n",
      "4    0.295700    0.227694  1.840403           0.451946   1.281985   \n",
      "..        ...         ...       ...                ...        ...   \n",
      "173  0.876275    2.974543  0.305159           0.301803  -0.332922   \n",
      "174  0.493343    1.412609  0.414820           1.052516   0.158572   \n",
      "175  0.332758    1.744744 -0.389355           0.151661   1.422412   \n",
      "176  0.209232    0.227694  0.012732           0.151661   1.422412   \n",
      "177  1.395086    1.583165  1.365208           1.502943  -0.262708   \n",
      "\n",
      "     total_phenols  flavanoids  nonflavanoid_phenols  proanthocyanins  \\\n",
      "0         0.808997    1.034819             -0.659563         1.224884   \n",
      "1         0.568648    0.733629             -0.820719        -0.544721   \n",
      "2         0.808997    1.215533             -0.498407         2.135968   \n",
      "3         2.491446    1.466525             -0.981875         1.032155   \n",
      "4         0.808997    0.663351              0.226796         0.401404   \n",
      "..             ...         ...                   ...              ...   \n",
      "173      -0.985614   -1.424900              1.274310        -0.930179   \n",
      "174      -0.793334   -1.284344              0.549108        -0.316950   \n",
      "175      -1.129824   -1.344582              0.549108        -0.422075   \n",
      "176      -1.033684   -1.354622              1.354888        -0.229346   \n",
      "177      -0.392751   -1.274305              1.596623        -0.422075   \n",
      "\n",
      "     color_intensity       hue  od280/od315_of_diluted_wines   proline  \n",
      "0           0.251717  0.362177                      1.847920  1.013009  \n",
      "1          -0.293321  0.406051                      1.113449  0.965242  \n",
      "2           0.269020  0.318304                      0.788587  1.395148  \n",
      "3           1.186068 -0.427544                      1.184071  2.334574  \n",
      "4          -0.319276  0.362177                      0.449601 -0.037874  \n",
      "..               ...       ...                           ...       ...  \n",
      "173         1.142811 -1.392758                     -1.231206 -0.021952  \n",
      "174         0.969783 -1.129518                     -1.485445  0.009893  \n",
      "175         2.224236 -1.612125                     -1.485445  0.280575  \n",
      "176         1.834923 -1.568252                     -1.400699  0.296498  \n",
      "177         1.791666 -1.524378                     -1.428948 -0.595160  \n",
      "\n",
      "[178 rows x 13 columns]\n",
      "      alcohol  malic_acid       ash  alcalinity_of_ash  magnesium  \\\n",
      "0    1.518613   -0.562250  0.232053          -1.169593   1.913905   \n",
      "1    0.246290   -0.499413 -0.827996          -2.490847   0.018145   \n",
      "2    0.196879    0.021231  1.109334          -0.268738   0.088358   \n",
      "3    1.691550   -0.346811  0.487926          -0.809251   0.930918   \n",
      "4    0.295700    0.227694  1.840403           0.451946   1.281985   \n",
      "..        ...         ...       ...                ...        ...   \n",
      "173  0.876275    2.974543  0.305159           0.301803  -0.332922   \n",
      "174  0.493343    1.412609  0.414820           1.052516   0.158572   \n",
      "175  0.332758    1.744744 -0.389355           0.151661   1.422412   \n",
      "176  0.209232    0.227694  0.012732           0.151661   1.422412   \n",
      "177  1.395086    1.583165  1.365208           1.502943  -0.262708   \n",
      "\n",
      "     total_phenols  flavanoids  nonflavanoid_phenols  proanthocyanins  \\\n",
      "0         0.808997    1.034819             -0.659563         1.224884   \n",
      "1         0.568648    0.733629             -0.820719        -0.544721   \n",
      "2         0.808997    1.215533             -0.498407         2.135968   \n",
      "3         2.491446    1.466525             -0.981875         1.032155   \n",
      "4         0.808997    0.663351              0.226796         0.401404   \n",
      "..             ...         ...                   ...              ...   \n",
      "173      -0.985614   -1.424900              1.274310        -0.930179   \n",
      "174      -0.793334   -1.284344              0.549108        -0.316950   \n",
      "175      -1.129824   -1.344582              0.549108        -0.422075   \n",
      "176      -1.033684   -1.354622              1.354888        -0.229346   \n",
      "177      -0.392751   -1.274305              1.596623        -0.422075   \n",
      "\n",
      "     color_intensity       hue  od280/od315_of_diluted_wines   proline  target  \n",
      "0           0.251717  0.362177                      1.847920  1.013009     0.0  \n",
      "1          -0.293321  0.406051                      1.113449  0.965242     0.0  \n",
      "2           0.269020  0.318304                      0.788587  1.395148     0.0  \n",
      "3           1.186068 -0.427544                      1.184071  2.334574     0.0  \n",
      "4          -0.319276  0.362177                      0.449601 -0.037874     0.0  \n",
      "..               ...       ...                           ...       ...     ...  \n",
      "173         1.142811 -1.392758                     -1.231206 -0.021952     2.0  \n",
      "174         0.969783 -1.129518                     -1.485445  0.009893     2.0  \n",
      "175         2.224236 -1.612125                     -1.485445  0.280575     2.0  \n",
      "176         1.834923 -1.568252                     -1.400699  0.296498     2.0  \n",
      "177         1.791666 -1.524378                     -1.428948 -0.595160     2.0  \n",
      "\n",
      "[178 rows x 14 columns]\n"
     ]
    }
   ],
   "source": [
    "#Importamos a função scaler\n",
    "from sklearn.preprocessing import StandardScaler\n",
    "scaler = StandardScaler()\n",
    "\n",
    "#Isolamos o dataset das features\n",
    "data_features = data.drop('target', axis = 'columns')\n",
    "\n",
    "#Normalizamos cada coluna, subtraindo cada dado pela média da feature e dividindo pelo desvio padrão da mesma\n",
    "n_data = scaler.fit_transform(data_features)\n",
    "\n",
    "#Como o resultado da operação é uma np.array, convertemos de volta a um pd.DataFrame com as mesmas colunas\n",
    "n_data = pd.DataFrame(data = n_data, columns = data_features.columns.values)\n",
    "print(n_data)\n",
    "\n",
    "#Re-inserimos a coluna de classificação aos dados\n",
    "n_data.insert(13, \"target\", data['target'], True)\n",
    "print(n_data)"
   ]
  },
  {
   "cell_type": "markdown",
   "id": "75ecd749-f6ff-4e39-8223-a4870fb3de47",
   "metadata": {},
   "source": [
    "## 1.2. Divisão de Dados de Treino e Teste"
   ]
  },
  {
   "cell_type": "markdown",
   "id": "d5710e6b-6921-463b-8599-2730a8f98bfb",
   "metadata": {},
   "source": [
    "Agora que todas as features do nosso dataset estão normalizadas, podemos finalmente dividir este dataset em dados de treino e de teste. Porém, notamos que a coluna target está organizada demais: as classificações estão listadas de 0.0 a 2.0, em ordem. Logo, antes de dividir os dados, vamos embaralhar as linhas de dados através da função 'shuffle'."
   ]
  },
  {
   "cell_type": "code",
   "execution_count": 21,
   "id": "bf6382f9-e521-4444-aa09-d48df1771ecd",
   "metadata": {},
   "outputs": [
    {
     "name": "stdout",
     "output_type": "stream",
     "text": [
      "79     1.0\n",
      "63     1.0\n",
      "66     1.0\n",
      "123    1.0\n",
      "50     0.0\n",
      "      ... \n",
      "171    2.0\n",
      "117    1.0\n",
      "31     0.0\n",
      "20     0.0\n",
      "13     0.0\n",
      "Name: target, Length: 178, dtype: float64\n"
     ]
    }
   ],
   "source": [
    "#Redefinimos o n_data como os dados embaralhados\n",
    "n_data = shuffle(n_data)\n",
    "\n",
    "print(n_data['target'])"
   ]
  },
  {
   "cell_type": "markdown",
   "id": "b8aa6350-20da-40bb-ac77-c774c8397614",
   "metadata": {},
   "source": [
    "Com isto, garantimos que os dados de treino e de teste estarão suficientemente homogêneos em termos da classificação. Para a divisão de dados de treino e teste, decidimos divir em aproximadamente 2/3 de dados para treino e 1/3 de dados para teste."
   ]
  },
  {
   "cell_type": "code",
   "execution_count": 46,
   "id": "7a892fd3-a478-4d10-b87c-383354ff33a5",
   "metadata": {},
   "outputs": [],
   "source": [
    "#Definição do tamanho dos dados de treino e teste\n",
    "train_size = round(data.shape[0]*2/3)\n",
    "test_size = data.shape[0]- train_size\n",
    "\n",
    "#Divisão dos dados de treino e de teste\n",
    "n_data_train = n_data.head(train_size)\n",
    "n_data_test = n_data.tail(test_size)"
   ]
  },
  {
   "cell_type": "markdown",
   "id": "118b049a-6e2c-4270-8154-97a1eb326cb8",
   "metadata": {},
   "source": [
    "## 2. Algoritmo KNN"
   ]
  },
  {
   "cell_type": "markdown",
   "id": "8cd5b879-7e78-40af-8166-4ebcf57469c1",
   "metadata": {},
   "source": [
    "O algoritmo KNN é um algoritmo de classificação que funciona da seguinte maneira. Temos um dataset com várias features, a qual está dividida em certas 'classes de pontos'. No nosso caso, temos vários vinhos os quais são divididos em 3 classes distintas: 0.0, 1.0 e 2.0. A pergunta que queremos responder é a seguinte: se introduzimos um novo vinho no nosso dataset, de classificação desconhecida, podemos adivinhar a sua classificação através de vinhos com atributos semelhantes?\n",
    "\n",
    "A forma que o KNN trata esta pergunta é através de distância geométrica: considerando que cada dado do nosso dataset é um vetor num espaço n-dimensional de features, calculamos a distância do novo ponto introduzido a todos os dados do nosso dataset, escolhemos os 'k' dados mais próximos ao novo ponto e classificamos o novo ponto através de um sistema de votos. Isto é, a classe do novo ponto introduzido será igual à classe majoritária dos vizinhos mais próximos. Se temos k = 5 vizinhos mais próximos e 3 deles forem da classificação 1.0, 1 for da classificação 0.0 e 1 for da classificação 2.0, então concluímos que o novo dado será da classificação 1.0. \n",
    "\n",
    "Como temos 3 classificações diferentes, precisamos incluir uma condição de desempate no nosso KNN: se no nosso exemplo anterior, para k = 5, tivéssemos 2 da classificação 1.0, 2 da classificação 0.0 e 1 for da classificação 2.0, nosso algoritmo empacaria. Escolhemos, portanto, que se este tipo de empate ocorrer, a classificação default será aquela do ponto mais próximo."
   ]
  },
  {
   "cell_type": "markdown",
   "id": "c6de091f-c0a7-4e55-b89d-9bc00aa176b0",
   "metadata": {},
   "source": [
    "### 2.1. Função Distância"
   ]
  },
  {
   "cell_type": "markdown",
   "id": "4682e43f-e4a9-4ed3-90a7-f4bc9bac285a",
   "metadata": {},
   "source": [
    "Como um dos critérios de avaliação do projeto envolve a comparação entre a aplicação do KNN para diferentes definições de distância, decidimos centrar a nossa discussão na p-norma:\n",
    "\\begin{equation}\n",
    "d\\left(\\boldsymbol{x},\\boldsymbol{y}\\right)=\\left\\|\\boldsymbol{x}-\\boldsymbol{y}\\right\\|=\\left(\\sum_{i=1}^N\\left|x_i - y_i\\right|^p\\right)^{\\frac{1}{p}}\n",
    "\\end{equation}"
   ]
  },
  {
   "cell_type": "markdown",
   "id": "948bee34-5c62-44a2-8add-3e5ca1588a25",
   "metadata": {},
   "source": [
    "Isto permitirá a construção de gráficos de acurácia do KNN como função do inteiro 'p' escolhido para o cálculo da norma. Note que para p = 1, temos a norma de Manhattan e p = 2, a norma euclidiana."
   ]
  },
  {
   "cell_type": "code",
   "execution_count": 328,
   "id": "8d8395d9-0035-4514-ae9d-b0c0206917fb",
   "metadata": {},
   "outputs": [],
   "source": [
    "#Definição da função p-norma\n",
    "def p_norm(vec1,vec2,p):\n",
    "    subvec=vec1-vec2\n",
    "    abs_vec=np.abs(subvec)**p\n",
    "    arg_norma = np.sum(abs_vec)\n",
    "    norma = arg_norma**(1.0/p)\n",
    "    return norma"
   ]
  },
  {
   "cell_type": "code",
   "execution_count": 329,
   "id": "bb732901-52ee-4e91-bf7b-3f986a2839fe",
   "metadata": {},
   "outputs": [
    {
     "data": {
      "text/plain": [
       "0    1.414214\n",
       "dtype: float64"
      ]
     },
     "execution_count": 329,
     "metadata": {},
     "output_type": "execute_result"
    }
   ],
   "source": [
    "A = pd.DataFrame(data = [0,1,0])\n",
    "B = pd.DataFrame(data = [0,0,1])\n",
    "p_norm(A,B,2)"
   ]
  },
  {
   "cell_type": "markdown",
   "id": "3477bb86-5264-48cf-934a-727ad7bddae6",
   "metadata": {},
   "source": [
    "### 2.2. Implementação do KNN"
   ]
  },
  {
   "cell_type": "markdown",
   "id": "775ff239-ffd2-4b4b-8db9-217170e7ad7b",
   "metadata": {},
   "source": [
    "Como a nossa função KNN faz uso da p-norma, esta possuirá um argumento adicional comparado ao exigido pelo projeto. Além disso, trocamos um dos argumentos da função: ao invés de colocarmos como input o y_train, usamos como input a coluna de classificação original, não-embaralhada. A justificativa é que não consegui pensar num jeito melhor de 'encontrar' a classificação do datapoint contida no loop 'for' que foi utilizado no código.\n",
    "\n",
    "Inclusive, um padrão que se repetirá neste código é a falta de otimização de vários procedimentos, o que resultam em rotinas demoradas e computacionalmente custosas. Por ora, não consegui fazer de outro jeito.\n",
    "\n",
    "Novamente, reiteramos que na definição do nosso KNN nós incluímos um critério de desempate: caso haja igualdade nas votações majoritárias entre primeiros vizinhos, vence a classificação do ponto mais próximo."
   ]
  },
  {
   "cell_type": "code",
   "execution_count": 340,
   "id": "8dfd3e53-b6c9-4cd4-b955-8a328c7650d4",
   "metadata": {},
   "outputs": [],
   "source": [
    "from collections import Counter\n",
    "\n",
    "#Definição da Função KNN\n",
    "def KNN(xtrain_datapoints, data_target, new_datapoint, k, p):\n",
    "    distances = list()\n",
    "    y = list(data_target)\n",
    "\n",
    "    #Itera sobre linhas do dataset de treino\n",
    "    for datapoint in xtrain_datapoints.iterrows():\n",
    "\n",
    "        #Cálculo da distância e guardamos a classificação do ponto, em termos do índice datapoint[0], o qual será um índice entre 0 a 177, visto que \n",
    "        #este vem de um dataset embaralhado\n",
    "        distance = p_norm(datapoint[1], new_datapoint,p)\n",
    "        i = datapoint[0]\n",
    "        classification = y[i]\n",
    "\n",
    "        #A lista de distâncias será formada por pares da distância ao datapoint de treino e a respectiva classificação deste ponto\n",
    "        distances.append([distance, classification])\n",
    "\n",
    "    #Ordenamos a lista de pares (distância, classificação) em termos das distâncias e selecionamos as 'k' entradas superiores\n",
    "    ksort_distances = sorted(distances)[:k]\n",
    "\n",
    "    #Criamos uma lista das classificações dos primeiros vizinhos e contamos os votos\n",
    "    kclassifications = [item[1] for item in ksort_distances]\n",
    "    count_votes = Counter(kclassifications)\n",
    "\n",
    "    #Condicional de desempate, o qual foi discutido anteriormente\n",
    "    if count_votes.most_common()[0][0]==count_votes.most_common()[0][1]: \n",
    "        result = ksort_distances[0][1]\n",
    "    else:\n",
    "        \n",
    "        #Caso haja um claro voto majoritário, ignoramos o critério de desempate\n",
    "        result = count_votes.most_common()[0][0]\n",
    "        \n",
    "    return result      "
   ]
  },
  {
   "cell_type": "markdown",
   "id": "6e25d47d-c22c-4621-8c37-91e881aa7b2d",
   "metadata": {},
   "source": [
    "### 2.3. Aplicação do KNN"
   ]
  },
  {
   "cell_type": "markdown",
   "id": "6533f20f-0e7b-47d5-b7f7-05fa24b86d42",
   "metadata": {},
   "source": [
    "Agora que temos a função KNN, podemos finalmente aplicar ao nosso dataset e montar gráficos de acurácia como função do número de primeiros vizinhos (k) e da escolha de p-norma (p)."
   ]
  },
  {
   "cell_type": "code",
   "execution_count": 341,
   "id": "5be0ef72-b120-4f1e-87dc-07381fe48f03",
   "metadata": {},
   "outputs": [],
   "source": [
    "# Definimos os dados de treino e os de teste\n",
    "X_train = n_data_train.drop('target', axis = 'columns')\n",
    "X_test = n_data_test.drop('target', axis = 'columns')\n",
    "y_test = n_data_test['target']"
   ]
  },
  {
   "cell_type": "markdown",
   "id": "c911b689-dfe4-465d-b730-fafbd971d58f",
   "metadata": {},
   "source": [
    "### Teste de Acurácia"
   ]
  },
  {
   "cell_type": "markdown",
   "id": "0c5caa71-127b-42be-819d-4dd3e9165b76",
   "metadata": {},
   "source": [
    "#### I. Para diferentes números de vizinhos (k)"
   ]
  },
  {
   "cell_type": "code",
   "execution_count": 342,
   "id": "dacd0cd2-0dc0-41c7-9a83-fdaa15f74f0a",
   "metadata": {},
   "outputs": [
    {
     "name": "stdout",
     "output_type": "stream",
     "text": [
      "51.1029256000038\n"
     ]
    }
   ],
   "source": [
    "#Eixos do plot a ser montado\n",
    "k_plot = list()\n",
    "start = time.perf_counter()\n",
    "\n",
    "#Aplicamos o KNN para cada ponto do dataset de teste\n",
    "for item in list(range(20)):\n",
    "    yknn_k = list()\n",
    "    buff = 0.0\n",
    "    for datapoint in X_test.iterrows():\n",
    "        buff = KNN(X_train, data['target'], datapoint[1], item + 1,2)\n",
    "        yknn_k.append(buff)\n",
    "    y_buff = 100*(yknn_k==y_test).value_counts()/len(y_test)\n",
    "    k_plot.append(y_buff[1])\n",
    "end = time.perf_counter()\n",
    "print(end-start)"
   ]
  },
  {
   "cell_type": "code",
   "execution_count": 343,
   "id": "f5509e9e-e63c-4030-9dba-a64cb73525e9",
   "metadata": {
    "scrolled": true
   },
   "outputs": [
    {
     "data": {
      "image/png": "[encoded data removed]",
      "text/plain": [
       "<Figure size 432x288 with 1 Axes>"
      ]
     },
     "metadata": {
      "needs_background": "light"
     },
     "output_type": "display_data"
    }
   ],
   "source": [
    "#Plot da acurácia por número de vizinhos\n",
    "x_plot = range(1,21)\n",
    "plt.scatter(x_plot,k_plot)\n",
    "plt.ylabel(\"Acurácia (%)\")\n",
    "plt.xlabel(\"Números de vizinhos (k)\")\n",
    "plt.xticks(np.arange(0, 21, step=1));\n",
    "plt.xlim(0, 21)\n",
    "plt.ylim(90, 100)\n",
    "plt.show()"
   ]
  },
  {
   "cell_type": "code",
   "execution_count": 344,
   "id": "0c2ab6b1-25dc-4132-a32f-4654170ef7d9",
   "metadata": {
    "scrolled": true
   },
   "outputs": [
    {
     "name": "stdout",
     "output_type": "stream",
     "text": [
      "98.30508474576271\n"
     ]
    }
   ],
   "source": [
    "print(max(k_plot))"
   ]
  },
  {
   "cell_type": "markdown",
   "id": "29bd4128-f7d8-4211-8630-aa0b61c97ff5",
   "metadata": {},
   "source": [
    "#### II. Para diferentes p-normas"
   ]
  },
  {
   "cell_type": "code",
   "execution_count": 345,
   "id": "a179baa2-ec08-4b96-a630-65b89417bcc1",
   "metadata": {},
   "outputs": [
    {
     "name": "stdout",
     "output_type": "stream",
     "text": [
      "53.839380000004894\n"
     ]
    }
   ],
   "source": [
    "#Eixos do plot a ser montado\n",
    "p_plot = list()\n",
    "tp_plot = list()\n",
    "\n",
    "start = time.perf_counter()\n",
    "\n",
    "#Aplicamos o KNN para cada ponto do dataset de teste\n",
    "for item in list(range(20)):\n",
    "    yknn_k = list()\n",
    "    buff = 0.0\n",
    "    for datapoint in X_test.iterrows():\n",
    "        buff = KNN(X_train, data['target'], datapoint[1], 4, item + 1)\n",
    "        yknn_k.append(buff)\n",
    "    y_buff = 100*(yknn_k==y_test).value_counts()/len(y_test)\n",
    "    p_plot.append(y_buff[1])\n",
    "end = time.perf_counter()\n",
    "print(end-start)"
   ]
  },
  {
   "cell_type": "code",
   "execution_count": 346,
   "id": "6567505c-9255-4687-9a3d-095769964c5d",
   "metadata": {},
   "outputs": [
    {
     "data": {
      "image/png": "[encoded data removed]",
      "text/plain": [
       "<Figure size 432x288 with 1 Axes>"
      ]
     },
     "metadata": {
      "needs_background": "light"
     },
     "output_type": "display_data"
    }
   ],
   "source": [
    "plt.scatter(x_plot,p_plot)\n",
    "plt.ylabel(\"Acurácia (%)\")\n",
    "plt.xlabel(\"P-norma Utilizada (p)\")\n",
    "plt.xticks(np.arange(0, 21, step=1));\n",
    "plt.xlim(0, 21)\n",
    "plt.ylim(90, 100)\n",
    "plt.show()"
   ]
  },
  {
   "cell_type": "markdown",
   "id": "9cccc26b-794e-4e36-a0db-52625a5dd2f4",
   "metadata": {},
   "source": [
    "Para várias execuções, nos parece que $k = 5$ e $p = 5$ tem sido escolhas ótimas para a utilização do KNN."
   ]
  },
  {
   "cell_type": "code",
   "execution_count": 347,
   "id": "1c99403e-f100-4e08-8a9b-848bfadae136",
   "metadata": {},
   "outputs": [
    {
     "name": "stdout",
     "output_type": "stream",
     "text": [
      "2.6297735999978613\n",
      "True     98.305085\n",
      "False     1.694915\n",
      "Name: target, dtype: float64\n"
     ]
    }
   ],
   "source": [
    "yknn_k = list()\n",
    "start = time.perf_counter()\n",
    "for datapoint in X_test.iterrows():\n",
    "    buff = KNN(X_train, data['target'], datapoint[1], 5,5)\n",
    "    yknn_k.append(buff)\n",
    "end = time.perf_counter()\n",
    "print(end-start)\n",
    "print(100*(yknn_k==y_test).value_counts()/len(y_test))"
   ]
  },
  {
   "cell_type": "markdown",
   "id": "8d14eccd-96e8-4387-a7c5-34a8e21443fc",
   "metadata": {},
   "source": [
    "### Par (k,p) que otimiza a acurácia "
   ]
  },
  {
   "cell_type": "markdown",
   "id": "17eeaecf-6f84-4e53-aa5a-a1d8ea42462f",
   "metadata": {},
   "source": [
    "Por completeza, plotamos a acurácia como uma função simultânea do número de vizinhos utilizado no KNN e a p-norma. Visto que o tempo de execução desta parte do notebook é grande, deixamos a rotina completamente comentada e mantivemos somente o gráfico com o resultado final encontrado."
   ]
  },
  {
   "cell_type": "code",
   "execution_count": 348,
   "id": "f2f7d39e-825d-4b72-9fb5-44179e961714",
   "metadata": {},
   "outputs": [
    {
     "name": "stdout",
     "output_type": "stream",
     "text": [
      "1065.486352299995\n"
     ]
    }
   ],
   "source": [
    "#kp_matrix = list()\n",
    "\n",
    "#start = time.perf_counter()\n",
    "\n",
    "#Aplicamos o KNN para cada ponto do dataset de teste\n",
    "#for item_p in list(range(20)):\n",
    "#    k_line = list()\n",
    "#    for item_k in list(range(20)):\n",
    "#        yknn_k = list()\n",
    "#        buff = 0.0\n",
    "#        for datapoint in X_test.iterrows():\n",
    "#            buff = KNN(X_train, data['target'], datapoint[1], item_k + 1, item_p + 1)\n",
    "#            yknn_k.append(buff)\n",
    "#        y_buff = 100*(yknn_k==y_test).value_counts()/len(y_test)\n",
    "#        k_line.append(y_buff[1])\n",
    "#    kp_matrix.append(k_line)\n",
    "#end = time.perf_counter()\n",
    "#print(end-start)"
   ]
  },
  {
   "cell_type": "code",
   "execution_count": 349,
   "id": "77443ce3-2976-492c-a947-889905fdb522",
   "metadata": {
    "scrolled": true
   },
   "outputs": [
    {
     "data": {
      "text/plain": [
       "(0.5, 20.5)"
      ]
     },
     "execution_count": 349,
     "metadata": {},
     "output_type": "execute_result"
    },
    {
     "data": {
      "image/png": "[encoded data removed]",
      "text/plain": [
       "<Figure size 432x288 with 2 Axes>"
      ]
     },
     "metadata": {
      "needs_background": "light"
     },
     "output_type": "display_data"
    }
   ],
   "source": [
    "#x = range(1,21)\n",
    "#y = range(1,21)\n",
    "#Z = kp_matrix\n",
    "#fig, ax = plt.subplots()\n",
    "#contour = ax.pcolormesh(x, y, Z)\n",
    "\n",
    "#plt.xticks(np.arange(1, 21, step=1));\n",
    "#plt.yticks(np.arange(1, 21, step=1));\n",
    "#plt.colorbar(contour)\n",
    "#plt.ylabel(\"p-norma (p)\")\n",
    "#plt.xlabel(\"Número de vizinhos (k)\")\n",
    "#plt.xlim(0.5, 20.5)\n",
    "#plt.ylim(0.5, 20.5)"
   ]
  },
  {
   "cell_type": "markdown",
   "id": "3cdab386-72fe-4365-beb1-108cb5529873",
   "metadata": {},
   "source": [
    "### Comparação com sklearn"
   ]
  },
  {
   "cell_type": "code",
   "execution_count": 125,
   "id": "2908f373-0d1b-4980-a240-4d08a9426f29",
   "metadata": {},
   "outputs": [
    {
     "name": "stdout",
     "output_type": "stream",
     "text": [
      "1.8155743000006623\n",
      "True     93.220339\n",
      "False     6.779661\n",
      "Name: target, dtype: float64\n"
     ]
    }
   ],
   "source": [
    "yknn_k = list()\n",
    "start = time.perf_counter()\n",
    "for datapoint in X_test.iterrows():\n",
    "    buff = KNN(X_train, data['target'], datapoint[1], 5,1)\n",
    "    yknn_k.append(buff)\n",
    "end = time.perf_counter()\n",
    "print(end-start)\n",
    "print(100*(yknn_k==y_test).value_counts()/len(y_test))"
   ]
  },
  {
   "cell_type": "code",
   "execution_count": 126,
   "id": "b20e7fe1-c6e5-42b7-9fb8-0c6d888bcc0c",
   "metadata": {},
   "outputs": [
    {
     "name": "stdout",
     "output_type": "stream",
     "text": [
      "0.0038313000004563946\n",
      "True     93.220339\n",
      "False     6.779661\n",
      "Name: target, dtype: float64\n"
     ]
    }
   ],
   "source": [
    "from sklearn.neighbors import KNeighborsClassifier\n",
    "y_train = n_data_train['target']\n",
    "start = time.perf_counter()\n",
    "neigh = KNeighborsClassifier(n_neighbors=5, metric = 'manhattan')\n",
    "neigh.fit(X_train, y_train)\n",
    "end = time.perf_counter()\n",
    "print(end-start)\n",
    "print(100*(neigh.predict(X_test)==y_test).value_counts()/len(y_test))"
   ]
  },
  {
   "cell_type": "markdown",
   "id": "420b0c88-d9b9-436e-b16c-b0453d4f901d",
   "metadata": {},
   "source": [
    "Para uma mesma escolha de métrica (a Manhattan, p = 1), nossa acurácia é idêntica à do sklearn, mas em compensação a implementação do sklearn é muito mais otimizada do que a nossa, vencendo o tempo de execução por 3 ordens de grandeza. Notamos, no entanto, que a nossa utilização da p-norma permite uma melhoria na acurácia de até 5%."
   ]
  },
  {
   "cell_type": "markdown",
   "id": "a98d8a89-6407-4113-b871-384aceafb52f",
   "metadata": {},
   "source": [
    "## 3. Algoritmo PCA"
   ]
  },
  {
   "cell_type": "markdown",
   "id": "6c42be25-3451-43e2-9b89-625940b5b017",
   "metadata": {},
   "source": [
    "Até o momento, temos aplicado o algoritmo KNN levando em consideração todas as features do dataset. Enquanto que para 13 features isso não resulta num custo computacional muito elevado, para datasets com milhares de features a computação do KNN se torna rapidamente intractável. \n",
    "\n",
    "Um método para reduzir o custo computacional de certos algoritmos - como o KNN - é utilizando-se o PCA (Análise de Componentes Principais). A ideia é que ao invés de computar as distâncias levando em consideração todas as 13 features do nosso dataset, nós podemos reduzir a dimensionalidade dos nossos dados, escolhendo os seus atributos principais. Isto é, os 'r' atributos (r < 13) que melhor determinam o comportamento do dataset como um todo. Isto reduz os dados de treino (e de teste) de uma matriz (178, 13) para uma matrix (178, r), reduzindo o custo computacional do nosso algoritmo."
   ]
  },
  {
   "cell_type": "markdown",
   "id": "bfedbe65-fe9c-4e65-93b0-e1f33e0fd558",
   "metadata": {},
   "source": [
    "### 3.1. Matriz de Covariância"
   ]
  },
  {
   "cell_type": "markdown",
   "id": "4f5ac44d-4a4b-40a7-99a5-bdd8f00bb32a",
   "metadata": {},
   "source": [
    "No cabeçalho desta seção, mencionamos como o PCA nos dá uma forma de reduzir a dimensionalidade do nosso dataset, através das features 'dominantes'. Mas o que significa uma feature ser 'dominante'?\n",
    "\n",
    "Se estamos pensando em termos probabilísticos, onde o valor de uma determinada feature de um determinado datapoint é uma variável aleatória, as features 'dominantes' serão aquelas cujos datapoints possuem a maior variância em torno do valor médio da feature. O motivo disto é evidente: se numa amostra de datapoints, uma determinada feature tem um valor aproximadamente idêntico para todos os datapoints (valor muito próximo da média/de variância pequena), então é certo de que esta feature não influenciará na classificação da amostra. No nosso caso, se todos os vinhos tivessem um atributo aproximadamente igual, uma amostragem aleatória deste feature não forneceria informação alguma para identificar se o vinho pertence à classe 0.0, 1.0 ou 2.0.\n",
    "\n",
    "No outro extremo, features que possuem alta variância englobam bem mais o caráter geral do dataset e delimitam diferentes classificações de datapoints baseado em diferentes intervalos de valores de determinadas features. Concluímos, portanto, que as features mais relevantes do nosso dataset serão aquelas que têm a maior variância.\n",
    "\n",
    "Para iniciar a nossa análise a respeito das features 'dominantes', calculamos a matriz de covariância do dataset ($C$):\n",
    "\n",
    "\\begin{equation}\n",
    "C = X^T X\n",
    "\\end{equation}\n",
    "\n",
    "Onde $X$ é nossa matriz de dados normalizada."
   ]
  },
  {
   "cell_type": "code",
   "execution_count": 207,
   "id": "b3ed34d6-f27f-40a8-8ebd-06d41c86c6dc",
   "metadata": {},
   "outputs": [
    {
     "name": "stdout",
     "output_type": "stream",
     "text": [
      "(13, 13)\n"
     ]
    }
   ],
   "source": [
    "X_data = n_data.drop('target', axis = 'columns')\n",
    "X_data_jax = jnp.array(X_data.values)\n",
    "corr_n_data = np.matmul(X_data_jax.transpose(),X_data_jax)\n",
    "print(corr_n_data.shape)"
   ]
  },
  {
   "cell_type": "markdown",
   "id": "f3f4c8f6-7c8f-4d12-99bf-a574e9172bb9",
   "metadata": {},
   "source": [
    "Em datasets gerais, as features não são independentes umas das outras: diferentes pares de features podem determinar comportamentos diferentes do dataset e não são a rigor separáveis. No entanto, visto que matrizes de covariância são matrizes simétricas positivo-definidas, a álgebra linear nos diz que todos os autovalores desta matriz serão não-negativos. Isso significa que a diagonalização da matriz não só existe, mas de que os autovalores da matriz diagonal representarão as variâncias das 'direções independentes' do nosso dataset. Isto é, a diagonalização da matriz de covariância é equivalente a reescrevermos esta numa base cujas features são independentes umas das outras.\n",
    "\n",
    "É como se tivéssemos, nesta nova base, uma matriz de covariância diagonal. Isto permite identificarmos as variâncias dominantes e, portanto, os comportamentos estatísticos dominantes do nosso dataset."
   ]
  },
  {
   "cell_type": "markdown",
   "id": "183376c3-6f20-48cc-9ccb-b821ca77d86c",
   "metadata": {},
   "source": [
    "### 3.2. A Técnica SVD e sua relação com o PCA"
   ]
  },
  {
   "cell_type": "markdown",
   "id": "ceb24312-4c4e-42fc-8c90-95f952ab6c5a",
   "metadata": {},
   "source": [
    "Para diagonalizarmos a matriz de covariância, iremos utilizar o SVD (Decomposição em Valores Singulares). Toda matriz possui um SVD único, isto é, toda matriz pode ser decomposta na forma a seguir:"
   ]
  },
  {
   "cell_type": "markdown",
   "id": "9835c95d-af37-4f3d-a4b1-c839828d3dd6",
   "metadata": {},
   "source": [
    "\\begin{equation}\n",
    "X = U \\Sigma V^{T}\n",
    "\\end{equation}"
   ]
  },
  {
   "cell_type": "markdown",
   "id": "2fdd12e0-63c1-4ff1-832d-3083323bdc88",
   "metadata": {},
   "source": [
    "Em que $U$ e $V$ são matrizes ortogonais e $\\Sigma$ é uma matriz 'semi-diagonal': se a matriz $X$ for uma matrix $m\\times n$ em que $m>n$, $\\sigma$ será uma matriz $m\\times n$ composta por uma matriz diagonal $m\\times m$ e com o restante de suas entradas nulas.\n",
    "\n",
    "De modo geral, poderíamos aplicar o SVD diretamente na matriz de dados. No entanto, isto seria uma medida excessiva: não estamos interessados na matriz ortogonal $U$ de dimensões (178, 178) no SVD do dataset. Isto é, nós estamos interessados nas correlações entre as diferentes features do nosso dataset e, portanto, na base de vetores ortonormais que diagonalizam a matriz de covariância (a matriz $V$, de dimensões (13,13)).\n",
    "\n",
    "A relação disto com o PCA pode ser entendido da seguinte maneira:\n",
    "\n",
    "\\begin{equation}\n",
    "C = X^T X = (U \\Sigma V^{T})^T U \\Sigma V^{T} = V \\Sigma^T U^T U \\Sigma V^{T} = V \\Sigma^T \\Sigma  V^{T} \\equiv V D  V^{T} \n",
    "\\end{equation}"
   ]
  },
  {
   "cell_type": "markdown",
   "id": "7c5ca6b1-59e8-4d49-9dd0-545b9f2065e0",
   "metadata": {},
   "source": [
    "Onde $X$ é a matriz do dataset de features normalizadas, $C$ é a matriz de covariância que havíamos mencionado anteriormente e $D$ é a matriz diagonal formada pelos autovalores da matriz $C$. Com isto, temos a matriz dos vetores ortonormais, as quais diagonalizam a matriz de covariância, e temos os autovalores da matriz de covariância, as quais representam a variância (o quadrado do desvio padrão) de cada uma das features independentes do nosso dataset.\n",
    "\n",
    "Através da matriz ortogonal $V$, ordenada em termos dos autovalores da matriz de covariância, conseguimos reescrever a nossa matriz de dados em termos das suas 'componentes principais'. O PCA, então, está diretamente relacionado com a projeção da nossa matriz de dados sobre a base que diagonaliza a matriz de covariância:\n",
    "\n",
    "\\begin{equation}\n",
    "\\text{PCA}(A) = \\text{Proj}_{V}(A) = A V\n",
    "\\end{equation}"
   ]
  },
  {
   "cell_type": "code",
   "execution_count": 350,
   "id": "74f97c37-d9d2-4e1e-b407-58a7ab7d8217",
   "metadata": {},
   "outputs": [
    {
     "name": "stdout",
     "output_type": "stream",
     "text": [
      "(178, 13)\n"
     ]
    }
   ],
   "source": [
    "#SVD da matriz de covariância\n",
    "corr_n_data_svd = jnp.linalg.svd(corr_n_data)\n",
    "\n",
    "#Projeção da matriz de dados na base de autovetores da matriz de covariância\n",
    "X_data_princ = jnp.matmul(X_data_jax, corr_n_data_svd[0])\n",
    "print(X_data_princ.shape)"
   ]
  },
  {
   "cell_type": "markdown",
   "id": "de8b5f85-473d-4920-97e9-7b0b218574e8",
   "metadata": {},
   "source": [
    "### 3.3. Acurácia do KNN para diferentes escolhas de base"
   ]
  },
  {
   "cell_type": "markdown",
   "id": "7270f5a6-2bfd-4aa3-af03-237301061f1e",
   "metadata": {},
   "source": [
    "O propósito do PCA é reduzir a dimensionalidade dos nossos dados, em particular, priorizando as dimensões de maior variância dos nossos dados, em acordo com a discussão anterior. Para provar a utilidade desta técnica, vamos testar a acurácia do KNN para diferentes escolhas de base. Isto é, vamos comparar a acurácia do KNN utilizando os últimos 4 componentes e depois os primeiros 4 componentes."
   ]
  },
  {
   "cell_type": "markdown",
   "id": "e1906f1b-a7b2-43e1-94f7-e69ef286bfa6",
   "metadata": {},
   "source": [
    "#### Últimas 4 componentes"
   ]
  },
  {
   "cell_type": "code",
   "execution_count": 351,
   "id": "6808d3b8-07b9-4286-b2b6-fa80d48cf89a",
   "metadata": {},
   "outputs": [],
   "source": [
    "#4 últimas componentes dos dados\n",
    "X_princ_final_4 = X_data_princ[:,-4:]\n",
    "n_data_princ_final_4 = pd.DataFrame(data = np.c_[X_princ_final_4, n_data['target']], columns= ['PCA10', 'PCA11', 'PCA12', 'PCA13'] + ['target'])\n",
    "#print(n_data_princ_final_4)\n",
    "\n",
    "#Dados de treino e teste reduzidos\n",
    "n_train_final_4 = n_data_princ_final_4.head(train_size)\n",
    "n_test_final_4 = n_data_princ_final_4.tail(test_size)\n",
    "\n",
    "#Divisão entre X e y\n",
    "X_train_final_4 = n_train_final_4.drop('target', axis = 'columns')\n",
    "X_test_final_4 = n_test_final_4.drop('target', axis = 'columns')\n",
    "y_full_final_4 = n_data_princ_final_4['target']\n",
    "y_test_final_4 = n_test_final_4['target']"
   ]
  },
  {
   "cell_type": "code",
   "execution_count": 352,
   "id": "b19f1d71-8c0d-46f7-a33c-d61c2b5e1ddf",
   "metadata": {},
   "outputs": [
    {
     "name": "stdout",
     "output_type": "stream",
     "text": [
      "3.0859597000089707\n",
      "True     50.847458\n",
      "False    49.152542\n",
      "Name: target, dtype: float64\n"
     ]
    }
   ],
   "source": [
    "#KNN com k = 5, p = 5\n",
    "yknn_k = list()\n",
    "start = time.perf_counter()\n",
    "for datapoint in X_test_final_4.iterrows():\n",
    "    buff = KNN(X_train_final_4, y_full_final_4, datapoint[1], 5,5)\n",
    "    yknn_k.append(buff)\n",
    "end = time.perf_counter()\n",
    "print(end-start)\n",
    "print(100*(yknn_k==y_test_final_4).value_counts()/len(y_test_final_4))"
   ]
  },
  {
   "cell_type": "markdown",
   "id": "fd49b063-3a2b-427c-a0c9-6ba1addc7ec4",
   "metadata": {},
   "source": [
    "#### Primeiras 4 componentes"
   ]
  },
  {
   "cell_type": "code",
   "execution_count": 353,
   "id": "029f0f8f-eb34-4a7f-bdc7-59d550d9fb92",
   "metadata": {
    "scrolled": true
   },
   "outputs": [],
   "source": [
    "#4 primeiros componentes dos dados\n",
    "X_princ_first_4 = X_data_princ[:,:4]\n",
    "n_data_princ_first_4 = pd.DataFrame(data = np.c_[X_princ_first_4, n_data['target']], columns= ['PCA1', 'PCA2', 'PCA3', 'PCA4'] + ['target'])\n",
    "#print(n_data_princ_first_4)\n",
    "\n",
    "#Dados de treino e teste reduzidos\n",
    "n_train_first_4 = n_data_princ_first_4.head(train_size)\n",
    "n_test_first_4 = n_data_princ_first_4.tail(test_size)\n",
    "\n",
    "#Divisão entre X e y\n",
    "X_train_first_4 = n_train_first_4.drop('target', axis = 'columns')\n",
    "X_test_first_4 = n_test_first_4.drop('target', axis = 'columns')\n",
    "y_full_first_4 = n_data_princ_first_4['target']\n",
    "y_test_first_4 = n_test_first_4['target']"
   ]
  },
  {
   "cell_type": "code",
   "execution_count": 354,
   "id": "43d1c00b-b343-48e8-8cfd-3d20bbd30bf8",
   "metadata": {},
   "outputs": [
    {
     "name": "stdout",
     "output_type": "stream",
     "text": [
      "2.9606715999980224\n",
      "True     93.220339\n",
      "False     6.779661\n",
      "Name: target, dtype: float64\n"
     ]
    }
   ],
   "source": [
    "#KNN com k = 5, p = 5\n",
    "yknn_k = list()\n",
    "start = time.perf_counter()\n",
    "for datapoint in X_test_first_4.iterrows():\n",
    "    buff = KNN(X_train_first_4, y_full_first_4, datapoint[1], 5,5)\n",
    "    yknn_k.append(buff)\n",
    "end = time.perf_counter()\n",
    "print(end-start)\n",
    "print(100*(yknn_k==y_test_first_4).value_counts()/len(y_test_first_4))"
   ]
  },
  {
   "cell_type": "markdown",
   "id": "659fc009-8a58-4578-84cb-dbd26a1f16e3",
   "metadata": {},
   "source": [
    "#### Conclusão"
   ]
  },
  {
   "cell_type": "markdown",
   "id": "cb8a3d11-0e1a-49bd-84cc-f505fffc002e",
   "metadata": {},
   "source": [
    "Vemos, então, que existe uma diferença de acurácia significativa entre a base formada pelos últimos 4 autovetores - ou seja, os relacionados aos menores 4 autovalores da matriz de covariância - e a base formada pelos primeiros 4 autovetores, os quais estão relacionados aos maiores autovalores (para várias execuções do notebook, encontramos uma diferença de mais do que 40%). Além disso, a acurácia do KNN para as primeiras componentes é próxima do KNN onde consideramos todas as 13 features."
   ]
  },
  {
   "cell_type": "markdown",
   "id": "3ccc6dc8-322e-495f-ad34-c4b937d65212",
   "metadata": {},
   "source": [
    "### 3.4. Implementação do PCA"
   ]
  },
  {
   "cell_type": "markdown",
   "id": "3c76b310-62c9-4e0d-988d-2a8e926f5192",
   "metadata": {},
   "source": [
    "Sabendo que as componentes relacionadas aos maiores autovalores da matriz de covariância retém a maior quantidade de informação do nosso dataset original, iremos finalmente implementar a a função PCA, a qual tomará como input uma matriz de dados (normalizada) e um número inteiro, este o qual quantificará o número de componentes da base da matriz de covariância que serão selecionados para a representação reduzida dos dados, começando dos autovetores de maiores autovalores aos menores. O output, então, será a projeção dos dados sobre as componentes principais."
   ]
  },
  {
   "cell_type": "code",
   "execution_count": 355,
   "id": "da2a7fc1-1bb6-4ae6-9a63-f275b8d70d6d",
   "metadata": {},
   "outputs": [],
   "source": [
    "def PCA(data, num_components):\n",
    "\n",
    "    #Transforma pd.DataFrame em matriz do jax\n",
    "    data_buff = jnp.array(data)\n",
    "\n",
    "    #Calcula a matriz de covariância\n",
    "    corr_data = jnp.matmul(data_buff.transpose(),data_buff)\n",
    "\n",
    "    #Calcula o SVD da matriz de covariância\n",
    "    corr_data_svd = jnp.linalg.svd(corr_data)\n",
    "\n",
    "    #Projeta os dados na base dos autovetores da matriz de covariância, as colunas estando em ordem crescente de autovalores\n",
    "    data_princ = jnp.matmul(data_buff, corr_data_svd[0])\n",
    "\n",
    "    #Seleciona as 'num_components' componentes principais dos dados\n",
    "    data_PCA = data_princ[:,:num_components]\n",
    "\n",
    "    #Rotina para gerar os nomes das colunas do PCA, para quando convertermos tudo de volta a um pd.DataFrame\n",
    "    column_names = list()\n",
    "    i=0\n",
    "    while i < num_components:\n",
    "        name = 'PCA' + str(i+1)\n",
    "        column_names.append(name)\n",
    "        i+=1\n",
    "\n",
    "    #Conversão da matriz JAX para pd.DataFrame, nomeando as features principais em termos do PCA\n",
    "    data_PCA_df = pd.DataFrame(pd.DataFrame(data = np.c_[data_PCA], columns= column_names))\n",
    "    return data_PCA_df"
   ]
  },
  {
   "cell_type": "code",
   "execution_count": 356,
   "id": "c4aafc8b-875d-4229-b20a-6e265296e068",
   "metadata": {},
   "outputs": [
    {
     "name": "stdout",
     "output_type": "stream",
     "text": [
      "         PCA1      PCA2      PCA3      PCA4\n",
      "0   -0.376150  1.027045 -1.794466  0.978544\n",
      "1   -2.050261  1.925034  0.007369  0.721323\n",
      "2   -2.248507  1.884593  2.031841  1.407630\n",
      "3    0.462335  0.618288 -0.483443  3.576724\n",
      "4   -3.214918 -0.166992  1.973572  1.120684\n",
      "..        ...       ...       ...       ...\n",
      "173  3.677919 -0.847750  1.339420 -0.125174\n",
      "174  0.107228  1.928923 -0.690148 -0.273725\n",
      "175 -2.677412 -1.471873  0.332262 -0.349354\n",
      "176 -3.124403 -0.786897  0.364887 -0.025564\n",
      "177 -3.458157 -1.130629  1.204277  0.162463\n",
      "\n",
      "[178 rows x 4 columns]\n"
     ]
    }
   ],
   "source": [
    "print(PCA(X_data, 4))"
   ]
  },
  {
   "cell_type": "markdown",
   "id": "3a06880b-fe5e-48ba-bd3f-8de3d95530dc",
   "metadata": {},
   "source": [
    "### 3.5. Acurácia e Tempo Médio de Execução em função das Componentes"
   ]
  },
  {
   "cell_type": "markdown",
   "id": "0bf6f173-39de-4f9b-b280-6145398636b0",
   "metadata": {},
   "source": [
    "Para encerrar o notebook, vamos agora comparar os tempos de execução da rotina para diferentes números de componentes, para ver se observamos alguma diferença notável. Para calcular o tempo de execução médio, utilizamos 100 repetições da rotina. Assim como no cálculo do gráfico de acurácia como função do par (k,p), deixamos esta rotina completamente comentada e somente exibimos os resultados finais que foram obtidos."
   ]
  },
  {
   "cell_type": "code",
   "execution_count": 357,
   "id": "3f4cf4dc-9167-411c-ac85-0c53607a3aaa",
   "metadata": {},
   "outputs": [
    {
     "name": "stdout",
     "output_type": "stream",
     "text": [
      "3299.38907569999\n"
     ]
    }
   ],
   "source": [
    "#Eixo y do plot a ser montado\n",
    "#t_plot = list()\n",
    "#acc_plot = list()\n",
    "\n",
    "#Número de execuções do KNN para realizarmos a média\n",
    "#reps = 100\n",
    "\n",
    "#start = time.perf_counter()\n",
    "\n",
    "#Aplicamos o KNN para cada ponto do dataset de teste\n",
    "#for num_comp in list(range(1,14)):\n",
    "    \n",
    "    #KNN para o número de componentes escolhido. No 'for', o número de execuções total para a medida do tempo\n",
    "#    start_knn = time.perf_counter()\n",
    "\n",
    "    #Repetições para realizar a média temporal\n",
    "#    for item in range(reps):\n",
    "        \n",
    "        #Definição de dados de teste e treino, conforme a escolha de PCA\n",
    "#        X_PCA = PCA(X_data, num_comp)\n",
    "#        X_train_PCA = X_PCA.head(train_size)\n",
    "#        X_test_PCA = X_PCA.tail(test_size)\n",
    "\n",
    "        #Início de fato do KNN\n",
    "#        yknn_k = list()\n",
    "#        buff = 0.0\n",
    "#        for datapoint in X_test_PCA.iterrows():\n",
    "#            buff = KNN(X_train_PCA, n_data['target'], datapoint[1], 5, 5)\n",
    "#            yknn_k.append(buff)\n",
    "#        y_buff = 100*(yknn_k==y_test).value_counts()/len(y_test)\n",
    "\n",
    "        #Como a medida da acurácia não varia com as repetições do código (depende somente do número de componentes do PCA) rodamos esta parte somente\n",
    "        #uma vez\n",
    "#        if item == 0:\n",
    "#            acc_plot.append(y_buff[1])\n",
    "#    end_knn = time.perf_counter()\n",
    "    \n",
    "    #Cálculo do tempo de execução médio\n",
    "#    time_knn=(end_knn-start_knn)/reps\n",
    "#    t_plot.append(time_knn)\n",
    "\n",
    "#end = time.perf_counter()\n",
    "#print(end-start)"
   ]
  },
  {
   "cell_type": "code",
   "execution_count": 359,
   "id": "5cecaeec-4c0d-4248-9895-f513359c2203",
   "metadata": {},
   "outputs": [
    {
     "data": {
      "image/png": "[encoded data removed]",
      "text/plain": [
       "<Figure size 432x288 with 1 Axes>"
      ]
     },
     "metadata": {
      "needs_background": "light"
     },
     "output_type": "display_data"
    }
   ],
   "source": [
    "#plt.scatter(range(1,14), t_plot)\n",
    "#plt.ylabel(\"Tempo de Execução (s)\")\n",
    "#plt.xlabel(\"Número de Componentes\")\n",
    "#plt.xticks(np.arange(0, 14, step=1));\n",
    "#plt.xlim(0, 14)\n",
    "#plt.ylim(0.0,3.0)\n",
    "#plt.show()"
   ]
  },
  {
   "cell_type": "code",
   "execution_count": 358,
   "id": "9c050069-816d-43ce-a502-b5003359d794",
   "metadata": {},
   "outputs": [
    {
     "data": {
      "image/png": "[encoded data removed]",
      "text/plain": [
       "<Figure size 432x288 with 1 Axes>"
      ]
     },
     "metadata": {
      "needs_background": "light"
     },
     "output_type": "display_data"
    }
   ],
   "source": [
    "plt.scatter(range(1,14), acc_plot)\n",
    "plt.ylabel(\"Acurácia (%)\")\n",
    "plt.xlabel(\"Número de Componentes\")\n",
    "plt.xticks(np.arange(0, 14, step=1));\n",
    "plt.xlim(0, 14)\n",
    "plt.ylim(80,100)\n",
    "plt.show()"
   ]
  },
  {
   "cell_type": "markdown",
   "id": "1edf67d1-b5d7-4ad7-bc07-97a9e2e3ad61",
   "metadata": {},
   "source": [
    "#### Conclusão"
   ]
  },
  {
   "cell_type": "markdown",
   "id": "c6359b9a-b48e-46bd-823c-f0aa4df6a785",
   "metadata": {},
   "source": [
    "Em função da forma não-otimizada em que definimos as rotinas do KNN, o tempo de execução tem sido aproximadamente independente do número de componentes do PCA. Já a respeito da acurácia, vemos que até mesmo para uma única componente, conseguimos uma acurácia acima de 80% na aplicação do KNN. "
   ]
  }
 ],
 "metadata": {
  "kernelspec": {
   "display_name": "Python 3 (ipykernel)",
   "language": "python",
   "name": "python3"
  },
  "language_info": {
   "codemirror_mode": {
    "name": "ipython",
    "version": 3
   },
   "file_extension": ".py",
   "mimetype": "text/x-python",
   "name": "python",
   "nbconvert_exporter": "python",
   "pygments_lexer": "ipython3",
   "version": "3.9.12"
  }
 },
 "nbformat": 4,
 "nbformat_minor": 5
}
