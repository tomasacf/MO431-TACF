{
 "cells": [
  {
   "cell_type": "markdown",
   "id": "a16fd64f-051c-434e-8b61-85056fdb7d1b",
   "metadata": {},
   "source": [
    "# Tarefa 3 -  Análise de Convexidade e Implementação de GD, SGD em Regressão Logística Binária e Multinomial"
   ]
  },
  {
   "cell_type": "markdown",
   "id": "3df4157e-05a5-46bf-a60d-fa269d697a9b",
   "metadata": {},
   "source": [
    "Aluno: Tomás Aguiar Carneiro Ferreira\n",
    "\n",
    "RA: 177748"
   ]
  },
  {
   "cell_type": "markdown",
   "id": "a6120a63-2a57-4f61-b4fc-b220c0b8a33c",
   "metadata": {},
   "source": [
    "# Resumo"
   ]
  },
  {
   "cell_type": "markdown",
   "id": "1e59586e-e3ae-4996-a89c-b67923e7b4da",
   "metadata": {},
   "source": [
    "Como a rotina a seguir está bem longa, decidi iniciar com um resumo do documento como um todo.\n",
    "\n",
    "Iniciamos com uma análise de convexidade, utilizando a função quadrática proposta pela Tarefa. Para uma quadrática bi-dimensional, mostramos visualmente a natureza dos pontos críticos/estacionários referentes aos $3$ casos de convexidade exigidos através de plots $\\text{3D}$ simples. Após isso, implementamos o Gradiente Descendente ($\\text{GD}$) e Gradiente Descendente Estocástico para uma quadrática $n$-dimensional. Na nossa análise subsequente, foram plotados gráficos de iterações por dimensão da quadrática e valor da função objetiva por iteração. Para o $\\text{SGD}$, incluímos um gráfico adicional do número de iterações variando-se of fator de amplificação da taxa de aprendizado ($\\gamma$).\n",
    "\n",
    "Em seguida, implementamos o algoritmo de regressão logísitca binária: apesar de não ter sido pedido pela Tarefa, esta implementação ajudou a entender como implementar a regressão multinomial a qual é a sua generalização natural. No caso, treinamos este algoritmo a identificar o dígito $3$ e obtivemos acurácias razoáveis (na rotina, deixei publicada a versão com a maior acurácia de acerto$\\sim 89.3\\%$). Esta implementação foi feita somente para o $\\text{GD}$.\n",
    "\n",
    "Por fim, implementamos o algoritmo de regressão logística multinomial e publicamos somente a versão (heurística) final: conforme pedido pela Tarefa, implementamos esta utilizando $\\text{GD}$ e $\\text{SGD}$, mas em função dos resultados que fomos observando no decorrer dos testes de implementação, foram feitas duas alterações sobre implementações convencionais de $\\text{GD}$ e $\\text{SGD}$:\n",
    "\n",
    "1. Inclusão de um <b>fator de amplificação da taxa de aprendizado</b> em direções onde a função softmax possuía baixa probabilidade de acerto.\n",
    "2. Inclusão de um <b>fator de atenuamento condicional da taxa de aprendizado</b>. Isto é, caso a função objetiva de um passo seguinte aumente o valor da função objetiva, a rotina fica presa num loop o qual reduz a taxa de aprendizado por um fator de $0.9$ até a função objetiva voltar a reduzir. Este loop pode ocorrer no máximo $100$ vezes.\n",
    "\n",
    "O motivo específico por trás destas inclusões estão explicados mais detalhadamente no cabeçalho da respectiva seção. Em todas as seções, exploramos em detalhes a matemática por trás de cada implementação. A qualidade do código foi melhorando ao longo da Tarefa (finalmente aprendi a utilizar sintaxe mais vetorizada). Várias das terminologias e estratégias de implementação que fui aprendendendo no decorrer da escrita foram retirados das aulas do curso de Machine Learning do <i>Herman Kamper</i> (link: https://www.kamperh.com/data414/)."
   ]
  },
  {
   "cell_type": "code",
   "execution_count": 1,
   "id": "54f0c251-89ea-46e5-a388-6f5efc96e69e",
   "metadata": {},
   "outputs": [],
   "source": [
    "import random\n",
    "from functools import lru_cache\n",
    "import os\n",
    "import math\n",
    "import mpmath as mp\n",
    "from scipy.spatial import distance\n",
    "from sklearn.impute import SimpleImputer\n",
    "\n",
    "#Função que será utilizada para embaralhar os dados, caso necessário\n",
    "from sklearn.utils import shuffle \n",
    "\n",
    "#Função que utilizaremos para cálculo de média\n",
    "from sklearn.preprocessing import StandardScaler\n",
    "\n",
    "import time\n",
    "import numpy as np\n",
    "import pandas as pd\n",
    "import jax.numpy as jnp\n",
    "from matplotlib import pyplot as plt\n",
    "#import tensorflow as tf\n",
    "#from tensorflow import keras\n",
    "\n",
    "import sklearn.preprocessing\n",
    "from sklearn.preprocessing import LabelEncoder"
   ]
  },
  {
   "cell_type": "markdown",
   "id": "4ee176a5-a4d3-4f59-8f1f-07835cf6aa93",
   "metadata": {},
   "source": [
    "# 1. Preparo dos Dados"
   ]
  },
  {
   "cell_type": "markdown",
   "id": "b484b51c-696a-46f1-8a78-2674e00b1102",
   "metadata": {},
   "source": [
    "A base de dados do MNIST consiste em $60000$ imagens de números de $0$ a $9$. Estas imagens estão armazenadas em matrizes $28 \\times 28$, cada uma representando pixels cujo valor varia de $0$ a $255$, este valor representando a intensidade do traçado do número: $0$ representa 'branco' ou 'ausência de traçado'; e $255$ representa 'preto', ou 'traçado forte'.\n",
    "\n",
    "Por algum motivo, não foi possível baixar os dados diretamente do site do Yann LeCun, então estes foram baixados pelo kaggle, através do link: https://www.kaggle.com/datasets/hojjatk/mnist-dataset. Os dados foram então extraídos na mesma pasta do notebook jupyter, o que é necessário para que o código abaixo funcione.\n",
    "\n",
    "Além disso, para a leitura dos dados, é necessário instalar o módulo 'idx2numpy' através do terminal do python, utilizando o comando 'pip install idx2numpy'."
   ]
  },
  {
   "cell_type": "code",
   "execution_count": 2,
   "id": "6adbfa37-6295-4fa9-a0f9-a48d2f35c01c",
   "metadata": {},
   "outputs": [
    {
     "name": "stdout",
     "output_type": "stream",
     "text": [
      "\n"
     ]
    },
    {
     "data": {
      "image/png": "[encoded data removed]",
      "text/plain": [
       "<Figure size 432x288 with 1 Axes>"
      ]
     },
     "metadata": {
      "needs_background": "light"
     },
     "output_type": "display_data"
    }
   ],
   "source": [
    "import idx2numpy\n",
    "\n",
    "# Exemplo de dados de treino\n",
    "imagefile = 'train-images.idx3-ubyte'\n",
    "imagearray = idx2numpy.convert_from_file(imagefile)\n",
    "\n",
    "plt.imshow(imagearray[4], cmap=plt.cm.binary)\n",
    "print()"
   ]
  },
  {
   "cell_type": "code",
   "execution_count": 3,
   "id": "623ca972-0351-410b-98d0-78071928d2cd",
   "metadata": {},
   "outputs": [
    {
     "name": "stdout",
     "output_type": "stream",
     "text": [
      "Número de dados, posto das matrizes: 60000 , 28\n",
      "Valores únicos: [  0   1   2   3   4   5   6   7   8   9  10  11  12  13  14  15  16  17\n",
      "  18  19  20  21  22  23  24  25  26  27  28  29  30  31  32  33  34  35\n",
      "  36  37  38  39  40  41  42  43  44  45  46  47  48  49  50  51  52  53\n",
      "  54  55  56  57  58  59  60  61  62  63  64  65  66  67  68  69  70  71\n",
      "  72  73  74  75  76  77  78  79  80  81  82  83  84  85  86  87  88  89\n",
      "  90  91  92  93  94  95  96  97  98  99 100 101 102 103 104 105 106 107\n",
      " 108 109 110 111 112 113 114 115 116 117 118 119 120 121 122 123 124 125\n",
      " 126 127 128 129 130 131 132 133 134 135 136 137 138 139 140 141 142 143\n",
      " 144 145 146 147 148 149 150 151 152 153 154 155 156 157 158 159 160 161\n",
      " 162 163 164 165 166 167 168 169 170 171 172 173 174 175 176 177 178 179\n",
      " 180 181 182 183 184 185 186 187 188 189 190 191 192 193 194 195 196 197\n",
      " 198 199 200 201 202 203 204 205 206 207 208 209 210 211 212 213 214 215\n",
      " 216 217 218 219 220 221 222 223 224 225 226 227 228 229 230 231 232 233\n",
      " 234 235 236 237 238 239 240 241 242 243 244 245 246 247 248 249 250 251\n",
      " 252 253 254 255]\n"
     ]
    }
   ],
   "source": [
    "print('Número de dados, posto das matrizes:', len(imagearray),',',len(imagearray[0]))\n",
    "print('Valores únicos:', np.unique(imagearray))"
   ]
  },
  {
   "cell_type": "code",
   "execution_count": 4,
   "id": "f643ac03-59c6-437f-803d-7a90a45d2dfd",
   "metadata": {},
   "outputs": [
    {
     "name": "stdout",
     "output_type": "stream",
     "text": [
      "9\n",
      "Número de dados: 60000\n",
      "Valores únicos: [0 1 2 3 4 5 6 7 8 9]\n"
     ]
    }
   ],
   "source": [
    "# Exemplo de dados de treino\n",
    "labelfile = 'train-labels.idx1-ubyte';\n",
    "\n",
    "labelarray = idx2numpy.convert_from_file(labelfile);\n",
    "\n",
    "print(labelarray[4])\n",
    "print('Número de dados:', len(labelarray))\n",
    "print('Valores únicos:', np.unique(labelarray))"
   ]
  },
  {
   "cell_type": "code",
   "execution_count": 5,
   "id": "ebd54668-0cd9-4387-acc9-e9d5779c4760",
   "metadata": {},
   "outputs": [
    {
     "name": "stdout",
     "output_type": "stream",
     "text": [
      "Número de dados: 10000\n"
     ]
    }
   ],
   "source": [
    "imagefile10k = 't10k-images.idx3-ubyte'\n",
    "imagearray10k = idx2numpy.convert_from_file(imagefile10k)\n",
    "\n",
    "print('Número de dados:', len(imagearray10k))"
   ]
  },
  {
   "cell_type": "markdown",
   "id": "35c8a097-ffe0-42bd-934e-7a4a250bf72d",
   "metadata": {},
   "source": [
    "## 1.1. Transformando as matrizes-imagem em vetores"
   ]
  },
  {
   "cell_type": "markdown",
   "id": "c329868a-793e-44ba-b25a-ef8fb4661686",
   "metadata": {},
   "source": [
    "Ao todo, a base de dados possui 2 arquivos de treino. A única diferença entre estes está no número de dados. Isto é, todos os dados indicados por '$\\text{idx3}$' estão associados à base completa de treino/teste ($60000$ dados) e os indicados por '$\\text{idx1}$' estão associados à base reduzida de dados. Para a nossa análise, iremos utilizar somente a base completa. Além disso, dividimos todas as entradas das matrizes pelo valor máximo $255$ para que os dados estejam contidos no intervalo $[0,1]$. Isso ajuda a estabilizar a inicialização e convergência dos dados no estágio de implementação."
   ]
  },
  {
   "cell_type": "code",
   "execution_count": 6,
   "id": "ccb01fd0-a1f7-4a96-9af2-d0d6ab107da2",
   "metadata": {},
   "outputs": [],
   "source": [
    "# Dados totais\n",
    "data_img = 'train-images.idx3-ubyte'\n",
    "data_labels = 'train-labels.idx1-ubyte'\n",
    "\n",
    "data_img_arr = idx2numpy.convert_from_file(data_img)/255\n",
    "data_labels_arr = idx2numpy.convert_from_file(data_labels)"
   ]
  },
  {
   "cell_type": "markdown",
   "id": "cc989c65-e467-4b27-a147-d9e41517cfa4",
   "metadata": {},
   "source": [
    "Para o treino do algoritmo de regressão logística, precisamos converter as matrizes-imagem em listas de datapoints. No caso, vamos considerar cada pixel da imagem como uma feature, transformando a matriz imagem num datapoint de $28 \\times 28 = 784$ features. "
   ]
  },
  {
   "cell_type": "code",
   "execution_count": 7,
   "id": "c2621e9e-a2ae-45a4-b1e5-cc5f239c8d96",
   "metadata": {},
   "outputs": [
    {
     "name": "stdout",
     "output_type": "stream",
     "text": [
      "784 60000\n"
     ]
    }
   ],
   "source": [
    "data_vec = [[column for column in range(784)] for row in range(len(data_img_arr))]\n",
    "print(len(data_vec[0]),len(data_vec))"
   ]
  },
  {
   "cell_type": "code",
   "execution_count": 8,
   "id": "d7b191ff-1f83-414a-b91b-e227816e59b0",
   "metadata": {},
   "outputs": [
    {
     "name": "stdout",
     "output_type": "stream",
     "text": [
      "38.63573870000005\n"
     ]
    }
   ],
   "source": [
    "start = time.perf_counter()\n",
    "i = 0;\n",
    "# Iteração sobre os dados\n",
    "while i < len(data_vec):\n",
    "    j = 0;\n",
    "    # Iteração sobre as 28 linhas-pixel da i-ésima imagem\n",
    "    while j < 28:\n",
    "        k = 0;\n",
    "        # Iteração sobre as 28 colunas-pixel da i-ésima imagem\n",
    "        # Para cada linha iterada, adicionamos 28 ao índice da forma vetorizada dos dados\n",
    "        while k < 28:\n",
    "            data_vec[i][j*28+k]=data_img_arr[i][j][k]\n",
    "            k+=1;\n",
    "        j +=1;\n",
    "    i+=1;\n",
    "end = time.perf_counter()\n",
    "print(end-start)"
   ]
  },
  {
   "cell_type": "markdown",
   "id": "a7817ac4-9bd6-453d-9695-c6778b8a0489",
   "metadata": {},
   "source": [
    "## 1.2. Separando os dados, dígito a dígito"
   ]
  },
  {
   "cell_type": "markdown",
   "id": "fce3d7f5-b12e-4e2c-a977-9ca4a119e011",
   "metadata": {},
   "source": [
    "No dataset, temos $10$ dígitos, de $0$ a $9$. Para treinar a regressão multinomial, teremos que separar os dados de treino em termos dos dígitos. Portanto, vamos separar a base de dados, armazenando os dados referentes a cada dígito na entrada correspondente (entrada $0$ do vetor corresponde ao dígito $0$, entrada $1$ ao dígito $1$, etc)."
   ]
  },
  {
   "cell_type": "code",
   "execution_count": 9,
   "id": "789e5c52-26e0-4f7d-aa86-7a394347bf55",
   "metadata": {},
   "outputs": [],
   "source": [
    "# Cria lista de 10 entradas, onde armazenaremos os dados de cada dígito\n",
    "data_digits = list()\n",
    "\n",
    "# Separação de dados por dígito\n",
    "i = 0;\n",
    "while i < 10:\n",
    "    digit_buff = list()\n",
    "    j=0;\n",
    "    while j < len(data_vec):\n",
    "        # Identifica se a o dígito da entrada atual corresponde a i\n",
    "        if data_labels_arr[j] == i:\n",
    "            digit_buff.append(data_vec[j])\n",
    "        j+=1;\n",
    "\n",
    "    # Armazena os dados referentes a um dado dígito na lista\n",
    "    data_digits.append(digit_buff);\n",
    "    i+=1;"
   ]
  },
  {
   "cell_type": "code",
   "execution_count": 10,
   "id": "33ac7a8d-9aa3-4ad9-8ffb-44ac7e137969",
   "metadata": {},
   "outputs": [
    {
     "name": "stdout",
     "output_type": "stream",
     "text": [
      "5923\n",
      "6742\n",
      "5958\n",
      "6131\n",
      "5842\n",
      "5421\n",
      "5918\n",
      "6265\n",
      "5851\n",
      "5949\n"
     ]
    }
   ],
   "source": [
    "# Número de amostras de cada dígito\n",
    "i = 0\n",
    "while i < len(data_digits):\n",
    "    print(len(data_digits[i]))\n",
    "    i+=1"
   ]
  },
  {
   "cell_type": "markdown",
   "id": "5c36c43e-8c9e-4c40-8ac4-f8052765c53a",
   "metadata": {},
   "source": [
    "Como podemos ver, o número de dados relacionados a cada dígito são diferentes. Para que o treino da regressão multinomial não tenha um bias para algum dígito em particular, identificamos o dígito com menor número de amostras e copiamos o número de amostras para todos os outros."
   ]
  },
  {
   "cell_type": "code",
   "execution_count": 11,
   "id": "cc49506d-093f-4e03-abc4-c42d911062cc",
   "metadata": {},
   "outputs": [
    {
     "name": "stdout",
     "output_type": "stream",
     "text": [
      "5421 5\n"
     ]
    }
   ],
   "source": [
    "# Encontra o dígito com menor número de amostras\n",
    "digit_size = [len(y) for y in data_digits];\n",
    "min_digit = min([x for x in digit_size]);\n",
    "print(min_digit, digit_size.index(5421))"
   ]
  },
  {
   "cell_type": "code",
   "execution_count": 12,
   "id": "079c6432-c0be-435e-88c5-8c06ffc06387",
   "metadata": {},
   "outputs": [
    {
     "name": "stdout",
     "output_type": "stream",
     "text": [
      "[5421, 5421, 5421, 5421, 5421, 5421, 5421, 5421, 5421, 5421]\n"
     ]
    }
   ],
   "source": [
    "# Gera as amostras aleatória de mesmo tamanho daquela do dígito 5\n",
    "data_digits_h = [random.sample(x, min_digit) for x in data_digits];\n",
    "new_digit_size = [len(y) for y in data_digits_h];\n",
    "print(new_digit_size)"
   ]
  },
  {
   "cell_type": "markdown",
   "id": "64e10602-d8e3-44f4-8769-bbb65c8df3a4",
   "metadata": {},
   "source": [
    "## 1.3. Divisão de dados de treino e teste"
   ]
  },
  {
   "cell_type": "markdown",
   "id": "0a4a1c12-a840-490a-9e1c-c5de057862f1",
   "metadata": {},
   "source": [
    "Utilizando a base MNIST, vamos implementar tanto a Regressão Logística Binária quanto a Regressão Logística Multinomial. Para cada uma destas implementações, vamos preparar dados de treino e teste. A proporção entre estes será de $2 : 1$, ou seja, $67\\%$ para treino e $33\\%$ para teste. No caso da Regressão Logística Binária, queremos gerar dados de treino que sejam aproximadamente $50\\%$ resultados positivos e $50\\%$ resultados negativos. No caso da Regressão Logística Multinomial, vamos utilizar o $\\text{data}\\_\\text{digits}\\_\\text{h}$ que preparamos ao fim da subseção anterior, onde temos exatamente $10\\%$ de cada dígito."
   ]
  },
  {
   "cell_type": "markdown",
   "id": "61186f11-2169-48e1-94e5-1cacf748a5dd",
   "metadata": {},
   "source": [
    "### Regressão Binária"
   ]
  },
  {
   "cell_type": "markdown",
   "id": "ae6eb4f4-f314-46ce-9e7e-b87c211be7d8",
   "metadata": {},
   "source": [
    "Para a regressão binária, queremos que os nossos dados positivos e negativos tenham o mesmo tamanho e que os dados negativos estejam homogeneamente distribuídos em termos dos outros dígitos. Para isso, as únicas restrições sobre o número total de datapoints negativos é que seja um múltiplo de $3\\times 9=27$, visto que temos $9$ dígitos que deverão dar resultado negativo e que cada dígito deverá ser dividido na proporção $2:1$ para teste. O maior número menor do que $5421$ que satisfaz essas condições é o número $5400$. Assim, a lista de resultados negativos será formada por $600$ datapoints de cada dígito diferente de $3$, os quais serão divididos em $400$ de treino e $200$ de teste cada."
   ]
  },
  {
   "cell_type": "code",
   "execution_count": 13,
   "id": "40ea3d55-1bf1-4030-9706-43f13f95f155",
   "metadata": {},
   "outputs": [],
   "source": [
    "# Tamanho dos dados pos/neg\n",
    "bin_size = 5400;\n",
    "bin_train_size = 2700;\n",
    "bin_test_size = 1800;\n",
    "\n",
    "# Listas de treino/teste positivas\n",
    "bin_pos = random.sample(data_digits_h[3], bin_size);\n",
    "bin_pos_tuples = [ (x,1) for x in bin_pos];\n",
    "bin_pos_train = bin_pos_tuples[:bin_train_size];\n",
    "bin_pos_test =  bin_pos_tuples[-bin_test_size:];\n",
    "\n",
    "# Listas de treino/teste negativas\n",
    "filter_samples = data_digits_h[:2] + data_digits_h[-7:]; # Seleciona somente os dígitos diferentes de 3\n",
    "bin_neg_sep = [random.sample(x,600) for x in filter_samples];\n",
    "\n",
    "# Transforma lista filtrada numa lista só com todas as amostras\n",
    "bin_neg = np.concatenate(bin_neg_sep).tolist()\n",
    "\n",
    "# Monta as tuplas de resultados negativos\n",
    "bin_neg_tuples = [(x,0) for x in bin_neg]\n",
    "bin_neg_train = bin_neg_tuples[:bin_train_size];\n",
    "bin_neg_test =  bin_neg_tuples[-bin_test_size:];\n",
    "\n",
    "# Tuplas de teste/treino\n",
    "bin_train_tuples = bin_pos_train + bin_neg_train;\n",
    "bin_train_tuples = shuffle(bin_train_tuples);\n",
    "bin_test_tuples = bin_pos_test + bin_neg_test;\n",
    "bin_test_tuples = shuffle(bin_test_tuples)\n",
    "\n",
    "# Separação em atributos e targets\n",
    "bin_X = [x[0] for x in bin_train_tuples];\n",
    "bin_y = [x[1] for x in bin_train_tuples];\n",
    "bin_Xtest = [x[0] for x in bin_test_tuples];\n",
    "bin_ytest = [x[1] for x in bin_test_tuples];"
   ]
  },
  {
   "cell_type": "code",
   "execution_count": 14,
   "id": "dda7c215-b0c4-472d-8492-04283aba7cfe",
   "metadata": {},
   "outputs": [
    {
     "name": "stdout",
     "output_type": "stream",
     "text": [
      "5400 784\n"
     ]
    }
   ],
   "source": [
    "print(len(bin_X),len(bin_X[0]))"
   ]
  },
  {
   "cell_type": "markdown",
   "id": "287769bc-f560-41ba-bcec-bbb40e999d33",
   "metadata": {},
   "source": [
    "### Regressão Multinomial"
   ]
  },
  {
   "cell_type": "markdown",
   "id": "db6ee4b4-2cfd-42cf-80c9-6ae024c80471",
   "metadata": {},
   "source": [
    "Para a regressão multinomial, teremos $5421$ dados para cada dígito. Ou seja, teremos $3614$ dados de treino e $1807$ de teste para cada dígito. Como a função softmax possui $10$ entradas, os targets serão vetores da forma: $[0,1,0,0,0,0,0,0,0,0]^T$, onde entendemos que o índice $1$ identifica que a imagem possui o dígito $1$.\n",
    "\n",
    "Vale notar que, durante a implementação, usar a base completa levou a travamento da rotina devido ao enorme número de dados. Por este motivo, a base de dados utilizada foi reduzida mais à frente. Aqui deixamos ela completa."
   ]
  },
  {
   "cell_type": "code",
   "execution_count": 15,
   "id": "311d4fe9-73f7-45b3-9de2-810837f2310c",
   "metadata": {},
   "outputs": [
    {
     "name": "stdout",
     "output_type": "stream",
     "text": [
      "36140 36140\n",
      "18070 18070\n",
      "0.02931059999991703\n"
     ]
    }
   ],
   "source": [
    "# Cria matriz cujas entradas tem exatamente a forma necessária\n",
    "def indicator(size):\n",
    "    return [[1 if i == j else 0 for j in range(size)] for i in range(size)]\n",
    "Y_bool = indicator(10);\n",
    "\n",
    "# Tamanho dos dados\n",
    "nom_size = 5421;\n",
    "nom_train_size = 3614;\n",
    "nom_test_size = 1807;\n",
    "\n",
    "# Criação de tuplas (dígito, target) para todos os dados\n",
    "nom_tuples = [[(x,v) for x in u] for (u,v) in zip(data_digits_h ,Y_bool)];\n",
    "\n",
    "# Criação de dados de treino e teste para cada dígito\n",
    "start = time.perf_counter();\n",
    "nested_X_tuples = [x[:nom_train_size] for x in nom_tuples];\n",
    "nom_X_tuples = [inner for outer in nested_X_tuples for inner in outer];\n",
    "nom_X_tuples = shuffle(nom_X_tuples);\n",
    "nom_X = [x[0] for x in nom_X_tuples];\n",
    "nom_y = [x[1] for x in nom_X_tuples];\n",
    "\n",
    "nested_Xtest_tuples = [x[-nom_test_size:] for x in nom_tuples];\n",
    "nom_Xtest_tuples = [inner for outer in nested_Xtest_tuples for inner in outer];\n",
    "nom_Xtest_tuples = shuffle(nom_Xtest_tuples);\n",
    "nom_Xtest = [x[0] for x in nom_Xtest_tuples];\n",
    "nom_ytest = [x[1] for x in nom_Xtest_tuples];\n",
    "end = time.perf_counter();\n",
    "\n",
    "print(len(nom_X),len(nom_y))\n",
    "print(len(nom_Xtest),len(nom_ytest))\n",
    "print(end-start)"
   ]
  },
  {
   "cell_type": "markdown",
   "id": "f7c44010-f26f-44dd-a960-997c85f186f3",
   "metadata": {},
   "source": [
    "Com isto, podemos prosseguir para a fase de implementação e análise."
   ]
  },
  {
   "cell_type": "markdown",
   "id": "eed0e2a7-e4b2-487c-b93e-146517534dca",
   "metadata": {},
   "source": [
    "# 2. Análise de Convexidade"
   ]
  },
  {
   "cell_type": "markdown",
   "id": "babaa393-9f12-4cb6-8660-5af108b07e98",
   "metadata": {},
   "source": [
    "De gorma geral, o tópico de otimização consiste em problemas onde queremos encontrar o máximo/mínimo de uma função. Em matérias de Cálculo I, isso pode parecer uma tarefa trivial, basta encontrar o argumento tal que tal que a sua primeira derivada é nula. No entanto, os problemas abordados em otimização dificilmente dependerão de um ou dois parâmetros: queremos tratar de métodos que consigam solucionar - de forma computacionalmente tractável - problemas onde a função que queremos minimizar possui milhares ou até milhões de argumentos.\n",
    "\n",
    "Evidentemente, existem inúmeros métodos associados a inúmeras classes de problemas de otimização diferentes, e visto que não é uma área de profundo conhecimento meu, centrarei minha atenção em dois exemplos da chamada <i>função objetivo</i>."
   ]
  },
  {
   "cell_type": "markdown",
   "id": "bfac6042-653a-4d68-8a93-728f84ec6536",
   "metadata": {},
   "source": [
    "## Otimização e Função Objetivo"
   ]
  },
  {
   "cell_type": "markdown",
   "id": "f7ce8665-5ef0-4a99-84d1-6491a28deb08",
   "metadata": {},
   "source": [
    "A <b>função objetivo</b> é justamente a função $f(\\boldsymbol{x})$ que queremos minimizar/maximizar no problema de otimização. Matematicamente, queremos encontrar o vetor $\\boldsymbol{x}=\\boldsymbol{x^*}$ tal que $f(\\boldsymbol{x^*})<f(\\boldsymbol{x}),\\; \\forall \\;  \\boldsymbol{x} \\neq \\boldsymbol{x^*}\\in \\mathcal{D}$, onde $\\mathcal{D}$ é o domínio da função $f$. \n",
    "\n",
    "O significado desta minimização depende do problema. Por exemplo, o problema central tratado na Tarefa consiste em treinar um algoritmo para identificar dígitos de $0$ a $9$ desenhados à mão. Para solucionar esta implementação, o problema se reduzirá a determinar a distribuição de probabilidade mais provável que representa os dados, a qual pode ser obtida através da minimização do <b>log negativo da função de verossimilhança</b> (ou <b>negative log likelihood</b>). \n",
    "\n",
    "\\begin{align*}\n",
    "    l(\\boldsymbol{W})=-\\sum_{i=1}^N \\log  L(\\boldsymbol{W})\n",
    "\\end{align*}\n",
    "\\begin{align*}\n",
    "    L(\\boldsymbol{W})=\\prod_{i=1}^N p\\left(y_{i}|\\boldsymbol{x}_i;\\boldsymbol{W}\\right)\n",
    "\\end{align*}\n",
    "Onde $p$ é a probabilidade condicional de obter o resultado $y_i$ relativo ao datapoint $\\boldsymbol{x}_i$ e como função dos parâmetros $\\boldsymbol{W}$. A meta da Tarefa será encontrar o conjunto de parâmetros que otimizam o fit acima. Por enquanto, inicaremos nossa analise de convexidade para uma função objetivo quadrática."
   ]
  },
  {
   "cell_type": "markdown",
   "id": "3e294672-a3ce-40b2-9736-d2ab40aca41d",
   "metadata": {},
   "source": [
    "## Convexidade e a Função Objetivo Quadrática"
   ]
  },
  {
   "cell_type": "markdown",
   "id": "04d2073c-ec55-484d-8abb-00d57a2ae6f7",
   "metadata": {},
   "source": [
    "Dependendo da forma da função objetivo, o problema de otimização pode ser muito trabalhoso. De fato, existem determinadas propriedades que são desejáveis para funções objetivo, e as quais diretamente afetam a taxa de convergência do algoritmo de otimização. Iniciamos, portanto, o estudo de funções <b>convexas</b>.\n",
    "\n",
    "Da forma mais geral possível, uma função convexa $f$ é aquela que respeita a seguinte desigualdade:\n",
    "\n",
    "\\begin{align*}\n",
    "    f(\\alpha\\boldsymbol{x}+(1-\\alpha)\\boldsymbol{y})\\leq \\alpha f(\\boldsymbol{x})+(1-\\alpha)f(\\boldsymbol{y})\n",
    "\\end{align*}\n",
    "\n",
    "\n",
    "Geometricamente, o lado direito da equação acima representa a reta que passa pelos pontos $f(\\boldsymbol{x})$ e $f(\\boldsymbol{y})$, e portanto podemos interpretar essa desigualdade como <i>a reta definida entre quaisquer dois pontos de uma função convexa está 'acima' da função</i>. Só por completeza, o conjunto de todos os pontos 'acima' da função é denominado a <b>epígrafe da função $f(\\boldsymbol{x})$</b> ($\\text{Epi}(f)$). \n",
    "\n",
    "Apesar de ser uma definição abrangente, é mais útil para nós entendermos como essa definição resulta em propriedades diferenciais interessantes para a solução de problemas de otimização e, também, se existe alguma forma de determinar a convexidade de $f$ sem precisarmos aplicar a desigualdade acima.\n",
    "\n",
    "Do livro-texto, uma das condições suficientes para identificar se a função $f$ é convexa é a <b>condição de segunda-ordem</b>: se a função $f$ é duas vezes continuamente diferenciável no seu domínio e a sua respectiva matriz Hessiana é positiva semi-definida (possui somente autovalores não-negativos), a função $f$ é convexa. Agora, se os autovalores da matriz Hessiana forem todos positivos, então a função $f$ será <b>fortemente convexa</b>.\n",
    "\n",
    "Para ilustrar os três tipos de funções pedidos pela tarefa, faremos uso de uma função objetivo quadrática:\n",
    "\n",
    "\\begin{align*}\n",
    "   &f(\\boldsymbol{x})=\\boldsymbol{x}^T \\boldsymbol{A}\\boldsymbol{x}+\\boldsymbol{b}^T\\boldsymbol{x}+c\n",
    "\\end{align*}\n",
    "\n",
    "Além disso, para simplificar a visualização da nossa análise, consideraremos que esta função depende de somente dois argumentos conforme a equação abaixo.\n",
    "\n",
    "\\begin{align*}\n",
    "       &f(x,y)=\\begin{bmatrix}\n",
    "       x & y\n",
    "   \\end{bmatrix} \\begin{bmatrix}\n",
    "       A_{11} & A_{12}\\\\\n",
    "       A_{21} & A_{22}\n",
    "   \\end{bmatrix}\\begin{bmatrix}\n",
    "       x \\\\ y\n",
    "   \\end{bmatrix}+\\begin{bmatrix}\n",
    "       b_1 & b_2\n",
    "   \\end{bmatrix}\\begin{bmatrix}\n",
    "       x\\\\ y\n",
    "   \\end{bmatrix}+c\n",
    "\\end{align*}\n",
    "\n",
    "Para análise conceitual de convexidade de funções quadráticas, pouco nos interessa a constante $c$ (pois na representação $3D$,  só altera a posição $z$ do mínimo/ponto de sela); as constantes $b_1$, $b_2$ (pois só alteram a coordenada $(x,y)$ do mínimo/ponto de sela); e as constantes $A_{12},A_{21}$ (pois só alteram o ângulo entre os autovetores e os eixos cartesianos). Isto é, toda a análise de convexidade pode ser completamente entendida através da função quadrática diagonalizada, centrada na origem. Além disso, adotaremos a convenção do livro-texto, em que o maior autovalor da matriz Hessiana é $2A_{22}=L$ e o menor autovalor, $2A_{11}=m$. O fato de um apontar em $y$ e o outro em $x$ é uma escolha arbitrária.\n",
    "\n",
    "\\begin{align*}\n",
    "     f(x,y)=  &\\begin{bmatrix}\n",
    "       x & y\n",
    "   \\end{bmatrix} \\begin{bmatrix}\n",
    "       A_{11} & 0\\\\\n",
    "     0 & A_{22}\n",
    "   \\end{bmatrix}\\begin{bmatrix}\n",
    "       x \\\\ y\n",
    "   \\end{bmatrix}\\\\\n",
    "   =  &\\dfrac{1}{2}\\left(mx^2+Ly^2\\right)\n",
    "\\end{align*}\n",
    "\\begin{align*}\n",
    "     \\nabla f(x,y)= & \\begin{bmatrix}\n",
    "      m x \\\\\n",
    "      L y\n",
    "   \\end{bmatrix}\n",
    "\\end{align*}\n",
    "\\begin{align*}\n",
    "     H(x,y)= & \\begin{bmatrix}\n",
    "       m & 0\\\\\n",
    "     0 & L \n",
    "   \\end{bmatrix}\n",
    "\\end{align*}\n",
    "Onde também conseguimos observar como a função é $L$-suave (autovalor $L$ é a constante de Lipschitz), ou seja, o gradiente da função objetivo respeita a seguinte relação:\n",
    "\n",
    "\\begin{align*}\n",
    " \\left\\|\\nabla f (\\boldsymbol{x})-\\nabla f (\\boldsymbol{y})\\right\\| \\leq L \\left\\|\\boldsymbol{x}-\\boldsymbol{y}\\right\\|\n",
    "\\end{align*}\n",
    "\n",
    "Mantendo este maior autovalor como positivo, vamos individuar cada caso admitindo diferentes valores para o menor autovalor $m$."
   ]
  },
  {
   "cell_type": "markdown",
   "id": "bbb06b9d-5323-43b8-87a3-380e7a72f81b",
   "metadata": {},
   "source": [
    "### Fortemente Convexa"
   ]
  },
  {
   "cell_type": "markdown",
   "id": "2d72be55-9ba4-47ac-be3a-faa9e9c150df",
   "metadata": {},
   "source": [
    "Quando a função $f$ é <b>fortemente convexa</b>, $m>0$. Esta situação garante a existência de um mínimo global único. Só por completeza, vamos incluir também a sua definição formal. Uma função é dita fortemente convexa se, e somente se, pode ser inferiorizada por uma função quadrática tal que:\n",
    "\n",
    "\\begin{align*}\n",
    "    f(\\boldsymbol{x})\\geq f(\\boldsymbol{y})+\\nabla f(\\boldsymbol{y})^T(\\boldsymbol{x}-\\boldsymbol{y})+\\dfrac{m}{2}\\left\\|\\boldsymbol{x}-\\boldsymbol{y}\\right\\|^2,\\; m>0\n",
    "\\end{align*}\n",
    "\n",
    "Ou seja, essa condição estabelece uma curvatura mínima para a função."
   ]
  },
  {
   "cell_type": "code",
   "execution_count": 16,
   "id": "73b932d4-9763-4403-a1bf-f00a4a9872d0",
   "metadata": {},
   "outputs": [
    {
     "data": {
      "image/png": "[encoded data removed]",
      "text/plain": [
       "<Figure size 432x288 with 1 Axes>"
      ]
     },
     "metadata": {
      "needs_background": "light"
     },
     "output_type": "display_data"
    }
   ],
   "source": [
    "# Autovalores da Hessiana\n",
    "L = 10;\n",
    "m=5;\n",
    "\n",
    "# Definição da função quadrática bidimensional\n",
    "def z_function(x,y):\n",
    "    return (m*x **2 + L*y **2)/2\n",
    "\n",
    "x = np.arange(-10, 10, 0.05)\n",
    "y = np.arange(-10, 10, 0.05)\n",
    "\n",
    "X,Y = np.meshgrid(x,y)\n",
    "\n",
    "Z = z_function(X,Y)\n",
    "\n",
    "ax = plt.subplot(projection=\"3d\")\n",
    "ax.plot_surface(X, Y, Z, cmap = \"viridis\")\n",
    "ax.set_xlim(-10, 10)\n",
    "ax.set_ylim(-10, 10)\n",
    "plt.show()"
   ]
  },
  {
   "cell_type": "markdown",
   "id": "a75ac151-7f00-450f-b86b-c6c06b237928",
   "metadata": {},
   "source": [
    "### Convexa (<u>e</u> não Fortemente Convexa)"
   ]
  },
  {
   "cell_type": "markdown",
   "id": "e4c21c61-d208-4e38-8149-dd03c2838092",
   "metadata": {},
   "source": [
    "A convexidade forte é um caso particular de convexidade. Isto é, toda função fortemente convexa é, também, convexa. O caso admitido pelas funções convexas que não ocorre para funções fortemente convexas é aquele em que o menor autovalor é igual a 0. Isto é quando $m=0$. Entendemos então, que além deste caso patológico, esta definição contém a situação descrita no caso anterior, onde $m>0$. Em suma, quando a função $f$ é <b>convexa</b>, $m\\geq 0$. Como podemos ver, esta situação admite a existência de mínimos degenerados: existe mínimo, mas ele não é único."
   ]
  },
  {
   "cell_type": "code",
   "execution_count": 17,
   "id": "efc17615-083e-4676-bd05-20a5e73c6cb9",
   "metadata": {},
   "outputs": [
    {
     "data": {
      "image/png": "[encoded data removed]",
      "text/plain": [
       "<Figure size 432x288 with 1 Axes>"
      ]
     },
     "metadata": {
      "needs_background": "light"
     },
     "output_type": "display_data"
    }
   ],
   "source": [
    "# Autovalores da Hessiana\n",
    "L = 10;\n",
    "m=0;\n",
    "\n",
    "# Definição da função quadrática bidimensional\n",
    "def z_function(x,y):\n",
    "    return (m*x **2 + L*y **2)/2\n",
    "\n",
    "x = np.arange(-10, 10, 0.05)\n",
    "y = np.arange(-10, 10, 0.05)\n",
    "\n",
    "X,Y = np.meshgrid(x,y)\n",
    "\n",
    "Z = z_function(X,Y)\n",
    "\n",
    "ax = plt.subplot(projection=\"3d\")\n",
    "ax.plot_surface(X, Y, Z, cmap = \"viridis\")\n",
    "ax.set_xlim(-10, 10)\n",
    "ax.set_ylim(-10, 10)\n",
    "plt.show()"
   ]
  },
  {
   "cell_type": "markdown",
   "id": "9684a6a1-0e5d-427c-84de-bed1cea4b995",
   "metadata": {},
   "source": [
    "### Não-Convexa"
   ]
  },
  {
   "cell_type": "markdown",
   "id": "862474ce-c15c-4d27-bc2a-d1e7ac121daf",
   "metadata": {},
   "source": [
    "Quando a função $f$ é <b>não-convexa</b>, $m<0$. Neste caso, a função $f$ admite pontos de sela."
   ]
  },
  {
   "cell_type": "code",
   "execution_count": 18,
   "id": "42120c41-bad0-4de1-adf4-3b0878a9edfc",
   "metadata": {},
   "outputs": [
    {
     "data": {
      "image/png": "[encoded data removed]",
      "text/plain": [
       "<Figure size 432x288 with 1 Axes>"
      ]
     },
     "metadata": {
      "needs_background": "light"
     },
     "output_type": "display_data"
    }
   ],
   "source": [
    "# Autovalores da Hessiana\n",
    "L = 10;\n",
    "m=-5;\n",
    "\n",
    "# Definição da função quadrática bidimensional\n",
    "def z_function(x,y):\n",
    "    return (m*x **2 + L*y **2)/2\n",
    "\n",
    "x = np.arange(-10, 10, 0.05)\n",
    "y = np.arange(-10, 10, 0.05)\n",
    "\n",
    "X,Y = np.meshgrid(x,y)\n",
    "\n",
    "Z = z_function(X,Y)\n",
    "\n",
    "ax = plt.subplot(projection=\"3d\")\n",
    "ax.plot_surface(X, Y, Z, cmap = \"viridis\")\n",
    "ax.set_xlim(-10, 10)\n",
    "ax.set_ylim(-10, 10)\n",
    "plt.show()"
   ]
  },
  {
   "cell_type": "markdown",
   "id": "e2e1afb1-663f-4ea7-8dd1-370ef96f6fb8",
   "metadata": {},
   "source": [
    "A seguir, iremos implementar os algoritmos de descida de gradiente e testar a convergência ao mínimo para uma função quadrática $N$-dimensional. Além disso, restringiremos nossa análise para quadráticas <b>fortemente convexas</b>."
   ]
  },
  {
   "cell_type": "markdown",
   "id": "a5fe27a1-5a52-45b6-bba4-82de97408761",
   "metadata": {},
   "source": [
    "## 2.1. Implementação do Gradiente Descendente (GD)"
   ]
  },
  {
   "cell_type": "markdown",
   "id": "550c2c16-e25d-4fc8-a9e7-4b4020ef398b",
   "metadata": {},
   "source": [
    "Uma das técnicas que se é utilizada para obter o mínimo de uma função é o gradiente descendente. Esta técnica consiste na computação iterativa do mínimo de uma função objetivo através de passos nas direções de máxima variação: ou seja, passsos na direção paralela ao gradiente. \n",
    "\n",
    "\\begin{align*}\n",
    " \\boldsymbol{x}^{k+1}=\\boldsymbol{x}^{k}-\\alpha_k\\nabla f(\\boldsymbol{x}^{k})\n",
    "\\end{align*}\n",
    "\n",
    "Onde $k$ é a iteração atual, e $\\alpha_k$ é o <b>learning rate</b> ou a <b>taxa de aprendizado</b> do algoritmo GD. Para funções $L$-suaves:\n",
    "\n",
    "\\begin{align*}\n",
    " \\left\\|\\nabla f (\\boldsymbol{x})-\\nabla f (\\boldsymbol{y})\\right\\| \\leq L \\left\\|\\boldsymbol{x}-\\boldsymbol{y}\\right\\|\n",
    "\\end{align*}\n",
    "\n",
    "A taxa de aprendizado é a melhor possível quando $\\alpha_k = 1/L$. No caso da função quadrática, $L$ corresponderá justamente ao maior autovalor da Hessiana."
   ]
  },
  {
   "cell_type": "markdown",
   "id": "14e18951-2bc2-4628-b3c9-afc79b2a7422",
   "metadata": {},
   "source": [
    "### Definições preliminares"
   ]
  },
  {
   "cell_type": "markdown",
   "id": "39bb2276-beb4-49fa-b4eb-6cb6263e21f4",
   "metadata": {},
   "source": [
    "Para a fase de aplocação do $\\text{GD}$ e $\\text{SGD}$, utilizamos uma quadrática $n$-dimensional."
   ]
  },
  {
   "cell_type": "code",
   "execution_count": 23,
   "id": "a7303424-1b56-4154-bc3f-23b4a7e57b6a",
   "metadata": {},
   "outputs": [],
   "source": [
    "# Dimensão da qudrática\n",
    "d = 3;\n",
    "\n",
    "# Cria listas de pontos iniciais aleatórios, e autovalores aleatórios\n",
    "start_list = list();\n",
    "eig_list = list();\n",
    "\n",
    "for i in range(10 ** d):\n",
    "    rand_float1 = random.uniform(0.1, 1)\n",
    "    rand_float2 = random.uniform(-2, 2)\n",
    "    eig_list.append(rand_float1)\n",
    "    start_list.append(rand_float2)"
   ]
  },
  {
   "cell_type": "code",
   "execution_count": 24,
   "id": "6c8bca4c-3cf5-4e55-be90-cb06f67d7ffb",
   "metadata": {},
   "outputs": [],
   "source": [
    "# Defino função quadrática N-dimensional diagonalizada\n",
    "def obj_quad_n(x):\n",
    "    i = 0;\n",
    "    sum = 0;\n",
    "    while i < len(x):\n",
    "        sum+=eig_list[i]*x[i]**2\n",
    "        i+=1\n",
    "    return sum/2\n",
    "\n",
    "# Defino o gradiente da quadrática\n",
    "def grad_quad_n(x):\n",
    "    vec = x;\n",
    "    i = 0;\n",
    "    while i < len(x):\n",
    "        vec[i]=eig_list[i]*x[i]\n",
    "        i+=1\n",
    "    return vec"
   ]
  },
  {
   "cell_type": "markdown",
   "id": "8b507b58-2d79-4023-a7df-b07101652b56",
   "metadata": {},
   "source": [
    "### Gradiente Descendente (GD)"
   ]
  },
  {
   "cell_type": "markdown",
   "id": "78f85373-8384-412c-8ff1-0f46b2dcbb86",
   "metadata": {},
   "source": [
    "Definidas as funções objetivo e gradiente, vamos implementar o GD. Em seguida, vamos plotar os seguintes gráficos:\n",
    "\n",
    "1. Valor da objetiva vs. iterações.\n",
    "2. Iterações vs. taxa de aprendizado.\n",
    "3. Iterações vs. dimensão da quadrática."
   ]
  },
  {
   "cell_type": "code",
   "execution_count": 25,
   "id": "18d286b3-7c78-4c42-9576-bd703ccd24c3",
   "metadata": {},
   "outputs": [],
   "source": [
    "# Algoritmo de descida do gradiente. Além dos argumentos referentes à função objetiva, gradiente, taxa de aprendizado, toma como argumento a\n",
    "# posição inicial para o cálculo e a tolerância, a qual quantificaremos como potência de 0.1.\n",
    "def grad_desc(obj, grad, learning_rate, start_pos, tol):\n",
    "    \n",
    "    # Armazena os valores iniciais\n",
    "    current_pos = list(start_pos);  \n",
    "    current_obj = obj(start_pos);\n",
    "    current_grad = grad(start_pos);\n",
    "    n_iterations = 0;\n",
    "\n",
    "    # Vetor que irá armazenar os valores da função objetiva por iteração \n",
    "    desc_positions = list();\n",
    "    \n",
    "    # Vetor que irá armazenar os valores da função objetiva por iteração \n",
    "    obj_values = list();\n",
    "    obj_values.append(current_obj);\n",
    "    new_pos = current_pos;\n",
    "\n",
    "    while np.linalg.norm(current_grad) > 0.1** tol:\n",
    "              \n",
    "        # Atualiza as posições utilizando o gradiente total\n",
    "        i=0;\n",
    "        while i < len(current_grad):\n",
    "            new_pos[i]= current_pos[i] - learning_rate * current_grad[i]\n",
    "            i+=1;\n",
    "\n",
    "        # Re-calcula a objetiva e o gradiente total\n",
    "        current_obj = obj(new_pos);\n",
    "        current_grad = grad(new_pos);\n",
    "        current_pos = new_pos\n",
    "        \n",
    "        #desc_positions.append(new_pos);\n",
    "        #print(desc_positions)\n",
    "        \n",
    "        # Adiciona 1 no contador de iterações e armazena a nova tupla (objetiva,iteração)\n",
    "        n_iterations+=1;\n",
    "        obj_values.append(current_obj);\n",
    "\n",
    "    return n_iterations, obj_values, current_pos"
   ]
  },
  {
   "cell_type": "markdown",
   "id": "4d56d5c9-43af-4f29-a26e-f0f7ecb8e052",
   "metadata": {},
   "source": [
    "#### Valor da Objetiva vs. Iterações"
   ]
  },
  {
   "cell_type": "code",
   "execution_count": 26,
   "id": "8788c8c3-dfa5-456f-8541-bdb6f3616176",
   "metadata": {
    "scrolled": true
   },
   "outputs": [
    {
     "name": "stdout",
     "output_type": "stream",
     "text": [
      "0.0043101999999635154\n"
     ]
    },
    {
     "data": {
      "image/png": "[encoded data removed]",
      "text/plain": [
       "<Figure size 432x288 with 1 Axes>"
      ]
     },
     "metadata": {
      "needs_background": "light"
     },
     "output_type": "display_data"
    }
   ],
   "source": [
    "start = time.perf_counter()\n",
    "grad1 = grad_desc(obj_quad_n, grad_quad_n, 1/max(eig_list), start_list, 5);\n",
    "end = time.perf_counter()\n",
    "print(end-start)\n",
    "\n",
    "x_val = [x for x in range(len(grad1[1]))];\n",
    "y_val = grad1[1];\n",
    "\n",
    "#plt.plot(x_val,y_val)\n",
    "plt.plot(x_val,y_val,'or')\n",
    "plt.xlabel('Iterações')\n",
    "plt.ylabel('Objetiva')\n",
    "plt.show()"
   ]
  },
  {
   "cell_type": "markdown",
   "id": "f0d0358e-c22b-4530-b1f2-b947de10b02f",
   "metadata": {},
   "source": [
    "#### Iterações vs. taxa de aprendizado"
   ]
  },
  {
   "cell_type": "code",
   "execution_count": 27,
   "id": "dd8dd981-1767-40b8-ba6c-18090f730e5c",
   "metadata": {},
   "outputs": [
    {
     "data": {
      "image/png": "[encoded data removed]",
      "text/plain": [
       "<Figure size 432x288 with 1 Axes>"
      ]
     },
     "metadata": {
      "needs_background": "light"
     },
     "output_type": "display_data"
    }
   ],
   "source": [
    "start_list = list();\n",
    "eig_list = list();\n",
    "for _ in range(10 ** 3):\n",
    "        rand_float1 = random.uniform(0.1, 1)\n",
    "        rand_float2 = random.uniform(-2, 2)\n",
    "        eig_list.append(rand_float1)\n",
    "        start_list.append(rand_float2)\n",
    "\n",
    "# Iterações sobre taxa de aprendizado\n",
    "i = 0;\n",
    "learn_list = list();\n",
    "iter_list = list()\n",
    "while i < 12:  \n",
    "    learn_rate = 1/max(eig_list)+0.1*(i-5);\n",
    "    grad1 = grad_desc(obj_quad_n, grad_quad_n, learn_rate, start_list, 5);\n",
    "    learn_list.append(learn_rate)\n",
    "    iter_list.append(grad1[0])\n",
    "    i+=1\n",
    "\n",
    "x_val = [item for item in learn_list];\n",
    "y_val = [item for item in iter_list];\n",
    "\n",
    "plt.plot(x_val,y_val,'or')\n",
    "\n",
    "plt.xlabel('Taxa de Aprendizado')\n",
    "plt.ylabel('Iterações')\n",
    "plt.show()"
   ]
  },
  {
   "cell_type": "markdown",
   "id": "b1fa881d-9ff0-4b1d-a719-c75af1c51b1d",
   "metadata": {},
   "source": [
    "Vemos que a taxa de aprendizado é mínima precisamente quando $L=1$, ou seja, o maior autovalor da quadrática."
   ]
  },
  {
   "cell_type": "markdown",
   "id": "c2b7f114-6221-450b-bb87-4dbd42ff5d9c",
   "metadata": {},
   "source": [
    "#### Iterações vs. dimensão da quadrática"
   ]
  },
  {
   "cell_type": "code",
   "execution_count": 28,
   "id": "bed18119-2a56-45d4-bf20-4ce6f707ee0e",
   "metadata": {},
   "outputs": [
    {
     "name": "stdout",
     "output_type": "stream",
     "text": [
      "602.1595815999999\n"
     ]
    },
    {
     "data": {
      "image/png": "[encoded data removed]",
      "text/plain": [
       "<Figure size 432x288 with 1 Axes>"
      ]
     },
     "metadata": {
      "needs_background": "light"
     },
     "output_type": "display_data"
    }
   ],
   "source": [
    "start = time.perf_counter();\n",
    "\n",
    "# Média sobre 10 inicializações, para calcular a média\n",
    "i = 0;\n",
    "R = 8;\n",
    "iter_list = list();\n",
    "time_list = list();\n",
    "while i < R:\n",
    "    ping = time.perf_counter();\n",
    "    j = 0;\n",
    "    n_iter = 0;\n",
    "    while j < 10:\n",
    "        start_list = list();\n",
    "        eig_list = list();\n",
    "        for _ in range(10 ** i):\n",
    "            rand_float1 = random.uniform(0.1, 1)\n",
    "            rand_float2 = random.uniform(-2, 2)\n",
    "            eig_list.append(rand_float1)\n",
    "            start_list.append(rand_float2)\n",
    "        grad1 = grad_desc(obj_quad_n, grad_quad_n, 1/max(eig_list), start_list, 5);\n",
    "        n_iter+=grad1[0];\n",
    "        j+=1;\n",
    "    pong = time.perf_counter();\n",
    "    iter_list.append(n_iter/10);\n",
    "    time_list.append((pong-ping)/10);\n",
    "    i+=1\n",
    "end = time.perf_counter();\n",
    "print(end-start)\n",
    "\n",
    "x_val = list(range(1, R+1));\n",
    "y_val = [item for item in iter_list];\n",
    "\n",
    "plt.plot(x_val,y_val,'or')\n",
    "\n",
    "plt.xlabel('log10(features)')\n",
    "plt.ylabel('Iterações')\n",
    "plt.show()"
   ]
  },
  {
   "cell_type": "markdown",
   "id": "08ce8699-598a-4ca1-8ecd-b88b9a226034",
   "metadata": {},
   "source": [
    "#### Tempo total vs. dimensão"
   ]
  },
  {
   "cell_type": "code",
   "execution_count": 33,
   "id": "9b0c97be-a125-4da8-a9d7-b184beab8af4",
   "metadata": {},
   "outputs": [
    {
     "data": {
      "image/png": "[encoded data removed]",
      "text/plain": [
       "<Figure size 432x288 with 1 Axes>"
      ]
     },
     "metadata": {
      "needs_background": "light"
     },
     "output_type": "display_data"
    }
   ],
   "source": [
    "x_val = list(range(1, R+1));\n",
    "y_val = [item for item in time_list];\n",
    "\n",
    "plt.plot(x_val,y_val,'or')\n",
    "\n",
    "plt.xlabel('log10(features)')\n",
    "plt.ylabel('Tempo de Convergência')\n",
    "plt.show()"
   ]
  },
  {
   "cell_type": "markdown",
   "id": "b30e663b-08d7-488f-8e5f-a7f29facfc78",
   "metadata": {},
   "source": [
    "Onde vemos, claramente, que apesar do número de iterações diminuir com a ordem da quadrática, o tempo de convergência de fato aumenta conforme esperado. "
   ]
  },
  {
   "cell_type": "markdown",
   "id": "e0156695-7264-4d23-939f-7690db0ad19f",
   "metadata": {},
   "source": [
    "## 2.2. Implementação do Gradiente Descendente Estocástico (SGD)"
   ]
  },
  {
   "cell_type": "markdown",
   "id": "c02121f1-160b-4134-a303-8249b077dfd4",
   "metadata": {},
   "source": [
    "Quando a computação do gradiente total é computacionalmente custoso e/ou os dados coletados são ruidosos, costuma-se utilizar o método do Gradiente Descendente Estocástico. A ideia deste algoritmo é fazer um cálculo do gradiente 'parcial', isto é, calculando a derivada parcial da função objetiva em uma ou várias direções (um <b>batch</b>) e realizando a iteração na direção deste gradiente parcial. Isto é:\n",
    "\n",
    "\\begin{align*}\n",
    "   \\boldsymbol{x}^{k+1}=\\boldsymbol{x}^{k}-\\alpha_k\\nabla f_{k}(\\boldsymbol{x}^{k})\n",
    "\\end{align*}\n",
    "\n",
    "\\begin{align*}\n",
    "    \\nabla f_{k}(\\boldsymbol{x}^{k})=&\\dfrac{1}{n}\\sum_{s=1}^n \\left.\\dfrac{\\partial f(\\boldsymbol{x})}{\\partial x_{i_s}}\\right|_{\\boldsymbol{x}=\\boldsymbol{x}^k} \\boldsymbol{e}_{i_s}\\\\\n",
    "    =&\\dfrac{1}{n}\\sum_{s=1}^n \\left[\\nabla f(\\boldsymbol{x}^k)\\right]_{i_s} \\boldsymbol{e}_{i_s}\n",
    "\\end{align*}\n",
    "\n",
    "Onde $i_s\\in \\left\\{1,2,...,N\\right\\}$ é o índice escolhido aleatoriamente, determinando as direções para o cálculo médio do gradiente parcial e $\\boldsymbol{e}_{i_s}$ é o vetor unitário na $i_s$-ésima direção. Desta forma, cada iteração será menos custosa.\n",
    "\n",
    "Porém, o preço que pagamos por não calcular o gradiente total é que o algoritmo irá demorar mais tempo para convergir, visto que a direção de deslocamento entre iterações não será na direção de maior variação da função. Uma consequência notável disso é que se a razão entre o maior e menor autovalores da Hessiana de $f$ for grande, o algoritmo corre o risco de oscilar bastnate em torno do mínimo. Para evitar este problema, é usual utilizar uma taxa de aprendizado decrescente com as iterações.\n",
    "\n",
    "Convencionamos o tamanho do 'batch' de direções como $64$."
   ]
  },
  {
   "cell_type": "code",
   "execution_count": 34,
   "id": "b27a549f-b820-4d55-96f5-ed558e23d504",
   "metadata": {},
   "outputs": [],
   "source": [
    "# Defino o gradiente parcial em um direção\n",
    "def partial_grad_quad_n(x, index):\n",
    "    return eig_list[index]*x[index]"
   ]
  },
  {
   "cell_type": "code",
   "execution_count": 35,
   "id": "6773695b-ff06-487c-8762-4706f2ad95f0",
   "metadata": {},
   "outputs": [],
   "source": [
    "start_list = list();\n",
    "eig_list = list();\n",
    "\n",
    "for i in range(10 ** 3):\n",
    "    rand_float1 = random.uniform(0.1, 1)\n",
    "    rand_float2 = random.uniform(-2, 2)\n",
    "    eig_list.append(rand_float1)\n",
    "    start_list.append(rand_float2)"
   ]
  },
  {
   "cell_type": "code",
   "execution_count": 36,
   "id": "87938391-4f7d-4cbc-a929-9afd22042d74",
   "metadata": {},
   "outputs": [],
   "source": [
    "# Algoritmo de descida do gradiente estocástico\n",
    "def stoch_grad_desc(obj, partial_grad, learning_rate, start_pos, tol, batch_size):\n",
    "    \n",
    "    # Armazena os valores iniciais\n",
    "    current_pos = list(start_pos);  \n",
    "    current_obj = obj(start_pos);\n",
    "    current_grad = [0] * len(start_pos); # Valor inicial do gradiente\n",
    "    n_iterations = 0;\n",
    "\n",
    "    # Vetor que irá armazenar os valores da função objetiva por iteração \n",
    "    desc_positions = list();\n",
    "    \n",
    "    # Vetor que irá armazenar os valores da função objetiva por iteração \n",
    "    obj_values = list();\n",
    "    obj_values.append(current_obj);\n",
    "    new_pos = current_pos;\n",
    "\n",
    "    while np.linalg.norm(current_grad) > 0.1** tol or n_iterations == 0:\n",
    "              \n",
    "        # Atualiza as posições utilizando o gradiente parcial\n",
    "        i = 0;\n",
    "        batch_list = np.random.choice(len(start_pos), size=batch_size, replace=False)\n",
    "        while i < batch_size:\n",
    "            n = batch_list[i];\n",
    "            current_grad[n] = partial_grad(current_pos, n)\n",
    "            new_pos[n]= current_pos[n] - learning_rate * current_grad[n]\n",
    "            i+=1;\n",
    "\n",
    "        # Re-calcula a objetiva e o gradiente total\n",
    "        current_obj = obj(new_pos);\n",
    "        current_pos = new_pos\n",
    "        \n",
    "        #desc_positions.append(new_pos);\n",
    "        #print(desc_positions)\n",
    "        \n",
    "        # Adiciona 1 no contador de iterações e armazena a nova tupla (objetiva,iteração)\n",
    "        n_iterations+=1;\n",
    "        obj_values.append(current_obj);\n",
    "\n",
    "    return n_iterations, obj_values, current_pos"
   ]
  },
  {
   "cell_type": "markdown",
   "id": "01a82265-8b65-4d6e-9058-be8f66395e4b",
   "metadata": {},
   "source": [
    "#### Objetiva vs. iterações\n"
   ]
  },
  {
   "cell_type": "code",
   "execution_count": 37,
   "id": "36127487-0caf-454f-8db9-61c5186c9839",
   "metadata": {},
   "outputs": [
    {
     "name": "stdout",
     "output_type": "stream",
     "text": [
      "0.6490086999997402\n"
     ]
    },
    {
     "data": {
      "image/png": "[encoded data removed]",
      "text/plain": [
       "<Figure size 432x288 with 1 Axes>"
      ]
     },
     "metadata": {
      "needs_background": "light"
     },
     "output_type": "display_data"
    }
   ],
   "source": [
    "start = time.perf_counter()\n",
    "grad2 = stoch_grad_desc(obj_quad_n, partial_grad_quad_n, 1/max(eig_list), start_list, 3, 64);\n",
    "end = time.perf_counter()\n",
    "print(end-start)\n",
    "\n",
    "x_val = [x for x in range(len(grad2[1]))];\n",
    "y_val = grad2[1];\n",
    "\n",
    "#plt.plot(x_val,y_val)\n",
    "plt.plot(x_val,y_val,'or')\n",
    "plt.xlabel('Iterações')\n",
    "plt.ylabel('Objetiva')\n",
    "plt.show()"
   ]
  },
  {
   "cell_type": "markdown",
   "id": "cec37a30-cd16-4cb2-9a60-28e485ddbfd0",
   "metadata": {},
   "source": [
    "Onde verificamos que, de fato, este algoritmo leva mais iterações para convergir."
   ]
  },
  {
   "cell_type": "markdown",
   "id": "80c03fe5-89e1-485c-9e99-51ef540eb3f9",
   "metadata": {},
   "source": [
    "#### Iterações vs. fator de amplificação"
   ]
  },
  {
   "cell_type": "markdown",
   "id": "ddadc6d6-78cb-41ec-aabe-5695919e1846",
   "metadata": {},
   "source": [
    "Para acelerar a convergência do $\\text{SGD}$, é usual utilizar um fator $\\gamma$ de amplificação sobre a taxa de aprendizado. A escolha deste parâmetro varia com o problema. Para descobrir qual funciona melhor para nós, testamos a convergência para várias iterações da quadrática de dimensão $3$."
   ]
  },
  {
   "cell_type": "code",
   "execution_count": 38,
   "id": "91e6924e-5a43-4ed8-ae58-1f7075f05ce8",
   "metadata": {},
   "outputs": [
    {
     "name": "stdout",
     "output_type": "stream",
     "text": [
      "44.78956870000002\n"
     ]
    },
    {
     "data": {
      "image/png": "[encoded data removed]",
      "text/plain": [
       "<Figure size 432x288 with 1 Axes>"
      ]
     },
     "metadata": {
      "needs_background": "light"
     },
     "output_type": "display_data"
    }
   ],
   "source": [
    "iter_list = list();\n",
    "gamma_list = list();\n",
    "R = 3;\n",
    "\n",
    "start_list = list();\n",
    "eig_list = list();\n",
    "for _ in range(10 ** R):\n",
    "    rand_float1 = random.uniform(0.1, 1)\n",
    "    rand_float2 = random.uniform(-2, 2)\n",
    "    eig_list.append(rand_float1)\n",
    "    start_list.append(rand_float2)\n",
    "        \n",
    "i = 1;\n",
    "ping = time.perf_counter();\n",
    "while i < 9*10 ** 1:\n",
    "    grad2 = stoch_grad_desc(obj_quad_n, partial_grad_quad_n, (1.0+0.01*i)/max(eig_list), start_list, 3, 64);\n",
    "    gamma_list.append((1.0+0.01*i))\n",
    "    iter_list.append(grad2[0])\n",
    "    i+=1\n",
    "pong = time.perf_counter();\n",
    "print(pong-ping)\n",
    "\n",
    "x_val = [item for item in gamma_list];\n",
    "y_val = [item for item in iter_list];\n",
    "\n",
    "#plt.plot(x_val,y_val)\n",
    "plt.plot(x_val,y_val,'or')\n",
    "\n",
    "plt.xlabel('Gamma')\n",
    "plt.ylabel('Iterações')\n",
    "plt.show()"
   ]
  },
  {
   "cell_type": "code",
   "execution_count": 39,
   "id": "6e9eb714-63ae-4406-82cf-70ba4de20962",
   "metadata": {},
   "outputs": [
    {
     "name": "stdout",
     "output_type": "stream",
     "text": [
      "Menor tempo:  555 Gamma:  1.72\n"
     ]
    }
   ],
   "source": [
    "print('Menor tempo: ',min(iter_list),'Gamma: ', gamma_list[iter_list.index(min(iter_list))])"
   ]
  },
  {
   "cell_type": "markdown",
   "id": "4ca4986d-c8fc-4cdc-b1c0-78221fc0d10d",
   "metadata": {},
   "source": [
    "# 3. Implementação do Classificador Logístico/Binário"
   ]
  },
  {
   "cell_type": "markdown",
   "id": "da1e8d7e-0a08-44fc-b0cb-786699c8bc9a",
   "metadata": {},
   "source": [
    "Antes de implementarmos a regressão logística multinomial, vamos estudar a sua versão mais simples, onde temos apenas duas classificações: $1 $(<b>positiva</b>) e $0$ (<b>negativa</b>). Relacionado à base de dados em questão, o algoritmo que estamos propondo aqui identificará se o dado inserido corresponde a algum dígito da nossa escolha, ou não. Por exemplo, se escolhemos o dígito $3$, este algoritmo não conseguirá identificar se o dígito é $2$ ou $7$: ele apenas fará uma previsão se o dígito é $3$ ou não.\n",
    "\n",
    "Para motivar a forma que o algoritmo irá tomar, vamos resumir o problema proposto pela Tarefa. Queremos um algoritmo que tome como input imagens de dígitos desenhados à mão - de classificação desconhecida - e que produza como output a probabilidade de que essa imagem corresponde a um determinado dígito. Definindo a classificação como sendo $y\\in \\{0,1\\}$ e o dado de input como sendo $\\boldsymbol{x}$, o que queremos calcular, em efeito, é a seguinte distribuição de probabilidade:\n",
    "\n",
    "\\begin{align*}\n",
    "    p\\left(y|\\boldsymbol{x}\\right)=  \\begin{cases}\n",
    "       f\\left(\\boldsymbol{x}\\right),& \\text{se } y =1\\\\\n",
    "       1- f\\left(\\boldsymbol{x}\\right), &\\text{se }y=0\n",
    "    \\end{cases}\n",
    "\\end{align*}\n",
    "Onde entendemos $p(a| b)$ é a probabilidade condicional de obtermos o resultado $a$ dado que $b$ ocorreu. Agora, a pergunta que não quer calar é: <i>Qual a forma funcional de $f$</i>? Evidentemenete, existem inúmeras formas que podemos modelar essa probabilidade utilizando o dataset de input. Inclusive, poderíamos estar tentados a impor uma relação afim entre $f$ e os dados, como, por exemplo:\n",
    "\n",
    "\\begin{align*}\n",
    "    f(\\boldsymbol{x};\\boldsymbol{w},b)=\\boldsymbol{w}^T\\boldsymbol{x}+b\n",
    "\\end{align*}\n",
    "Onde, além do input $\\boldsymbol{x}$, a nossa função $f$ passa a ser uma função de dois inputs adicionais, a lista de parâmetros $\\boldsymbol{w}$ (chamadas de <i>pesos</i>) e do parâmetro $b$ (chamado de <b>bias</b> ou <b>viés</b>). A ideia seria, portanto, encontrar os parâmetros ($\\boldsymbol{w},b$) que mais aproximam a probabilidade $p$ da distribuição proposta pelos dados.\n",
    "\n",
    "Porém, apesar da simplicidade do modelo linear proposto, a relação descrita anteriormente entre esta função $f$ e a probabilidade  $p$ dita que, para todos os inputs, esta função deverá satisfazer $0\\leq  f(\\boldsymbol{x};\\boldsymbol{w},b)\\leq 1$. Dependendo da forma dos inputs, a aplicação desta restrição sobre os estágios intermediários da otimização dos parâmetros pode ser algo extremamente inconveniente. Por este motivo, na regressão logística, é comum utilizar a <b>função sigmoide</b>:\n",
    "\n",
    "\\begin{align*}\n",
    "    f(\\boldsymbol{x};\\boldsymbol{w},b)=\\sigma (\\boldsymbol{w}^T\\boldsymbol{x}+b)=\\dfrac{1}{1+e^{-(\\boldsymbol{w}^T\\boldsymbol{x}+b)}}\n",
    "\\end{align*}\n",
    "Desta forma, quaisquer que sejam os valores dos parâmetros, a função $f$ estará restrita ao intervalo $[0,1]$, consistente com a de uma distribuição de probabilidade. Esta será, então, a função utilizada para modelar a probabilidade $p$. \n",
    "\n",
    "Agora, determinada a função modelo $f$, como sabemos que parâmetros $\\boldsymbol{w},b$ são melhores ou piores para modelar os dados? Como encontramos os parâmetros ótimos? Em problemas de otimização, este é precisamente o trabalho da função objetivo.\n",
    "\n",
    "Até o momento, tratamos da distribuição de probabilidade $p$ associada a apenas um datapoint $\\boldsymbol{x}$. Na prática, teremos $N$ datapoints, os quais representaremos como a lista $\\{\\boldsymbol{x}_1,\\boldsymbol{x}_2,...,\\boldsymbol{x}_N\\}$. Considerando que cada um destes datapoints são referentes a eventos independentes um do outro, a probabilidade de obtermos uma lista de $N$ classificações $\\{y_1,y_2,...,y_N\\}$ será dada pelo seguinte produto de probabilidades, definido como a <b>verossimilhança</b> (ou '<b>likelihood</b>'):\n",
    "\n",
    "\\begin{align*}\n",
    "    L(\\boldsymbol{w},b)=&p(y_1|\\boldsymbol{x}_1;\\boldsymbol{w},b)p(y_1|\\boldsymbol{x}_2;\\boldsymbol{w},b)...p(y_N|\\boldsymbol{x}_N;\\boldsymbol{w},b)\\\\\n",
    "    =&\\prod_{i=1}^N p(y_i|\\boldsymbol{x}_i;\\boldsymbol{w},b)\n",
    "\\end{align*}\n",
    "Entendemos que o melhor fit da distribuição de probabilidade a partir dos parâmetros será aquela que maximiza a verossimilhança acima. No entanto, esta nem é a forma mais prática de representarmos a função objetivo. Ao invés de tratar um produto de funções sigmoide, é muito mais tractável maximizarmos o logaritmo da verossimilhança (ou minimizarmos o logaritmo negativo). Além disso, como cada probabilidade $p$ possui dois resultados, podemos representar os dois resultados utilizando uma única expressão, dada abaixo:\n",
    "\n",
    "\\begin{align*}\n",
    "   p(y_i|\\boldsymbol{x}_i;\\boldsymbol{w},b)=  \\begin{cases}\n",
    "      \\sigma \\left(\\boldsymbol{w}^T\\boldsymbol{x}_i+b\\right),& \\text{se } y_i =1\\\\\n",
    "       1- \\sigma\\left(\\boldsymbol{w}^T\\boldsymbol{x}_i+b\\right), &\\text{se }y_i=0\n",
    "    \\end{cases}\\\\\n",
    "    =      \\sigma \\left(\\boldsymbol{w}^T\\boldsymbol{x}_i+b\\right)^{y_i}\\left[1-     \\sigma \\left(\\boldsymbol{w}^T\\boldsymbol{x}_i+b\\right)\\right]^{(1-y_i)}\n",
    "\\end{align*}\n",
    "\n",
    "Tomando o logaritmo natural negativo da verossimilhança e substituindo a representação acima, temos:\n",
    "\n",
    "\\begin{align*}\n",
    "  \\ell (\\boldsymbol{w},b) =&- \\log L(\\boldsymbol{w},b)\\\\\n",
    "  =&-\\sum_{i=1}^N \\log p(y_i|\\boldsymbol{x}_i;\\boldsymbol{w},b)\\\\\n",
    "   =&-\\sum_{i=1}^N \\left[y_i \\log \\left(\\sigma(\\boldsymbol{w}^T\\boldsymbol{x}_i+b)\\right)+(1-y_i)\\log \\left(1-\\sigma(\\boldsymbol{w}^T\\boldsymbol{x}_i+b)\\right)\\right]\n",
    "\\end{align*}\n",
    "A qual será a nossa função objetivo."
   ]
  },
  {
   "cell_type": "markdown",
   "id": "2a318f6d-8f4e-4676-af6f-25f46583664d",
   "metadata": {},
   "source": [
    "## 3.1. Definição do Gradiente e Hessiana"
   ]
  },
  {
   "cell_type": "markdown",
   "id": "ad597126-f76d-44bf-ad63-f800d165dc24",
   "metadata": {},
   "source": [
    "Outra vantagem de se utilizar a função sigmoide é que possui gradiente e Hessiana bem definidos. Assim, podemos usar o resultado já pronto do gradiente para colocar nas rotinas de aprendizagem. Decidi não seguir com a recomendação de utilizar as bibliotecas do PyTorch e/ou TensorFlow."
   ]
  },
  {
   "cell_type": "markdown",
   "id": "25696fe3-77a9-4bef-949d-51447000cd32",
   "metadata": {},
   "source": [
    "### Gradiente"
   ]
  },
  {
   "cell_type": "markdown",
   "id": "368cdccb-b4eb-44d3-b9dd-f71c754401e4",
   "metadata": {},
   "source": [
    "Devido à forma linear no interior do argumento da função sigmoide, as derivadas parciais dos pesos são proporcionais à derivada parcial com respeito ao bias $b$.\n",
    "\n",
    "\\begin{align*}\n",
    "    \\dfrac{\\partial}{\\partial w_j}  \\sigma(\\boldsymbol{x}_i;\\boldsymbol{w},b) = (\\boldsymbol{x}_{i})_j \\dfrac{\\partial}{\\partial b}   \\sigma(\\boldsymbol{x}_i;\\boldsymbol{w},b)\n",
    "\\end{align*}\n",
    "\n",
    "Onde por $(\\boldsymbol{x}_{i})_j$ entendemos a '$j$-ésima feature do $i$-ésimo datapoint. Calculando a derivada parcial com respeito ao bias, temos:\n",
    "\n",
    "\\begin{align*}\n",
    "    \\dfrac{\\partial}{\\partial b}  l(\\boldsymbol{w},b)=&-\\sum_{k=1}^N \\left[y_k \\log \\left(\\sigma \\left(\\boldsymbol{x}_k;\\boldsymbol{w},b\\right)\\right)+(1-y_k)\\log \\left(1-\\sigma \\left(\\boldsymbol{x}_k;\\boldsymbol{w},b\\right)\\right)\\right]\\\\\n",
    "    =&-\\sum_{k=1}^N \\left[\\dfrac{y_k}{\\sigma \\left(\\boldsymbol{x}_k;\\boldsymbol{w},b\\right)}- \\dfrac{1-y_k}{1-\\sigma \\left(\\boldsymbol{x}_k;\\boldsymbol{w},b\\right)}\\right] \\dfrac{\\partial}{\\partial b}\\sigma \\left(\\boldsymbol{x}_k;\\boldsymbol{w},b\\right)\\\\\n",
    "    =&-\\sum_{k=1}^N \\left[\\dfrac{y_k(1-\\sigma \\left(\\boldsymbol{x}_k;\\boldsymbol{w},b\\right))-(1-y_k)\\sigma \\left(\\boldsymbol{x}_k;\\boldsymbol{w},b\\right)}{\\sigma \\left(\\boldsymbol{x}_k;\\boldsymbol{w},b\\right)(1-\\sigma \\left(\\boldsymbol{x}_k;\\boldsymbol{w},b\\right))}\\right] \\dfrac{\\partial}{\\partial b}\\sigma \\left(\\boldsymbol{x}_k;\\boldsymbol{w},b\\right)\\\\\n",
    "    =&-\\sum_{k=1}^N \\left[\\dfrac{y_k-\\sigma \\left(\\boldsymbol{x}_k;\\boldsymbol{w},b\\right)}{\\sigma \\left(\\boldsymbol{x}_k;\\boldsymbol{w},b\\right)(1-\\sigma \\left(\\boldsymbol{x}_k;\\boldsymbol{w},b\\right))}\\right] \\dfrac{\\partial}{\\partial b}\\sigma \\left(\\boldsymbol{x}_k;\\boldsymbol{w},b\\right)\n",
    "\\end{align*}\n",
    "\n",
    "Para simplificar as contas, definimos $Z=\\boldsymbol{w}^T\\boldsymbol{x}_i+b$, tal que $\\dfrac{\\partial Z}{\\partial b}=1$.\n",
    "\n",
    "\\begin{align*}\n",
    "    \\sigma (\\boldsymbol{x}_k;\\boldsymbol{w},b)&=\\dfrac{1}{1+e^{-Z}}\\\\\n",
    "    \\dfrac{\\partial}{\\partial b}   \\sigma (\\boldsymbol{x}_k;\\boldsymbol{w},b)&=-\\left(\\dfrac{1}{1+e^{-Z}}\\right)^2\\left(-e^{-Z}\\right)(1)\\\\\n",
    "    &= \\sigma (\\boldsymbol{x}_k;\\boldsymbol{w},b)^2\\left(\\dfrac{1}{ \\sigma (\\boldsymbol{x}_k;\\boldsymbol{w},b)}-1\\right)\\\\\n",
    "    &= \\sigma (\\boldsymbol{x}_k;\\boldsymbol{w},b)\\left(1- \\sigma (\\boldsymbol{x}_k;\\boldsymbol{w},b)\\right)\n",
    "\\end{align*}\n",
    "\n",
    "Substituindo o resultado na expressão original e usando o resultado para obter as derivadas parciais dos pesos, temos:\n",
    "\n",
    "\\begin{align*}\n",
    "   \\dfrac{\\partial}{\\partial b}  l(\\boldsymbol{w},b)=&\\sum_{k=1}^N\\left[\\sigma \\left(\\boldsymbol{x}_k;\\boldsymbol{w},b\\right)- y_k\\right]\n",
    "\\end{align*}\n",
    "\n",
    "\n",
    "\\begin{align*}\n",
    "   \\dfrac{\\partial}{\\partial w_j}  l(\\boldsymbol{w},b)=&\\sum_{k=1}^N(\\boldsymbol{x}_k)_j\\left[\\sigma \\left(\\boldsymbol{x}_k;\\boldsymbol{w},b\\right)- y_k\\right]\n",
    "\\end{align*}\n",
    "\n",
    "\n",
    "Além disso, podemos majorar e inferiorizar os gradientes utilizando os dados do problema.\n",
    "\n",
    "\\begin{align*}\n",
    "   -N = N\\left[\\min\\left(\\sigma \\left(\\boldsymbol{x}_k;\\boldsymbol{w},b\\right)\\right)-\\max(y_k)\\right]\\leq \\sum_{k=1}^N\\left[\\sigma \\left(\\boldsymbol{x}_k;\\boldsymbol{w},b\\right)- y_k\\right] \\leq N\\left[\\max\\left(\\sigma \\left(\\boldsymbol{x}_k;\\boldsymbol{w},b\\right)\\right)-\\min(y_k)\\right] = N\n",
    "\\end{align*}\n",
    "\n",
    "\n",
    "\\begin{align*}\n",
    "   -N = N\\max((\\boldsymbol{x}_k)_j)\\left[\\min\\left(\\sigma \\left(\\boldsymbol{x}_k;\\boldsymbol{w},b\\right)\\right)-\\max(y_k)\\right]\\leq \\sum_{k=1}^N(\\boldsymbol{x}_k)_j\\left[\\sigma \\left(\\boldsymbol{x}_k;\\boldsymbol{w},b\\right)- y_k\\right] \\leq N\\max((\\boldsymbol{x}_k)_j)\\left[\\max\\left(\\sigma \\left(\\boldsymbol{x}_k;\\boldsymbol{w},b\\right)\\right)-\\min(y_k)\\right] = N\n",
    "\\end{align*}\n",
    "\n",
    "Onde para estabelecer as desigualdades, utilizamos que $y_k \\in \\{0,1\\}$, que a função sigmoide é limitada ($0\\leq \\sigma(\\boldsymbol{w},b)\\leq 1$) e que o valor máximo de cada feature é $1$ (pela normalização). Assim, o gradiente desta função objetiva é limitado."
   ]
  },
  {
   "cell_type": "markdown",
   "id": "59b2a8cc-82c1-417a-9f6f-9eabec1aff2d",
   "metadata": {},
   "source": [
    "### Hessiana"
   ]
  },
  {
   "cell_type": "markdown",
   "id": "9c42cbc8-7052-4063-9529-b870522ff68c",
   "metadata": {},
   "source": [
    "No cálculo do gradiente, vimos que:\n",
    "\n",
    "\\begin{align*}\n",
    "   \\dfrac{\\partial}{\\partial b}  l(\\boldsymbol{w},b)=&\\sum_{i=1}^N\\left[\\sigma \\left(\\boldsymbol{x}_i;\\boldsymbol{w},b\\right)- y_k\\right]\n",
    "\\end{align*}\n",
    "\n",
    "\n",
    "\\begin{align*}\n",
    "   \\dfrac{\\partial}{\\partial w_j}  l(\\boldsymbol{w},b)=&\\sum_{i=1}^N(\\boldsymbol{x}_i)_j\\left[\\sigma \\left(\\boldsymbol{x}_i;\\boldsymbol{w},b\\right)- y_i\\right]\n",
    "\\end{align*}\n",
    "\n",
    "Tomando a derivada segunda destas expressões, temos:\n",
    "\n",
    "\\begin{align*}\n",
    "   \\dfrac{\\partial^2}{\\partial b^2 }  l(\\boldsymbol{w},b)=&\\sum_{i=1}^N\\dfrac{\\partial}{\\partial b}\\sigma \\left(\\boldsymbol{x}_i;\\boldsymbol{w},b\\right)=\\sum_{i=1}^N\\sigma (\\boldsymbol{x}_i;\\boldsymbol{w},b)\\left(1- \\sigma (\\boldsymbol{x}_i;\\boldsymbol{w},b)\\right)\n",
    "\\end{align*}\n",
    "\n",
    "\\begin{align*}\n",
    "   \\dfrac{\\partial^2}{\\partial w_j\\partial b}  l(\\boldsymbol{w},b)=&\\sum_{i=1}^N\\dfrac{\\partial}{\\partial w_j}\\sigma \\left(\\boldsymbol{x}_i;\\boldsymbol{w},b\\right)=\\sum_{i=1}^N(\\boldsymbol{x}_i)_j\\sigma (\\boldsymbol{x}_i;\\boldsymbol{w},b)\\left(1- \\sigma (\\boldsymbol{x}_i;\\boldsymbol{w},b)\\right)\n",
    "\\end{align*}\n",
    "\n",
    "\\begin{align*}\n",
    "   \\dfrac{\\partial}{\\partial w_j\\partial w_k}  l(\\boldsymbol{w},b)=&\\sum_{i=1}^N(\\boldsymbol{x}_i)_j\\dfrac{\\partial}{\\partial w_k}\\sigma \\left(\\boldsymbol{x}_i;\\boldsymbol{w},b\\right)=\\sum_{i=1}^N(\\boldsymbol{x}_i)_j(\\boldsymbol{x}_i)_k\\sigma (\\boldsymbol{x}_i;\\boldsymbol{w},b)\\left(1- \\sigma (\\boldsymbol{x}_i;\\boldsymbol{w},b)\\right)\n",
    "\\end{align*}\n",
    "\n",
    "Se, por simplicidade, denominarmos o viés como um peso adicional relacionado a uma feature que só tem valor '$1$', então podemos reescrever todas as derivadas acima da seguinte forma:\n",
    "\n",
    "\n",
    "\\begin{align*}\n",
    "   H_{jk}(\\boldsymbol{w},b) \\coloneqq \\dfrac{\\partial}{\\partial w_j\\partial w_k}  l(\\boldsymbol{w},b)=\\sum_{i=1}^N(\\boldsymbol{x}_i\\boldsymbol{x}_i^T)_{jk}\\sigma (\\boldsymbol{x}_i;\\boldsymbol{w},b)\\left(1- \\sigma (\\boldsymbol{x}_i;\\boldsymbol{w},b)\\right)\n",
    "\\end{align*}\n",
    "\n",
    "\\begin{align*}\n",
    "   \\Rightarrow \\boldsymbol{H}(\\boldsymbol{w},b) \\coloneqq \\dfrac{\\partial}{\\partial w_j\\partial w_k}  l(\\boldsymbol{w},b)=\\sum_{i=1}^N(\\boldsymbol{x}_i\\boldsymbol{x}_i^T)\\sigma (\\boldsymbol{x}_i;\\boldsymbol{w},b)\\left(1- \\sigma (\\boldsymbol{x}_i;\\boldsymbol{w},b)\\right)\n",
    "\\end{align*}\n",
    "\n",
    "\n",
    "Consequentemente:\n",
    "\n",
    "\n",
    "\n",
    "\\begin{equation*}\n",
    "0 \\leq \\left\\|\\boldsymbol{H}\\right\\|\\leq \\dfrac{N}{4}\\left\\|\\lambda_{max}\\left(\\boldsymbol{x}_i\\boldsymbol{x}_i^T\\right)\\right\\|\n",
    "\\end{equation*}\n",
    "\n",
    "Onde a operação $\\lambda_{\\text{max}}(A)$ indica o maior autovalor de $A$. Novamente, como  $0\\leq \\sigma(\\boldsymbol{w},b)\\leq 1$, e o valor da Hessiana é máximo para $\\sigma(\\boldsymbol{w},b)=\\dfrac{1}{2}$, concluímos que a Hessiana será positiva semi-definida, e portanto que trata-se de uma função objetiva <b>convexa</b>. Além disso, também será $L$-suave, visto que o maior valor possível da Hessiana é limitado. \n"
   ]
  },
  {
   "cell_type": "markdown",
   "id": "6b168b01-b674-4d0c-a805-a2cc1cc74176",
   "metadata": {},
   "source": [
    "## 3.2. Implementação da Regressão Logística"
   ]
  },
  {
   "cell_type": "markdown",
   "id": "328f2d22-e72c-4afa-a196-2e2b1431f253",
   "metadata": {},
   "source": [
    "### Com Gradiente Descendente"
   ]
  },
  {
   "cell_type": "code",
   "execution_count": 39,
   "id": "97df87dd-4289-43ce-9ef7-0c8fddab290b",
   "metadata": {},
   "outputs": [],
   "source": [
    "class logistic_regression:\n",
    "    \n",
    "    def __init__(self, learn_rate = 0.1 ** 5, n_iter = 10 ** 2, tol = 4):\n",
    "        self.learn_rate = learn_rate;\n",
    "        self.n_iter = n_iter;\n",
    "        self.tol = tol;\n",
    "        self.weights = None;\n",
    "        self.bias = None;\n",
    "    \n",
    "    def sigmoid(self, x):\n",
    "        y = np.dot(self.weights, x)+ self.bias;\n",
    "        return 1 / (1 + np.exp(-y))\n",
    "    \n",
    "    def trainGD(self, X, y):\n",
    "\n",
    "        # Definições iniciais para treino\n",
    "        num_samples = len(X);\n",
    "        num_features = len(X[0]);\n",
    "        self.weights = [0 for x in range(num_features)];\n",
    "        self.bias = 0;\n",
    "        #reg_factor = 10 ** 2;\n",
    "\n",
    "        # Valores iniciais dos gradientes\n",
    "        grad_w = self.weights;\n",
    "        grad_b = self.bias;\n",
    "\n",
    "        # Descida do gradiente\n",
    "        i = 0;\n",
    "        while i < self.n_iter:\n",
    "            start1 = time.perf_counter()\n",
    "            # Monta o vetor com as sigmoides de cada datapoint de X\n",
    "            sig_X = [self.sigmoid(x) for x in X];\n",
    "            diff = [a-b for (a,b) in zip(sig_X,y)];\n",
    "\n",
    "            # Cálculo dos gradientes. Note que estamos usando o fato que os gradientes dos pesos serão proporcionais ao gradientes do bias, conforme\n",
    "            # as equações no cabeçalho da seção\n",
    "            grad_b = sum(diff);\n",
    "            grad_w_buff = [[scalar * u for u in x] for (scalar,x) in zip(diff,X)]\n",
    "            grad_w = [sum(x) for x in zip(*grad_w_buff)]\n",
    "\n",
    "            #Atualização dos pesos e do bias\n",
    "            self.weights = [(a-b*self.learn_rate) for (a,b) in zip(self.weights,grad_w)];\n",
    "            self.bias-=self.learn_rate*grad_b;\n",
    "            end1 = time.perf_counter()\n",
    "            print(end1-start1)\n",
    "            abs_grad = [abs(x) for x in grad_w];\n",
    "            print(i, grad_b/num_samples, sum(abs_grad)/784/num_samples)\n",
    "            i+=1;\n",
    "\n",
    "    def predictGD(self, test):\n",
    "        sig = [self.sigmoid(x) for x in test];\n",
    "        predictions = [1 if y >= 0.5 else 0 for y in sig]; \n",
    "        return predictions"
   ]
  },
  {
   "cell_type": "code",
   "execution_count": 40,
   "id": "afdec583-0b42-4fe9-a056-40aa53a0a973",
   "metadata": {
    "scrolled": true
   },
   "outputs": [
    {
     "name": "stdout",
     "output_type": "stream",
     "text": [
      "2.3900886999999784\n",
      "0 0.0 0.01483378166081252\n",
      "2.447802500000762\n",
      "1 0.028215379990385318 0.012531497810196073\n",
      "2.401962599999024\n",
      "2 0.038627961826194206 0.011439009919069397\n",
      "2.4695725000001403\n",
      "3 0.04203583682631111 0.01070612458134507\n",
      "2.4265751000002638\n",
      "4 0.04269977789824096 0.010100023481912445\n",
      "2.4984668000015517\n",
      "5 0.04230533232487758 0.009561940720564013\n",
      "2.532078599999295\n",
      "6 0.04152299708093157 0.009071292183646761\n",
      "2.614810999999463\n",
      "7 0.04061877241228471 0.008624365812824147\n",
      "2.4530278000002\n",
      "8 0.03969665348105749 0.008212028381657964\n",
      "2.4838620999998966\n",
      "9 0.03879574840764686 0.007830703925081164\n",
      "2.4277657000002364\n",
      "10 0.03792932791804244 0.007479354913141105\n",
      "2.4481221999994887\n",
      "11 0.037100547599846205 0.007154733777487422\n",
      "2.3376139999982115\n",
      "12 0.03630876484818213 0.0068535256390073835\n",
      "3.1506800999995903\n",
      "13 0.035552054229104894 0.006575742444079892\n",
      "2.36934520000068\n",
      "14 0.03482818577205335 0.006316875579530208\n",
      "2.4795659000010346\n",
      "15 0.03413498464052014 0.006075869018621209\n",
      "2.3351753000006283\n",
      "16 0.033470445495283274 0.005851235480100966\n",
      "2.4170095000008587\n",
      "17 0.032832753045168264 0.005642792210205499\n",
      "2.4343000000008033\n",
      "18 0.0322202696891253 0.005450191352693798\n",
      "2.534376699999484\n",
      "19 0.031631514131315784 0.005270359411141932\n",
      "2.423399600000266\n",
      "20 0.031065139803887688 0.005102440278285654\n",
      "2.461373000000094\n",
      "21 0.030519915921783256 0.004945298221247966\n",
      "2.7873190000009345\n",
      "22 0.029994711690280996 0.004797338552303899\n",
      "3.1793894999991608\n",
      "23 0.029488483384793044 0.0046571748786461455\n",
      "2.7275862999995297\n",
      "24 0.02900026381237288 0.004524331312859173\n",
      "2.473187000001417\n",
      "25 0.028529153671527946 0.004398627194343541\n",
      "2.537314700000934\n",
      "26 0.02807431440117063 0.00427993411830766\n",
      "2.8151863000002777\n",
      "27 0.027634962193478618 0.004167273991161709\n",
      "2.6666089999998803\n",
      "28 0.027210362919595065 0.00406084882248875\n",
      "2.7053041999988636\n",
      "29 0.02679982777680651 0.0039604153223748535\n",
      "3.511858100000609\n",
      "30 0.026402709511932996 0.0038654116542138073\n",
      "2.6991012999988016\n",
      "31 0.026018399110475342 0.0037753740291467416\n",
      "2.5508207000002585\n",
      "32 0.02564632286709721 0.003689511588952864\n",
      "2.451411399999415\n",
      "33 0.02528593977242653 0.00360756928990689\n",
      "2.39700350000021\n",
      "34 0.024936739165626595 0.00352952914536823\n",
      "2.4371086999999534\n",
      "35 0.024598238612999528 0.003454985999127152\n",
      "2.439967100001013\n",
      "36 0.02426998198102995 0.0033837342827768113\n",
      "2.4656568999998854\n",
      "37 0.023951537678425235 0.003315559532310165\n",
      "2.417455200000404\n",
      "38 0.023642497046415818 0.0032501488521510438\n",
      "2.703238100000817\n",
      "39 0.023342472880191138 0.003187867168861766\n",
      "2.441595000000234\n",
      "40 0.023051098067164096 0.0031280833887659862\n",
      "2.570668600001227\n",
      "41 0.02276802432996585 0.00307063126341608\n",
      "2.7278640999993513\n",
      "42 0.02249292106383244 0.0030153167945238123\n",
      "2.425848400000177\n",
      "43 0.02222547425945809 0.002961922472679577\n",
      "2.6089310000006662\n",
      "44 0.021965385503537348 0.0029103922118277567\n",
      "2.788926100000026\n",
      "45 0.021712371050167788 0.002860605949180815\n",
      "2.7069945000002917\n",
      "46 0.02146616095706954 0.0028126372292515823\n",
      "4.213228800001161\n",
      "47 0.021226498281243292 0.0027662865602101996\n",
      "3.038261000001512\n",
      "48 0.020993138329250746 0.0027216194557350207\n",
      "2.675994899998841\n",
      "49 0.020765847957786444 0.002678571322904984\n",
      "2.7221451999994315\n",
      "50 0.02054440492062712 0.002637103655989902\n",
      "2.552701499998875\n",
      "51 0.020328597258413284 0.002597168045341561\n",
      "3.027567999999519\n",
      "52 0.020118222728038197 0.00255865552315098\n",
      "2.6685077999991336\n",
      "53 0.019913088268703905 0.0025216044368800926\n",
      "2.580311800000345\n",
      "54 0.019713009501957708 0.0024858864551811056\n",
      "2.7126948999994056\n",
      "55 0.019517810263251154 0.002451313041889071\n",
      "2.6486659000001964\n",
      "56 0.019327322162762277 0.0024178344458280574\n",
      "2.784558500001367\n",
      "57 0.019141384173411692 0.002385247491950103\n",
      "2.514129999999568\n",
      "58 0.018959842244164457 0.0023536341168087457\n",
      "2.7015774000010424\n",
      "59 0.018782548936860613 0.002322835490835823\n",
      "2.4553006999994977\n",
      "60 0.018609363084958485 0.0022930447437432256\n",
      "2.4457741000005626\n",
      "61 0.018440149472692038 0.0022641153728050222\n",
      "2.39863669999977\n",
      "62 0.018274778533265444 0.0022360389890088675\n",
      "3.1549904000003153\n",
      "63 0.018113126064806886 0.002208948827386826\n",
      "2.9039308999999776\n",
      "64 0.017955072962899145 0.0021826851190692082\n",
      "2.518821300000127\n",
      "65 0.0178005049685953 0.0021573900540472605\n",
      "2.5438729999987117\n",
      "66 0.017649312430905128 0.0021329407742482626\n",
      "2.4843638999991526\n",
      "67 0.017501390082811975 0.0021091191542434965\n",
      "2.504631600000721\n",
      "68 0.01735663682994763 0.0020858927385079664\n",
      "2.3867356999999174\n",
      "69 0.01721495555111755 0.0020632310544652778\n",
      "2.4057612999986304\n",
      "70 0.01707625290992138 0.0020412785531640503\n",
      "2.5061010000008537\n",
      "71 0.01694043917677167 0.0020200914984982005\n",
      "3.0784241999990627\n",
      "72 0.016807428060660098 0.001999482469018004\n",
      "2.8341024999990623\n",
      "73 0.01667713655006555 0.001979311307846796\n",
      "2.4137574000014865\n",
      "74 0.01654948476244051 0.0019595471206758567\n",
      "2.7977289000009478\n",
      "75 0.016424395801752943 0.00194017729362377\n",
      "4.5278569999991305\n",
      "76 0.016301795623591506 0.0019212204227873203\n",
      "4.119806300001073\n",
      "77 0.016181612907380263 0.0019029793515144033\n",
      "2.48437869999907\n",
      "78 0.01606377893527667 0.0018852182704631095\n",
      "3.141108099998746\n",
      "79 0.015948227477355557 0.001867790874573783\n",
      "2.4823968000000605\n",
      "80 0.015834894682708503 0.0018508279934560965\n",
      "2.4228096999995614\n",
      "81 0.01572371897611152 0.0018343796061370337\n",
      "2.359040500001356\n",
      "82 0.0156146409599378 0.0018182609643302467\n",
      "2.488933699998597\n",
      "83 0.015507603321012158 0.0018024605770787464\n",
      "2.3958268000005774\n",
      "84 0.015402550742124141 0.0017869593818046622\n",
      "2.558257299999241\n",
      "85 0.015299429817933717 0.0017719029394578532\n",
      "2.5205897000014374\n",
      "86 0.015198188975021796 0.0017571480102960794\n",
      "2.482816499999899\n",
      "87 0.015098778395853212 0.0017426450045683335\n",
      "2.416639799999757\n",
      "88 0.015001149946432635 0.0017284308260042066\n",
      "2.4390280000006896\n",
      "89 0.014905257107449946 0.0017145291266551829\n",
      "2.3763751999995293\n",
      "90 0.014811054908722933 0.0017008542641358836\n",
      "2.548741799999334\n",
      "91 0.014718499866756609 0.001687400383718268\n",
      "2.432461399999738\n",
      "92 0.014627549925251304 0.0016741673064169828\n",
      "2.460006200000862\n",
      "93 0.0145381643983989 0.0016611447481491132\n",
      "2.4170477999996365\n",
      "94 0.01445030391681918 0.001648434759351044\n",
      "2.494984900000418\n",
      "95 0.014363930375996151 0.001635934349461975\n",
      "2.954233000000386\n",
      "96 0.01427900688708071 0.00162364115572704\n",
      "3.781645799999751\n",
      "97 0.014195497729937438 0.001611601602149632\n",
      "2.4388746000004176\n",
      "98 0.014113368308317225 0.0015997413962879495\n",
      "2.5021149999993213\n",
      "99 0.014032585107046453 0.0015880562955678218\n"
     ]
    }
   ],
   "source": [
    "# Simplificação da nomenclatura\n",
    "model = logistic_regression()\n",
    "\n",
    "# Treino do modelo\n",
    "start = time.perf_counter()\n",
    "model.trainGD(bin_X,bin_y)\n",
    "end = time.perf_counter()"
   ]
  },
  {
   "cell_type": "code",
   "execution_count": 41,
   "id": "6a43be9a-13ec-495d-b56a-cd6619e470ff",
   "metadata": {
    "scrolled": true
   },
   "outputs": [
    {
     "name": "stdout",
     "output_type": "stream",
     "text": [
      "Accuracy: 0.8938888888888888\n"
     ]
    }
   ],
   "source": [
    "# Lista de predições\n",
    "predictions = model.predictGD(bin_Xtest);\n",
    "\n",
    "# Comparação com classificações reais\n",
    "comparison = list();\n",
    "for i in range(len(bin_ytest)):\n",
    "    if bin_ytest[i] == predictions[i]:\n",
    "        comparison.append(1);\n",
    "    if bin_ytest[i] != predictions[i]:\n",
    "        comparison.append(0)\n",
    "\n",
    "# Cálculo da acurácia\n",
    "accuracy = np.sum(comparison)/len(bin_ytest)\n",
    "\n",
    "print(f\"Accuracy: {accuracy}\")"
   ]
  },
  {
   "cell_type": "markdown",
   "id": "f1de407c-e4c9-4122-ac2e-7894b00b8189",
   "metadata": {},
   "source": [
    "# 4. Implementação do Classificador Multinomial"
   ]
  },
  {
   "cell_type": "markdown",
   "id": "81075706-010c-4ef3-a6c5-69d9f5f5c1ca",
   "metadata": {},
   "source": [
    "Como havíamos mencionado, isto se trata de uma versão mais elaborada da regressão logística binária. Ou seja, agora temos $K$ classificações.\n",
    "\n",
    "\\begin{align*}\n",
    "   p(y_i|\\boldsymbol{x}_i;\\boldsymbol{W},\\boldsymbol{b})=  \\begin{cases}\n",
    "      \\sigma \\left(\\boldsymbol{w}_1^T\\boldsymbol{x}_i+b_1\\right),& \\text{se } y_i =1\\\\\n",
    "       \\sigma\\left(\\boldsymbol{w}_2^T\\boldsymbol{x}_i+b_2\\right), &\\text{se }y_i=2\\\\\n",
    "     &  \\vdots\\\\\n",
    "        \\sigma\\left(\\boldsymbol{w}_K^T\\boldsymbol{x}_i+b_K\\right), &\\text{se }y_i=K\n",
    "    \\end{cases}\n",
    "\\end{align*}\n",
    "\\begin{align*}\n",
    "     \\sigma \\left(\\boldsymbol{w}_j^T\\boldsymbol{x}_i+b_j\\right)=\\dfrac{e^{\\boldsymbol{w}_j^T\\boldsymbol{x}_i+b_j}}{\\sum_{j=1}^{K}e^{\\boldsymbol{w}_j^T\\boldsymbol{x}_i+b_j}}\n",
    "\\end{align*}\n",
    "\n",
    "Onde $\\boldsymbol{w}_j$ e  $b$ são o conjunto de pesos e viés a serem treinados para otimizar a $j$-ésima classificação, respectivamente. Para representar a probabilidade duma forma semelhante à regressão binária, definimos a função indicadora $\\Delta (x)=\\begin{cases}\n",
    "    1, \\;  x = 0\\\\\n",
    "    0,  \\;  x \\neq 0\n",
    "\\end{cases}$, tal que:\n",
    "\n",
    "\\begin{align*}\n",
    "       p(y_i|\\boldsymbol{x}_i;\\boldsymbol{W},\\boldsymbol{b})=\\prod_{k=1}^K \\sigma \\left(\\boldsymbol{w}_k^T\\boldsymbol{x}_i+b_k\\right)^{\\Delta (y_i-k)}\n",
    "\\end{align*}\n",
    "\n",
    "E, portanto:\n",
    "\n",
    "\\begin{align*}\n",
    "    l(\\boldsymbol{W},\\boldsymbol{b})=&-\\sum_{i=1}^N\\sum_{k=1}^K \\Delta (y_i-k)\\log \\left(\\sigma \\left(\\boldsymbol{w}_k^T\\boldsymbol{x}_i+b_k\\right)\\right)\\\\\n",
    "    =&\\sum_{i=1}^N\\sum_{k=1}^K \\Delta (y_i-k)l(\\boldsymbol{w}_k,b_k)\n",
    "\\end{align*}\n",
    "\n",
    "A consequência da relação acima é que a função objetiva total será minimizada precisamente quando minimizarmos cada uma das funções objetivas respectivas a cada classificação, que por sua vez se reduzirão exatamente ao caso estudado na regressão logística binária. Ou seja, a função objetivo $l(\\boldsymbol{W},\\boldsymbol{b})$ é convexa e $L$-suave."
   ]
  },
  {
   "cell_type": "markdown",
   "id": "1fdbd54a-6b62-4207-b188-c81590edf18f",
   "metadata": {},
   "source": [
    "## 4.1. Redefinição dos Dados"
   ]
  },
  {
   "cell_type": "markdown",
   "id": "1f90fe1e-619c-424e-a7ea-227a70cefe24",
   "metadata": {},
   "source": [
    "O algoritmo tem dado problema devido ao enorme tamanho dos dados, tendo chegado a travar o computador e fechar o browser. Por conta disso, vou criar uma base de dados com $1200$ dados de cada dígito, separando $800$ de cada dígito para treino e $400$ para teste. "
   ]
  },
  {
   "cell_type": "code",
   "execution_count": 174,
   "id": "93db7297-1e77-45a7-ac0f-521a0a7293a8",
   "metadata": {},
   "outputs": [
    {
     "name": "stdout",
     "output_type": "stream",
     "text": [
      "8000 8000\n",
      "4000 4000\n",
      "0.030800500000623288\n"
     ]
    }
   ],
   "source": [
    "# Reconstrução dos dados de treino\n",
    "# Matriz identidade de tamanho variável. Suas colunas tem precisamente o formato necessário para os targets da regressão multinomial\n",
    "def indicator(size):\n",
    "    return [[1 if i == j else 0 for j in range(size)] for i in range(size)]\n",
    "Y_bool = indicator(10);\n",
    "\n",
    "# Tamanho dos dados\n",
    "nom_size = 1200;\n",
    "nom_train_size = 800;\n",
    "nom_test_size = 400;\n",
    "\n",
    "# Criação de tuplas (dígito, target) para todos os dados, e embaralho cada lista de dígitos.\n",
    "nom_tuples = [[(x,v) for x in u] for (u,v) in zip(data_digits_h ,Y_bool)];\n",
    "nom_tuples = [shuffle(a) for a in nom_tuples]\n",
    "\n",
    "# Criação de dados de treino e teste para cada dígito\n",
    "start = time.perf_counter();\n",
    "nested_X_tuples = [x[:nom_train_size] for x in nom_tuples];\n",
    "nom_X_tuples = [inner for outer in nested_X_tuples for inner in outer];\n",
    "nom_X_tuples = shuffle(nom_X_tuples);\n",
    "nom_X = [x[0] for x in nom_X_tuples];\n",
    "nom_y = [x[1] for x in nom_X_tuples];\n",
    "\n",
    "nested_Xtest_tuples = [x[-nom_test_size:] for x in nom_tuples];\n",
    "nom_Xtest_tuples = [inner for outer in nested_Xtest_tuples for inner in outer];\n",
    "nom_Xtest_tuples = shuffle(nom_Xtest_tuples);\n",
    "nom_Xtest = [x[0] for x in nom_Xtest_tuples];\n",
    "nom_ytest = [x[1] for x in nom_Xtest_tuples];\n",
    "end = time.perf_counter();\n",
    "\n",
    "print(len(nom_X),len(nom_y))\n",
    "print(len(nom_Xtest),len(nom_ytest))\n",
    "print(end-start)"
   ]
  },
  {
   "cell_type": "markdown",
   "id": "6e0ee2c5-15a4-4c49-9277-0c5e91c74f19",
   "metadata": {},
   "source": [
    "## 4.2. Implementação da Regressão Logística Multinomial, com GD e SGD"
   ]
  },
  {
   "cell_type": "markdown",
   "id": "3acd00ef-f246-49c4-93d9-2bc612c1ab74",
   "metadata": {},
   "source": [
    "A rotina encontrada abaixo é o resultado final de bastantes tentativas heurísticas. O que quero dizer com isso é que a rotina abaixo difere do que esperaríamos de um $\\text{GD}$ e $\\text{SGD}$ convencional por conta de duas adições:\n",
    "\n",
    "1. <b>Amplificação da taxa de aprendizado em direções 'ruins' </b>: A partir da implementação convencional, notamos que a variação da função objetivo estagnava rapidamente, e a acurácia de dígitos específicos ficava muito ruim. Isto é, o algoritmo acertava com $\\geq 85\\%$ probabilidade a classificação de praticamente todos os dígitos, mas para algum dígito (e.g., $8$) era $\\sim 20\\%$. Por este motivo, incluímos uma sub-rotina que procura o pior classificador de dígito (pior estimativa pela função $\\text{softmax}$) e amplifica o passo do gradiente para os pesos referentes a este classificador. Isso melhorou muito a convergência. Provavelmente ajudou a rotina a 'escapar' de uma região de gradiente baixo que não correspondia a um mínimo da função objetivo.\n",
    "2. <b>Atenuação condicional da taxa de aprendizado</b>: Outra observação que foi feita sobre a implementação convencional era que a taxa de convergência do algoritmo se demonstrava constante para determinados intervalos. Isto é, inicialmente a queda da função objetivo por iteração era aproximadamente constante. A partir de certo ponto (em torno da iteração $5$ para várias realizações), a função objetivo aumentava. Por conta da existência destes 'intervalos' de convergência constante, decidimos não atenuar completamente a taxa de aprendizado por iteração e somente se o passo seguinte aumentar a função objetivo. Assim, a rotina fica presa num loop onde atenua a taxa de aprendizado por um fator de $0.9$ até a função objetivo reduzir no próximo passo (claro, se isso não ocorrer para $100$ tentativas de redução do aprendizado, o loop é encerrado e a rotina como um todo encerra).\n",
    "\n",
    "Em cada iteração, a rotina publica $3$ paradas, referentes a diferentes sub-rotinas. Inicialmente, incluí este passo para entender em que parte o algoritmos estava estagnando, mas acabei achando melhor deixar. Além disso, o algoritmo também publica a norma de Manhattan do gradiente do bias e dos pesos (divididos pelo número de amostras e pelo número de features) lado-a-lado e, por fim, o valor atual da função objetivo, a qual chamamos de 'perda' ou 'loss' conforme implementações usuais de regressão logística.\n",
    "\n",
    "Por conta dos algoritmos levarem um certo tempo para serem concluídos, deixei a chamada do treino e das predições comentados."
   ]
  },
  {
   "cell_type": "code",
   "execution_count": 377,
   "id": "113b0a9f-ed1a-4143-9128-6ac670a3b9ba",
   "metadata": {},
   "outputs": [],
   "source": [
    "# Do que consigo entender, uma 'classe' é um objeto que possui várias propriedades. Para algoritmos complexos de otimização,\n",
    "# entendo que é muito conveniente utilizar este tipo de objeto\n",
    "class mult_logistic_regression:\n",
    "\n",
    "    # Valor inicial das propriedades, caso não sejam especificadas\n",
    "    def __init__(self, learn_rate = 0.008, n_iter = 10, tol = 4):\n",
    "        self.learn_rate = learn_rate;\n",
    "        self.n_iter = n_iter;\n",
    "        self.tol = tol;\n",
    "        self.total_time = 0;\n",
    "        self.loss_values = [];\n",
    "        self.weight_list = [];\n",
    "        self.bias_list = [];\n",
    "        num_samples = 1200;\n",
    "        num_features = 784;\n",
    "        self.batch = None;\n",
    "        \n",
    "        # Os pesos agora serão divididos em 10 classes, uma para cada elemento do softmax. Além disso, serão gerados aleatoriamente \n",
    "        # com valores condtidos no intervalo abaixo\n",
    "        lower_bound = -0.1**6\n",
    "        upper_bound = 0.1**6\n",
    "        \n",
    "        # Inicializa os pesos e bias com valores aleatórios pequenos\n",
    "        self.weights = [np.random.uniform(lower_bound, upper_bound, num_features) for _ in range(10)]\n",
    "        self.bias = np.random.uniform(lower_bound, upper_bound, 10);\n",
    "        self.weight_list.append(self.weights);\n",
    "        self.bias_list.append(self.bias);\n",
    "        \n",
    "        \n",
    "    def loss(self, X,y):\n",
    "\n",
    "        # Computa, para cada datapoint, as probabilidades de ser cada dígito e armazena os valores\n",
    "        probabilities = [self.softmax(x) for x in X]; \n",
    "    \n",
    "        # Computa o logaritmo de cada resultado e multiplica pelo target\n",
    "        loss_log = [[u*math.log(v+1e-12) for (u,v) in zip(a,b)] for (a,b) in zip(y, probabilities)]\n",
    "\n",
    "        # Soma todas as entradas acima, resultando na função perda total\n",
    "        loss_buff = [sum(y) for y in loss_log];\n",
    "        loss = -sum(loss_buff);\n",
    "        return loss;\n",
    "\n",
    "    def softmax(self, x):\n",
    "        #start = time.perf_counter()\n",
    "        y = [np.dot(u,x)+v for (u,v) in zip(self.weights,self.bias)];\n",
    "        z = [math.exp(w) for w in y];\n",
    "        norm = sum(z);\n",
    "        softmax = [q/norm for q in z];\n",
    "        #end = time.perf_counter()\n",
    "        #print(end-start)\n",
    "        return softmax\n",
    "\n",
    "    def softmaxSGD(self, x, batch_list):\n",
    "        #start = time.perf_counter()\n",
    "        \n",
    "        # Seleciona os parâmetros a serem mudados\n",
    "        W_buff = np.array(self.weights)\n",
    "        W =W_buff[:,batch_list];\n",
    "\n",
    "        # Rotina softmax usual\n",
    "        y = [np.dot(u,x)+v for (u,v) in zip(W,self.bias)];\n",
    "        z = [math.exp(w) for w in y];\n",
    "        norm = sum(z);\n",
    "        softmax = [q/norm for q in z];\n",
    "        #end = time.perf_counter()\n",
    "        #print(end-start)\n",
    "        return softmax\n",
    "        \n",
    "    def trainGD(self, X, y):\n",
    "\n",
    "        # Definições iniciais para treino\n",
    "        num_samples = len(X);\n",
    "        num_features = len(X[0]);\n",
    "        w_buff = [0 for x in range(num_features)]\n",
    "        self.loss_values.append(self.loss(X,y));\n",
    "        \n",
    "        # Gera gradientes com as mesmas dimensões da matriz de pesos e o vetor de bias\n",
    "        grad_w = self.weights;\n",
    "        grad_b = self.bias;\n",
    "\n",
    "        # Descida do gradiente\n",
    "        i = 0;\n",
    "        j = 0;\n",
    "        while i < self.n_iter:\n",
    "\n",
    "            start1 = time.perf_counter()\n",
    "            # Cálculo da softmax\n",
    "            softmax_X = [self.softmax(x) for x in X];\n",
    "            diff = [[a-b for (a,b) in zip(u,v)]  for (u,v) in zip(softmax_X, y)];\n",
    "            end1 = time.perf_counter()\n",
    "            print('First stop:',end1-start1)\n",
    "            \n",
    "            # Cálculo dos gradientes. Note que estamos usando o fato que os gradientes dos pesos serão proporcionais ao gradientes do bias, conforme\n",
    "            # as equações no cabeçalho da seção\n",
    "\n",
    "            # Agora o gradiente de b terá 10 entradas\n",
    "            grad_b = [sum(a) for a in diff];\n",
    "\n",
    "            start2 = time.perf_counter()\n",
    "            # Agora temos 10 vetores pesos, de dimensão igual ao número de features\n",
    "            grad_w_buff = [[[scalar * u for u in x] for (scalar,x) in zip(v,X)] for v in diff];\n",
    "            grad_w = [[sum(x) for x in zip(*z)]for z in grad_w_buff];\n",
    "            grad_w = [np.array(grad) for grad in grad_w]\n",
    "\n",
    "            # Amplifica gradiente para o dígito de menor probabilidade de estar correto\n",
    "            probs = np.mean(softmax_X, axis=0);\n",
    "            k = np.argmin(probs)\n",
    "            grad_w[k] *= 100.0;\n",
    "            end2 = time.perf_counter()\n",
    "            print('Second stop:',end2-start2)\n",
    "\n",
    "            start3 = time.perf_counter()\n",
    "            #Novos valores dos pesos e do bias\n",
    "            weights_old = self.weights;\n",
    "            bias_old = self.bias;\n",
    "            loss_old = self.loss(X,y);\n",
    "            self.weights = [[(a-b*self.learn_rate) for (a,b) in zip(c,d)] for (c,d) in zip(self.weights,grad_w)];\n",
    "            self.bias = [(a-b*self.learn_rate) for (a,b) in zip(self.bias,grad_b)];\n",
    "            loss_new = self.loss(X,y);\n",
    "\n",
    "            # Compara perda antiga com a nova, reduz o learning rate até conseguir vencer o valor antigo\n",
    "            # Não repete mais do que 100 vezes\n",
    "            j = 0;\n",
    "            while loss_new > loss_old:\n",
    "                self.bias = bias_old;\n",
    "                self.weights = weights_old;\n",
    "                self.learn_rate *= 0.9;\n",
    "                self.weights = [[(a-b*self.learn_rate) for (a,b) in zip(c,d)] for (c,d) in zip(self.weights,grad_w)];\n",
    "                self.bias = [(a-b*self.learn_rate) for (a,b) in zip(self.bias,grad_b)];\n",
    "                loss_new = self.loss(X,y);\n",
    "                j+=1;\n",
    "                if j == 100 or abs(loss_new - loss_old) < 0.1:\n",
    "                    self.bias = bias_old;\n",
    "                    self.weights = weights_old;\n",
    "                    i = self.n_iter;\n",
    "                    break;\n",
    "            \n",
    "            # Publica os valores atualizados\n",
    "            abs_grad_b = [abs(a) for a in grad_b];\n",
    "            abs_grad_w = [sum([abs(a) for a in b]) for b in grad_w];\n",
    "            sum_grad_w = sum(abs_grad_w)\n",
    "            end3 = time.perf_counter()\n",
    "            print('Third stop:',end3-start3)\n",
    "            print(i, 'Gradients (b,w): ',sum(abs_grad_b)/num_samples,',',sum_grad_w/num_samples/784,'Loss: ', self.loss(X,y));\n",
    "\n",
    "            # Armazena os valores da função perda, pesos e bias\n",
    "            self.loss_values.append(self.loss(X,y));            \n",
    "            self.weight_list.append(self.weights);\n",
    "            self.bias_list.append(self.bias);\n",
    "            i+=1;\n",
    "            \n",
    "            self.total_time+=end3-start1;\n",
    "\n",
    "    def trainSGD(self, X, y, batch):\n",
    "\n",
    "        # Definições iniciais para treino\n",
    "        num_samples = len(X);\n",
    "        num_features = len(X[0]);\n",
    "        self.batch = batch;\n",
    "        batch_size = self.batch;\n",
    "        w_buff = [0 for x in range(num_features)]\n",
    "        gamma = 1.7; # Fator de amplificação\n",
    "        \n",
    "\n",
    "        # Gera gradientes com as mesmas dimensões da matriz de pesos e o vetor de bias\n",
    "        grad_w = self.weights;\n",
    "        grad_b = self.bias;\n",
    "        var_loss = 0.5;\n",
    "\n",
    "        # Descida do gradiente estocástico\n",
    "        i = 0;\n",
    "        while i < self.n_iter and abs(var_loss) > 0.1 ** 3:\n",
    "            start1 = time.perf_counter()\n",
    "            \n",
    "            # No SGD, iremos selecionar um 'batch' de features, as quais são selecionadaas aleatoriamente\n",
    "            batch_list = np.random.choice(num_features, size=batch_size, replace=False)\n",
    "            X_buff = np.array(X);\n",
    "            X_red= X_buff[: , batch_list];\n",
    "            \n",
    "            # Cálculo da softmax\n",
    "            softmax_X = [self.softmaxSGD(x, batch_list) for x in X_red];\n",
    "            diff = [[a-b for (a,b) in zip(u,v)]  for (u,v) in zip(softmax_X, y)];\n",
    "            end1 = time.perf_counter()\n",
    "            print('First stop:',end1-start1)\n",
    "            \n",
    "            # Cálculo dos gradientes. Note que estamos usando o fato que os gradientes dos pesos serão proporcionais ao gradientes do bias, conforme\n",
    "            # as equações no cabeçalho da seção\n",
    "\n",
    "            # Agora o gradiente de b terá 10 entradas\n",
    "            grad_b = [sum(a)/num_samples for a in diff];\n",
    "\n",
    "            start2 = time.perf_counter()\n",
    "            # Agora temos 10 vetores pesos, de dimensão igual ao número de features\n",
    "            grad_w_buff = [[[scalar * u for u in x] for (scalar,x) in zip(v,X)] for v in diff];\n",
    "            grad_w = [[sum(x)/num_samples for x in zip(*z)]for z in grad_w_buff];\n",
    "\n",
    "            softmax_buff = [self.softmax(x) for x in X];\n",
    "            probs = np.mean(softmax_buff, axis=0);\n",
    "            k = np.argmin(probs)\n",
    "            grad_w[k] = [a*1000.0 for a in grad_w[k]];\n",
    "            end2 = time.perf_counter()\n",
    "            print('Second stop:',end2-start2)\n",
    "\n",
    "            start3 = time.perf_counter()\n",
    "            #Novos valores dos pesos e do bias\n",
    "            weights_old = self.weights;\n",
    "            bias_old = self.bias;\n",
    "            loss_old = self.loss(X,y);\n",
    "            self.weights = [[(a-b*gamma*self.learn_rate) for (a,b) in zip(c,d)] for (c,d) in zip(self.weights,grad_w)];\n",
    "            self.bias = [(a-b*gamma*self.learn_rate) for (a,b) in zip(self.bias,grad_b)];\n",
    "            loss_new = self.loss(X,y);\n",
    "            j = 0;\n",
    "            while loss_new > loss_old:\n",
    "                self.bias = bias_old;\n",
    "                self.weights = weights_old;\n",
    "                self.learn_rate *= 0.9;\n",
    "                self.weights = [[(a-b*gamma*self.learn_rate) for (a,b) in zip(c,d)] for (c,d) in zip(self.weights,grad_w)];\n",
    "                self.bias = [(a-b*gamma*self.learn_rate) for (a,b) in zip(self.bias,grad_b)];\n",
    "                loss_new = self.loss(X,y);\n",
    "                j+=1;\n",
    "                if j == 100 or abs(loss_new - loss_old) < 0.1:\n",
    "                    self.bias = bias_old;\n",
    "                    self.weights = weights_old;\n",
    "                    i = self.n_iter;\n",
    "                    break;\n",
    "            #j = 0;\n",
    "            \n",
    "            # Publica os valores atualizados\n",
    "            abs_grad_b = [abs(a) for a in grad_b];\n",
    "            abs_grad_w = [sum([abs(a) for a in b]) for b in grad_w];\n",
    "            sum_grad_w = sum(abs_grad_w)\n",
    "            end3 = time.perf_counter()\n",
    "            print('Third stop:',end3-start3)\n",
    "            print(i, 'Gradients (b,w): ',sum(abs_grad_b)/num_samples,',',sum_grad_w/num_samples/784,'Loss: ', self.loss(X,y));\n",
    "        \n",
    "            # Armazena os valores da função perda, pesos e bias\n",
    "            self.loss_values.append(self.loss(X,y));            \n",
    "            self.weight_list.append(self.weights);\n",
    "            self.bias_list.append(self.bias);\n",
    "            i+=1;\n",
    "            \n",
    "            self.total_time+=end3-start1;\n",
    "\n",
    "    def predict(self, test):\n",
    "        softmax_outputs = [self.softmax(x) for x in test];\n",
    "        softmax_buff = np.array(softmax_outputs);\n",
    "        predictions = []\n",
    "        for z in softmax_buff:\n",
    "            one_hot = np.zeros_like(z)  # Create a zero-filled array of the same shape as z\n",
    "            one_hot[np.argmax(z)] = 1  # Set the maximum index position to 1\n",
    "            predictions.append(one_hot)  # Append the one-hot encoded vector to predictions\n",
    "        print(self.total_time)\n",
    "        return predictions"
   ]
  },
  {
   "cell_type": "markdown",
   "id": "d76730b7-0bc5-4b23-8841-05ee63f07fc0",
   "metadata": {},
   "source": [
    "## 4.1. Treino com GD"
   ]
  },
  {
   "cell_type": "markdown",
   "id": "9eb7c990-7775-4aa2-a4bd-3f2505ef7895",
   "metadata": {},
   "source": [
    "#### 10 primeiras iterações"
   ]
  },
  {
   "cell_type": "code",
   "execution_count": 362,
   "id": "6bf70e63-130d-490f-8bfc-f67343af277c",
   "metadata": {
    "scrolled": true
   },
   "outputs": [
    {
     "name": "stdout",
     "output_type": "stream",
     "text": [
      "First stop: 3.909697999995842\n",
      "Second stop: 14.235068200003298\n",
      "Third stop: 13.669423500003177\n",
      "0 Gradients (b,w):  1.0054283794413977e-16 , 0.1337721687879052 Loss:  18285.705320958456\n",
      "First stop: 7.50225070000306\n",
      "Second stop: 14.889394799996808\n",
      "Third stop: 17.44378400000278\n",
      "1 Gradients (b,w):  9.336628692402372e-17 , 0.13354717737206487 Loss:  18164.059406763463\n",
      "First stop: 7.537328499995056\n",
      "Second stop: 13.792387499997858\n",
      "Third stop: 16.221576500000083\n",
      "2 Gradients (b,w):  9.639337938960324e-17 , 0.1333260979801613 Loss:  18055.248816046023\n",
      "First stop: 7.4969292000023415\n",
      "Second stop: 13.975660299998708\n",
      "Third stop: 16.110862499997893\n",
      "3 Gradients (b,w):  9.649052390425794e-17 , 0.13310885035705994 Loss:  17958.671148808076\n",
      "First stop: 7.760766699997475\n",
      "Second stop: 13.95739599999797\n",
      "Third stop: 16.47091090000322\n",
      "4 Gradients (b,w):  9.586081928247836e-17 , 0.13289745581864182 Loss:  17873.53945453086\n",
      "First stop: 7.545863499995903\n",
      "Second stop: 14.902485900005559\n",
      "Third stop: 16.96764119999716\n",
      "5 Gradients (b,w):  9.649225862773392e-17 , 0.13269468416522412 Loss:  17798.875797275905\n",
      "First stop: 7.518261400000483\n",
      "Second stop: 13.225521899999876\n",
      "Third stop: 19.320825999995577\n",
      "6 Gradients (b,w):  9.734747730139048e-17 , 0.1325030453843516 Loss:  17733.574023377747\n",
      "First stop: 7.505933400003414\n",
      "Second stop: 13.695818899999722\n",
      "Third stop: 17.175027100005536\n",
      "7 Gradients (b,w):  9.767013586792217e-17 , 0.1323242233762906 Loss:  17676.49614600118\n",
      "First stop: 7.980153500000597\n",
      "Second stop: 13.723142000002554\n",
      "Third stop: 19.853947399999015\n",
      "8 Gradients (b,w):  9.619562091334189e-17 , 0.1321590247606461 Loss:  17626.560711591028\n",
      "First stop: 7.5654020000001765\n",
      "Second stop: 13.675256000002264\n",
      "Third stop: 18.466559899999993\n",
      "9 Gradients (b,w):  9.687042834549686e-17 , 0.1320076336780536 Loss:  17582.799741855124\n"
     ]
    }
   ],
   "source": [
    "# Simplificação da nomenclatura\n",
    "mult = mult_logistic_regression()\n",
    "mult.learn_rate = 0.001\n",
    "\n",
    "# Treino utilizando GD\n",
    "start = time.perf_counter()\n",
    "#mult.trainGD(nom_X,nom_y)\n",
    "end = time.perf_counter()"
   ]
  },
  {
   "cell_type": "code",
   "execution_count": 363,
   "id": "f02581b3-ba47-4731-9d8a-f50d87823e49",
   "metadata": {},
   "outputs": [
    {
     "name": "stdout",
     "output_type": "stream",
     "text": [
      "384.14818319999904\n",
      "Accuracy: [0.70975 0.8855  0.581   0.8775  0.75075 0.9     0.89125 0.9035  0.88775\n",
      " 0.9    ]\n"
     ]
    }
   ],
   "source": [
    "# Lista de predições\n",
    "#predictions = mult.predict(nom_Xtest);\n",
    "\n",
    "correct = sum([t == p for t, p in zip(nom_ytest, predictions)])\n",
    "accuracy = correct / len(predictions)\n",
    "\n",
    "#print(f\"Accuracy: {accuracy}\")"
   ]
  },
  {
   "cell_type": "markdown",
   "id": "9528f604-1bcd-4c77-9d5d-e7cbd1982f48",
   "metadata": {},
   "source": [
    "#### Objetiva por iterações"
   ]
  },
  {
   "cell_type": "code",
   "execution_count": 364,
   "id": "3ca6d0ce-2e04-49b9-ac07-22a6df51bb24",
   "metadata": {},
   "outputs": [
    {
     "data": {
      "image/png": "[encoded data removed]",
      "text/plain": [
       "<Figure size 432x288 with 1 Axes>"
      ]
     },
     "metadata": {
      "needs_background": "light"
     },
     "output_type": "display_data"
    }
   ],
   "source": [
    "x_val = range(1, len(mult.loss_values)+1);\n",
    "y_val = mult.loss_values;\n",
    "\n",
    "#plt.plot(x_val,y_val)\n",
    "plt.plot(x_val,y_val,'or')\n",
    "plt.xlabel('Iterações')\n",
    "plt.ylabel('Objetiva')\n",
    "plt.show()"
   ]
  },
  {
   "cell_type": "code",
   "execution_count": 365,
   "id": "888a6f3e-1258-4038-95ec-d54412196234",
   "metadata": {},
   "outputs": [
    {
     "name": "stdout",
     "output_type": "stream",
     "text": [
      "10\n"
     ]
    }
   ],
   "source": [
    "k = np.argmin(mult.loss_values)\n",
    "print(k)"
   ]
  },
  {
   "cell_type": "code",
   "execution_count": 366,
   "id": "e90ec7b5-1e13-41e5-bf8c-54660b5f2193",
   "metadata": {},
   "outputs": [],
   "source": [
    "#optimal_weightsGD = mult.weight_list[k];\n",
    "#optimal_biasGD = mult.bias_list[k];"
   ]
  },
  {
   "cell_type": "markdown",
   "id": "e6ab24cb-7d4c-4e95-a0df-21fe42f807f2",
   "metadata": {},
   "source": [
    "#### Treino até a convergência"
   ]
  },
  {
   "cell_type": "code",
   "execution_count": 375,
   "id": "44417776-87eb-492a-891d-e0949938746a",
   "metadata": {},
   "outputs": [
    {
     "name": "stdout",
     "output_type": "stream",
     "text": [
      "First stop: 4.745308899997326\n",
      "Second stop: 16.428427899998496\n",
      "Third stop: 15.402171699999599\n",
      "0 Gradients (b,w):  1.0068161582221791e-16 , 0.13521243541396938 Loss:  17582.126904063698\n",
      "First stop: 9.567182799997681\n",
      "Second stop: 20.952126999996835\n",
      "Third stop: 27.17558939999435\n",
      "1 Gradients (b,w):  9.711762644082355e-17 , 0.13162883193927424 Loss:  17452.49120211064\n",
      "First stop: 11.192668000003323\n",
      "Second stop: 20.367903799997293\n",
      "Third stop: 23.02691600000253\n",
      "2 Gradients (b,w):  9.663602383580549e-17 , 0.13081893814125417 Loss:  17385.401471009947\n",
      "First stop: 10.03646199999639\n",
      "Second stop: 22.949639600003138\n",
      "Third stop: 22.148543200004497\n",
      "3 Gradients (b,w):  9.89987172100859e-17 , 0.13043848001349662 Loss:  17336.872445004243\n",
      "First stop: 9.297964900004445\n",
      "Second stop: 20.77465680000023\n",
      "Third stop: 23.632136599997466\n",
      "4 Gradients (b,w):  9.687162096788659e-17 , 0.1301854772562005 Loss:  17297.863743157144\n",
      "First stop: 11.541978000001109\n",
      "Second stop: 22.900284600000305\n",
      "Third stop: 25.424571000003198\n",
      "5 Gradients (b,w):  9.651264162857665e-17 , 0.12999561904989104 Loss:  17264.914566791518\n",
      "First stop: 10.039715300001262\n",
      "Second stop: 22.400413000003027\n",
      "Third stop: 23.092400699999416\n",
      "6 Gradients (b,w):  9.829561210122905e-17 , 0.1298438747046921 Loss:  17236.335091276596\n",
      "First stop: 10.670003899998846\n",
      "Second stop: 22.666871200002788\n",
      "Third stop: 24.74593409999943\n",
      "7 Gradients (b,w):  9.66838371516121e-17 , 0.1297179824301369 Loss:  17211.176422481843\n",
      "First stop: 11.386973900000157\n",
      "Second stop: 21.061393500000122\n",
      "Third stop: 22.71443939999881\n",
      "8 Gradients (b,w):  9.720403735397065e-17 , 0.12961106664700062 Loss:  17188.853896745644\n",
      "First stop: 10.239080400002422\n",
      "Second stop: 20.327362899995933\n",
      "Third stop: 25.84415479999734\n",
      "9 Gradients (b,w):  9.604957888070808e-17 , 0.1295188351767906 Loss:  17168.98233989392\n",
      "First stop: 10.535728000002564\n",
      "Second stop: 20.18305820000387\n",
      "Third stop: 24.37595120000333\n",
      "10 Gradients (b,w):  9.747351580394192e-17 , 0.12943838550822567 Loss:  17151.29474026023\n",
      "First stop: 10.5298358\n",
      "Second stop: 22.417453800000658\n",
      "Third stop: 23.24672969999665\n",
      "11 Gradients (b,w):  9.478225496128978e-17 , 0.1293677022829082 Loss:  17135.59838768292\n",
      "First stop: 10.839435499998217\n",
      "Second stop: 20.506197700000484\n",
      "Third stop: 23.13174589999835\n",
      "12 Gradients (b,w):  9.63039869204818e-17 , 0.12930531887291055 Loss:  17121.74956063862\n",
      "First stop: 11.62878279999859\n",
      "Second stop: 21.31046640000568\n",
      "Third stop: 24.118392100004712\n",
      "13 Gradients (b,w):  9.683839017129992e-17 , 0.12925014571304252 Loss:  17109.63811220205\n",
      "First stop: 10.782159999995201\n",
      "Second stop: 19.434977299999446\n",
      "Third stop: 682.8736202\n",
      "50 Gradients (b,w):  9.793636171137598e-17 , 0.13090822466172658 Loss:  17109.63811220205\n"
     ]
    }
   ],
   "source": [
    "# Simplificação da nomenclatura\n",
    "mult = mult_logistic_regression()\n",
    "mult.learn_rate = 0.001;\n",
    "mult.n_iter = 50;\n",
    "\n",
    "# Treino utilizando GD\n",
    "start = time.perf_counter()\n",
    "#mult.trainGD(nom_X,nom_y)\n",
    "end = time.perf_counter()"
   ]
  },
  {
   "cell_type": "code",
   "execution_count": 378,
   "id": "b16c43c8-fe8c-4941-97cb-4584cd03acf1",
   "metadata": {},
   "outputs": [
    {
     "name": "stdout",
     "output_type": "stream",
     "text": [
      "1478.8030846000038\n",
      "Accuracy: [0.698   0.888   0.5855  0.89375 0.755   0.89975 0.87675 0.9045  0.88825\n",
      " 0.9    ]\n"
     ]
    }
   ],
   "source": [
    "# Lista de predições\n",
    "#predictions = mult.predict(nom_Xtest);\n",
    "\n",
    "correct = sum([t == p for t, p in zip(nom_ytest, predictions)])\n",
    "accuracy = correct / len(predictions)\n",
    "\n",
    "#print(f\"Accuracy: {accuracy}\")"
   ]
  },
  {
   "cell_type": "code",
   "execution_count": 376,
   "id": "3e312b21-70e8-4e6b-bc8b-0aec7dd407b7",
   "metadata": {},
   "outputs": [
    {
     "data": {
      "image/png": "[encoded data removed]",
      "text/plain": [
       "<Figure size 432x288 with 1 Axes>"
      ]
     },
     "metadata": {
      "needs_background": "light"
     },
     "output_type": "display_data"
    }
   ],
   "source": [
    "x_val = range(1, len(mult.loss_values)+1);\n",
    "y_val = mult.loss_values;\n",
    "\n",
    "#plt.plot(x_val,y_val)\n",
    "plt.plot(x_val,y_val,'or')\n",
    "plt.xlabel('Iterações')\n",
    "plt.ylabel('Objetiva')\n",
    "plt.show()"
   ]
  },
  {
   "cell_type": "markdown",
   "id": "f867981c-b53a-4aec-bb77-bd4c795bdb05",
   "metadata": {},
   "source": [
    "## 4.2. Treino com SGD"
   ]
  },
  {
   "cell_type": "code",
   "execution_count": 355,
   "id": "98e338c2-726d-46fc-b1e8-25c5f207e3a8",
   "metadata": {},
   "outputs": [
    {
     "name": "stdout",
     "output_type": "stream",
     "text": [
      "First stop: 0.9068953999958467\n",
      "Second stop: 28.896788099998957\n",
      "Third stop: 16.970444300000963\n",
      "0 Gradients (b,w):  1.2438834684491936e-20 , 1.6721522495858043e-05 Loss:  17902.68010227531\n",
      "First stop: 6.153897199998028\n",
      "Second stop: 34.57493200000317\n",
      "Third stop: 50.49047520000022\n",
      "1 Gradients (b,w):  1.1908442981712e-20 , 1.6715018971201673e-05 Loss:  17517.799328837187\n",
      "First stop: 4.777688699999999\n",
      "Second stop: 23.737357999998494\n",
      "Third stop: 17.703083399996103\n",
      "2 Gradients (b,w):  1.2085601616696157e-20 , 1.670364389513997e-05 Loss:  17246.62061129073\n",
      "First stop: 4.401624300000549\n",
      "Second stop: 25.99673310000071\n",
      "Third stop: 18.706383999997342\n",
      "3 Gradients (b,w):  1.211509191578773e-20 , 1.6677201677911272e-05 Loss:  17074.503874457427\n",
      "First stop: 4.366539800001192\n",
      "Second stop: 23.85811859999376\n",
      "Third stop: 154.04992280000442\n",
      "4 Gradients (b,w):  1.1932078589072168e-20 , 1.669718722493722e-05 Loss:  17074.004242706545\n",
      "First stop: 7.038727600003767\n",
      "Second stop: 30.121807600000466\n",
      "Third stop: 368.8118262000062\n",
      "50 Gradients (b,w):  1.2102081489717886e-20 , 1.6670863610485717e-05 Loss:  17074.004242706545\n"
     ]
    }
   ],
   "source": [
    "# Modelo com SGD. O valor inicial da taxa de aprendizado pode parecer contraditoriamente alto, mas lembra que dividimos o gradiente pelo número\n",
    "# de amostras e pelo número de features. Como o gradiente do SGD é naturalmente menor do que o gradiente total porque estamos fazendo amostragens de\n",
    "# menos componentes, temos que este valor mostrado foi o que mais acelerou a convergencia sem 'estourar' a rotina\n",
    "#mult = mult_logistic_regression();\n",
    "#mult.learn_rate = 20.0;\n",
    "#mult.n_iter = 50;\n",
    "\n",
    "# Treino utilizando SGD\n",
    "start = time.perf_counter()\n",
    "#mult.trainSGD(nom_X,nom_y, 64)\n",
    "end = time.perf_counter()"
   ]
  },
  {
   "cell_type": "code",
   "execution_count": 356,
   "id": "ce3b4a91-c20e-4884-917b-0f9b55e9b47b",
   "metadata": {},
   "outputs": [
    {
     "name": "stdout",
     "output_type": "stream",
     "text": [
      "821.6117178000059\n",
      "Accuracy: [0.73075 0.8815  0.8505  0.722   0.751   0.9     0.8865  0.9065  0.88775\n",
      " 0.9    ]\n"
     ]
    }
   ],
   "source": [
    "# Lista de predições\n",
    "#predictions = mult.predict(nom_Xtest);\n",
    "\n",
    "correct = sum([t == p for t, p in zip(nom_ytest, predictions)])\n",
    "accuracy = correct / len(predictions)\n",
    "\n",
    "print(f\"Accuracy: {accuracy}\")"
   ]
  },
  {
   "cell_type": "code",
   "execution_count": 357,
   "id": "32f25411-6d04-4c09-b861-90f318b4fd90",
   "metadata": {},
   "outputs": [
    {
     "data": {
      "image/png": "[encoded data removed]",
      "text/plain": [
       "<Figure size 432x288 with 1 Axes>"
      ]
     },
     "metadata": {
      "needs_background": "light"
     },
     "output_type": "display_data"
    }
   ],
   "source": [
    "#x_val = range(1,len(mult.loss_values)+1);\n",
    "#y_val = mult.loss_values;\n",
    "\n",
    "#plt.plot(x_val,y_val)\n",
    "plt.plot(x_val,y_val,'or')\n",
    "plt.xlabel('Iterações')\n",
    "plt.ylabel('Objetiva')\n",
    "plt.show()"
   ]
  },
  {
   "cell_type": "markdown",
   "id": "3d02cf4a-7ce8-42ea-a495-7b025a861bd0",
   "metadata": {},
   "source": [
    "## Conclusões"
   ]
  },
  {
   "cell_type": "markdown",
   "id": "d24da6c1-ca2f-4876-9d84-53b6627d751b",
   "metadata": {},
   "source": [
    "Devido ao fato dos classificadores de determinados dígitos serem muito melhores de serem treinados comparados aos outros, a rotina do $\\text{SGD}$ possui um desempenho geral muito superior à do $\\text{GD}$, porque permite que passos intermediários não estagnem em regiões de baixo gradiente total. Isto é, sua qualidade aleatória permite uma convergência mais uniforme e rápida."
   ]
  }
 ],
 "metadata": {
  "kernelspec": {
   "display_name": "Python 3 (ipykernel)",
   "language": "python",
   "name": "python3"
  },
  "language_info": {
   "codemirror_mode": {
    "name": "ipython",
    "version": 3
   },
   "file_extension": ".py",
   "mimetype": "text/x-python",
   "name": "python",
   "nbconvert_exporter": "python",
   "pygments_lexer": "ipython3",
   "version": "3.9.12"
  }
 },
 "nbformat": 4,
 "nbformat_minor": 5
}
